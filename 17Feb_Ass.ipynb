{
 "cells": [
  {
   "cell_type": "markdown",
   "id": "f42a52ff-4bb8-4ff9-b67f-5cb9a61e496c",
   "metadata": {},
   "source": [
    "Q1.What is MongoDB? Explain non-relational databases in short. In which scenarios it is preferred to use MongoDB over SQL databases?"
   ]
  },
  {
   "cell_type": "markdown",
   "id": "90183e67-d5a9-4e01-ae5c-2426d2937c91",
   "metadata": {},
   "source": [
    "MongoDB is a popular open-source document-oriented NoSQL database system. It stores data in the form of BSON (Binary JSON) documents, which are similar to JSON documents but with support for additional data types such as dates and binary data. MongoDB is highly scalable and flexible, allowing for the storage of large amounts of data across multiple servers, and it can also be easily integrated with various programming languages and frameworks.\n",
    "\n",
    "Non-relational databases, also known as NoSQL databases, are databases that do not use the traditional relational data model of tables and rows that SQL databases use. Instead, they use various other models such as document-oriented, key-value, column-family, and graph databases. Non-relational databases are often preferred for their ability to handle large amounts of unstructured and semi-structured data, their ease of scalability and flexibility, and their ability to handle high traffic and concurrent users.\n",
    "\n",
    "MongoDB is often preferred over SQL databases in scenarios where the data is unstructured or semi-structured and there is a need for high scalability and flexibility. Some common scenarios where MongoDB is used include:\n",
    "\n",
    "Real-time analytics and high-traffic web applications that require rapid data processing and retrieval.\n",
    "\n",
    "Storing and retrieving large amounts of data such as log files, social media data, and IoT sensor data.\n",
    "\n",
    "Applications that require a flexible schema and frequent updates to the data structure.\n",
    "\n",
    "Projects that require horizontal scaling, where data is distributed across multiple servers to improve performance and availability."
   ]
  },
  {
   "cell_type": "code",
   "execution_count": null,
   "id": "dbcc4af4-0bef-4c1d-8c76-7ac17d4febaa",
   "metadata": {},
   "outputs": [],
   "source": [
    "Q2.State and Explain the features of MongoDB."
   ]
  },
  {
   "cell_type": "markdown",
   "id": "d8283bca-7cda-4274-a7b3-b80ee193d07d",
   "metadata": {},
   "source": [
    "Document-Oriented: MongoDB stores data in documents, which are similar to JSON objects. Each document can have its own schema and can contain nested data structures. This makes it easy to store and retrieve complex, unstructured data.\n",
    "\n",
    "Scalability: MongoDB is highly scalable and can handle large volumes of data. It supports horizontal scaling, which means that data can be distributed across multiple servers to improve performance and availability.\n",
    "\n",
    "High Availability: MongoDB supports automatic failover and replica sets, which ensure that data is always available even if one or more servers go down.\n",
    "\n",
    "Flexibility: MongoDB is highly flexible and can handle dynamic schemas. This means that you can easily add, modify or remove fields from documents as your requirements change.\n",
    "\n",
    "Indexing: MongoDB supports various types of indexes, including single field, compound, and geospatial indexes. This allows for fast retrieval of data even for large datasets.\n",
    "\n",
    "Aggregation Framework: MongoDB provides a powerful aggregation framework for performing complex queries and data analysis.\n",
    "\n",
    "Security: MongoDB provides built-in security features such as authentication and authorization, encryption, and auditing.\n",
    "\n",
    "Integration: MongoDB can be easily integrated with various programming languages and frameworks, including Java, Python, Ruby, and Node.js."
   ]
  },
  {
   "cell_type": "code",
   "execution_count": null,
   "id": "12fcdf4f-b367-4adf-85cb-4f45f963408a",
   "metadata": {},
   "outputs": [],
   "source": [
    "Q3.Write a code to connect MongoDB to Python. Also, create a database and a collection in MongoDB."
   ]
  },
  {
   "cell_type": "code",
   "execution_count": null,
   "id": "c7dfdd6c-40fd-452b-90ed-2a907e76dfad",
   "metadata": {},
   "outputs": [],
   "source": [
    "import pymongo\n",
    "\n",
    "# Establish a connection to the MongoDB server\n",
    "client = pymongo.MongoClient(\"mongodb://localhost:27017/\")\n",
    "\n",
    "# Create a new database\n",
    "mydb = client[\"mydatabase\"]\n",
    "\n",
    "# Create a new collection in the database\n",
    "mycol = mydb[\"customers\"]\n",
    "\n",
    "# Insert a new document into the collection\n",
    "mydict = { \"name\": \"John\", \"address\": \"Highway 37\" }\n",
    "x = mycol.insert_one(mydict)\n",
    "\n",
    "# Print the ID of the inserted document\n",
    "print(x.inserted_id)\n"
   ]
  },
  {
   "cell_type": "code",
   "execution_count": null,
   "id": "e2fa61b6-36d1-4219-8fac-cca4d63646c5",
   "metadata": {},
   "outputs": [],
   "source": [
    "Q4.Using the database and the collection created in question number 3, write a code to insert one record,\n",
    "and insert many records. Use the find() and find_one() methods to print the inserted record."
   ]
  },
  {
   "cell_type": "code",
   "execution_count": null,
   "id": "c10823f8-07cc-46df-928d-8f2bd89abf5d",
   "metadata": {},
   "outputs": [],
   "source": [
    "import pymongo\n",
    "\n",
    "# Establish a connection to the MongoDB server\n",
    "client = pymongo.MongoClient(\"mongodb://localhost:27017/\")\n",
    "\n",
    "# Select the database and collection\n",
    "mydb = client[\"mydatabase\"]\n",
    "mycol = mydb[\"customers\"]\n",
    "\n",
    "# Insert one record into the collection\n",
    "record = { \"name\": \"Alice\", \"address\": \"123 Main St\" }\n",
    "result = mycol.insert_one(record)\n",
    "\n",
    "# Print the inserted record using find_one()\n",
    "print(mycol.find_one({ \"_id\": result.inserted_id }))\n",
    "\n",
    "# Insert many records into the collection\n",
    "records = [\n",
    "    { \"name\": \"Bob\", \"address\": \"456 Elm St\" },\n",
    "    { \"name\": \"Charlie\", \"address\": \"789 Oak St\" },\n",
    "    { \"name\": \"David\", \"address\": \"321 Pine St\" }\n",
    "]\n",
    "results = mycol.insert_many(records)\n",
    "\n",
    "# Print the inserted records using find()\n",
    "for record in mycol.find({ \"_id\": { \"$in\": results.inserted_ids } }):\n",
    "    print(record)\n"
   ]
  },
  {
   "cell_type": "code",
   "execution_count": null,
   "id": "0b7a3b5e-010c-4f59-bf3a-16e29752d580",
   "metadata": {},
   "outputs": [],
   "source": [
    "Q5.Explain how you can use the find() method to query the MongoDB database. Write a simple code to\n",
    "demonstrate this."
   ]
  },
  {
   "cell_type": "code",
   "execution_count": null,
   "id": "f093935e-7e82-44ce-a141-94d7b4d132bb",
   "metadata": {},
   "outputs": [],
   "source": [
    "#The find() method is used in MongoDB to query a collection for documents that match certain criteria. The find() method takes one or two arguments: a query object, which specifies the criteria to match, and an optional projection object, which specifies which fields to include or exclude from the result set.\n",
    "#Here's an example code snippet that demonstrates how to use the find() method to query a MongoDB collection using PyMongo:\n",
    "\n",
    "import pymongo\n",
    "\n",
    "# Establish a connection to the MongoDB server\n",
    "client = pymongo.MongoClient(\"mongodb://localhost:27017/\")\n",
    "\n",
    "# Select the database and collection\n",
    "mydb = client[\"mydatabase\"]\n",
    "mycol = mydb[\"customers\"]\n",
    "\n",
    "# Define a query object\n",
    "query = { \"name\": \"Alice\" }\n",
    "\n",
    "# Execute the query using find()\n",
    "results = mycol.find(query)\n",
    "\n",
    "# Print the results\n",
    "for result in results:\n",
    "    print(result)\n",
    "\n",
    "    \n",
    "#In this code, we first establish a connection to the MongoDB server and select the \"mydatabase\" database and \"customers\" collection that we created in the previous question.\n",
    "#We then define a query object that specifies the criteria to match: in this case, we want to find all documents where the \"name\" field is equal to \"Alice\".\n",
    "#We execute the query using the find() method, which returns a cursor object that we can iterate over to access the matching documents.\n",
    "#Finally, we print the results by iterating over the cursor and printing each document. In this case, we only expect to find one document that matches the query criteria, but find() can return multiple documents if there are multiple matches.\n"
   ]
  },
  {
   "cell_type": "code",
   "execution_count": null,
   "id": "80e2e48d-0b94-43e8-beaa-c71ba2ed6465",
   "metadata": {},
   "outputs": [],
   "source": [
    "Q6.Explain the sort() method. Give an example to demonstrate sorting in MongoDB."
   ]
  },
  {
   "cell_type": "code",
   "execution_count": null,
   "id": "52d31ece-af6d-4f12-9285-db927b710f87",
   "metadata": {},
   "outputs": [],
   "source": [
    "#The sort() method is used in MongoDB to sort the result set of a query in ascending or descending order based on one or more fields. The sort() method takes one or more arguments, each of which is a dictionary that specifies a field to sort on and the direction of the sort (either 1 for ascending or -1 for descending).\n",
    "#Here's an example code snippet that demonstrates how to use the sort() method to sort a MongoDB collection using PyMongo:\n",
    "\n",
    "\n",
    "import pymongo\n",
    "\n",
    "# Establish a connection to the MongoDB server\n",
    "client = pymongo.MongoClient(\"mongodb://localhost:27017/\")\n",
    "\n",
    "# Select the database and collection\n",
    "mydb = client[\"mydatabase\"]\n",
    "mycol = mydb[\"customers\"]\n",
    "\n",
    "# Define a query object\n",
    "query = { \"name\": { \"$regex\": \"^A\" } }\n",
    "\n",
    "# Define a sort order\n",
    "sort_order = [(\"name\", 1), (\"address\", -1)]\n",
    "\n",
    "# Execute the query using find() with sort()\n",
    "results = mycol.find(query).sort(sort_order)\n",
    "\n",
    "# Print the results\n",
    "for result in results:\n",
    "    print(result)\n",
    "\n",
    "    \n",
    "    \n",
    "    \n",
    "#In this code, we first establish a connection to the MongoDB server and select the \"mydatabase\" database and \"customers\" collection that we created in the previous question.\n",
    "#We then define a query object that specifies the criteria to match: in this case, we want to find all documents where the \"name\" field starts with the letter \"A\".\n",
    "#We also define a sort order using a list of tuples: the first tuple specifies that we want to sort on the \"name\" field in ascending order, and the second tuple specifies that we want to sort on the \"address\" field in descending order.\n",
    "#We execute the query using the find() method with the sort() method chained onto the end, which sorts the result set according to the specified sort order.\n",
    "#Finally, we print the results by iterating over the cursor and printing each document. In this case, we expect to find multiple documents that match the query criteria, sorted first by name in ascending order and then by address in descending order."
   ]
  },
  {
   "cell_type": "code",
   "execution_count": null,
   "id": "ec235916-0ff6-4c53-b42f-3c3b6d7a4e7e",
   "metadata": {},
   "outputs": [],
   "source": [
    "Q7.Explain why delete_one(), delete_many(), and drop() is used."
   ]
  },
  {
   "cell_type": "markdown",
   "id": "0a957496-0ac8-4854-8d7a-cc52998f88b0",
   "metadata": {},
   "source": [
    "In MongoDB, the delete_one() and delete_many() methods are used to remove one or many documents that match a specified filter from a collection. The drop() method is used to drop an entire collection from the database.\n",
    "\n",
    "The delete_one() method removes the first document that matches the filter, while the delete_many() method removes all documents that match the filter. These methods are useful when you want to selectively remove one or many documents from a collection, based on specific criteria. For example, you might use delete_one() to remove a single user account from a collection of user accounts, or delete_many() to remove all documents where the \"status\" field is set to \"inactive\".\n",
    "\n",
    "The drop() method, on the other hand, is used to delete an entire collection from the database. This method is useful when you want to delete all documents in a collection, or when you want to remove a collection entirely. For example, you might use drop() to remove a collection of log files that are no longer needed.\n",
    "\n",
    "It's important to note that these methods are permanent and irreversible, so you should use them with caution. Always double-check your filters and confirm that you're targeting the correct collection before executing these methods.\n"
   ]
  }
 ],
 "metadata": {
  "kernelspec": {
   "display_name": "Python 3 (ipykernel)",
   "language": "python",
   "name": "python3"
  },
  "language_info": {
   "codemirror_mode": {
    "name": "ipython",
    "version": 3
   },
   "file_extension": ".py",
   "mimetype": "text/x-python",
   "name": "python",
   "nbconvert_exporter": "python",
   "pygments_lexer": "ipython3",
   "version": "3.10.8"
  }
 },
 "nbformat": 4,
 "nbformat_minor": 5
}
