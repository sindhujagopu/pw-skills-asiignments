{
 "cells": [
  {
   "cell_type": "markdown",
   "id": "f7b7ec16-1810-4a36-b20f-d6293a440ee6",
   "metadata": {},
   "source": [
    "Q1. Create a Pandas Series that contains the following data: 4, 8, 15, 16, 23, and 42. Then, print the series."
   ]
  },
  {
   "cell_type": "code",
   "execution_count": 6,
   "id": "aa4d3e3f-1ef7-4408-97d5-3c07a6cb24df",
   "metadata": {},
   "outputs": [
    {
     "name": "stdout",
     "output_type": "stream",
     "text": [
      "0     4\n",
      "1     8\n",
      "2    15\n",
      "3    16\n",
      "4    23\n",
      "5    42\n",
      "dtype: int64\n"
     ]
    }
   ],
   "source": [
    "import pandas as pd\n",
    "\n",
    "# Create a Pandas Series\n",
    "data = [4, 8, 15, 16, 23, 42]\n",
    "my_series = pd.Series(data)\n",
    "\n",
    "# Print the Pandas Series\n",
    "print(my_series)\n"
   ]
  },
  {
   "cell_type": "markdown",
   "id": "fe10d833-9464-4115-bea2-b2537b36f76c",
   "metadata": {},
   "source": [
    "Q2. Create a variable of list type containing 10 elements in it, and apply pandas.Series function on the\n",
    "variable print it."
   ]
  },
  {
   "cell_type": "code",
   "execution_count": 5,
   "id": "7e0482d5-7971-47c6-866c-a92f2dfc57c0",
   "metadata": {},
   "outputs": [
    {
     "name": "stdout",
     "output_type": "stream",
     "text": [
      "0     10\n",
      "1     20\n",
      "2     30\n",
      "3     40\n",
      "4     50\n",
      "5     60\n",
      "6     70\n",
      "7     80\n",
      "8     90\n",
      "9    100\n",
      "dtype: int64\n"
     ]
    }
   ],
   "source": [
    "import pandas as pd\n",
    "\n",
    "# Create a list containing 10 elements\n",
    "my_list = [10, 20, 30, 40, 50, 60, 70, 80, 90, 100]\n",
    "\n",
    "# Convert the list to a Pandas Series\n",
    "my_series = pd.Series(my_list)\n",
    "\n",
    "# Print the Pandas Series\n",
    "print(my_series)\n"
   ]
  },
  {
   "cell_type": "markdown",
   "id": "3bd076a2-9b0f-48a3-abe9-ac08cec6900d",
   "metadata": {},
   "source": [
    "Q3. Create a Pandas DataFrame that contains the following data:\n",
    "    Name\n",
    "Alice\n",
    "Bob\n",
    "Claire\n",
    "\n",
    "Age\n",
    "25\n",
    "30\n",
    "27\n",
    "\n",
    "Gender\n",
    "Female\n",
    "Male\n",
    "Female\n",
    "Then, print the DataFrame."
   ]
  },
  {
   "cell_type": "code",
   "execution_count": 4,
   "id": "92db9195-6e63-4c53-9bd0-4a9971ccff85",
   "metadata": {},
   "outputs": [
    {
     "name": "stdout",
     "output_type": "stream",
     "text": [
      "     Name  Age  Gender\n",
      "0   Alice   25  Female\n",
      "1     Bob   30    Male\n",
      "2  Claire   27  Female\n"
     ]
    }
   ],
   "source": [
    "import pandas as pd\n",
    "\n",
    "data = {\n",
    "    'Name': ['Alice', 'Bob', 'Claire'],\n",
    "    'Age': [25, 30, 27],\n",
    "    'Gender': ['Female', 'Male', 'Female']\n",
    "}\n",
    "\n",
    "df = pd.DataFrame(data)\n",
    "\n",
    "print(df)\n"
   ]
  },
  {
   "cell_type": "markdown",
   "id": "bf56e68e-4cd7-4a14-813a-5d613a776ed0",
   "metadata": {},
   "source": [
    "Q4. What is ‘DataFrame’ in pandas and how is it different from pandas.series? Explain with an example."
   ]
  },
  {
   "cell_type": "markdown",
   "id": "9c7f5b5b-7afa-485d-99b6-5233d98a889e",
   "metadata": {},
   "source": [
    "In pandas, a DataFrame is a two-dimensional, size-mutable, and potentially heterogeneous tabular data structure. It can be thought of as a spreadsheet or SQL table where data is organized in rows and columns. Each column in a DataFrame is represented as a pandas.Series object, and these Series share a common index, allowing for easy alignment of data.\n",
    "\n",
    "Here's how a DataFrame is different from a Series:\n",
    "\n",
    "DataFrame:\n",
    "\n",
    "Two-dimensional structure with rows and columns.\n",
    "Can contain multiple columns, each of which can have different data types.\n",
    "Provides a tabular view of data, similar to a spreadsheet.\n",
    "Supports both row and column indexing.\n",
    "Ideal for representing structured data like CSV files, SQL tables, or Excel spreadsheets.\n",
    "Series:\n",
    "\n",
    "One-dimensional data structure, essentially a labeled array.\n",
    "Contains data of a single data type.\n",
    "Represents a single column or row of data.\n",
    "Indexed by labels or integers.\n",
    "Useful for representing one-dimensional data or a single column/row from a DataFrame.\n",
    "Here's an example to illustrate the difference between a DataFrame and a Series:\n",
    "\n"
   ]
  },
  {
   "cell_type": "code",
   "execution_count": 2,
   "id": "cd2bf0a3-21c1-4c27-8ec3-eb2905c704ad",
   "metadata": {},
   "outputs": [
    {
     "name": "stdout",
     "output_type": "stream",
     "text": [
      "DataFrame:\n",
      "      Name  Age\n",
      "0    Alice   25\n",
      "1      Bob   30\n",
      "2  Charlie   22\n",
      "\n",
      "Series:\n",
      "0    25\n",
      "1    30\n",
      "2    22\n",
      "Name: Age, dtype: int64\n"
     ]
    }
   ],
   "source": [
    "import pandas as pd\n",
    "\n",
    "# Creating a DataFrame\n",
    "data = {'Name': ['Alice', 'Bob', 'Charlie'],\n",
    "        'Age': [25, 30, 22]}\n",
    "df = pd.DataFrame(data)\n",
    "\n",
    "# Creating a Series\n",
    "ages = pd.Series([25, 30, 22], name='Age')\n",
    "\n",
    "# Displaying the DataFrame and Series\n",
    "print(\"DataFrame:\")\n",
    "print(df)\n",
    "print(\"\\nSeries:\")\n",
    "print(ages)\n"
   ]
  },
  {
   "cell_type": "markdown",
   "id": "55e8f497-6523-48fe-8339-dae4b874a7dd",
   "metadata": {},
   "source": [
    "In this example, we create a DataFrame df with two columns ('Name' and 'Age'). Each column is a Series, but they are combined into a DataFrame to represent a structured dataset. On the other hand, the ages Series contains only the 'Age' column data and is a one-dimensional data structure."
   ]
  },
  {
   "cell_type": "code",
   "execution_count": null,
   "id": "294554c0-ce00-47df-9c54-dbd95c41918f",
   "metadata": {},
   "outputs": [],
   "source": [
    "Q5. What are some common functions you can use to manipulate data in a Pandas DataFrame? Can\n",
    "you give an example of when you might use one of these functions?"
   ]
  },
  {
   "cell_type": "markdown",
   "id": "17f5323f-deb9-4bb8-9f8e-329472f10a59",
   "metadata": {},
   "source": [
    "Pandas provides a wide range of functions to manipulate data in a DataFrame. Here are some common functions and methods you can use:\n",
    "\n",
    "1.Selecting and Filtering Data:\n",
    "\n",
    "df['column_name'] or df.column_name: Select a specific column.\n",
    "df[['col1', 'col2']]: Select multiple columns.\n",
    "df.loc[row_label] or df.iloc[row_index]: Select rows by label or index.\n",
    "df[df['column_name'] > value]: Filter rows based on a condition.\n",
    "Example: Selecting rows where the 'Age' column is greater than 30.\n",
    "filtered_df = df[df['Age'] > 30]\n",
    "\n",
    "\n",
    "2.Sorting Data:\n",
    "\n",
    "df.sort_values(by='column_name'): Sort the DataFrame by a specific column.\n",
    "Example: Sorting the DataFrame by the 'Score' column in descending order.\n",
    "sorted_df = df.sort_values(by='Score', ascending=False)\n",
    "\n",
    "\n",
    "3.Aggregation and Summary Statistics:\n",
    "\n",
    "df.groupby('column_name').agg({'column_name': 'function'}): Perform aggregation operations (e.g., mean, sum) on grouped data.\n",
    "Example: Calculate the mean score for each age group.\n",
    "mean_scores = df.groupby('Age').agg({'Score': 'mean'})\n",
    "\n",
    "\n",
    "4.Changing Data:\n",
    "\n",
    "df['new_column'] = some_value: Add a new column to the DataFrame.\n",
    "df['column_name'].apply(function): Apply a function to a column.\n",
    "Example: Create a new column 'Grade' based on the 'Score' column.\n",
    "df['Grade'] = df['Score'].apply(lambda x: 'A' if x >= 90 else 'B' if x >= 80 else 'C')\n",
    "\n",
    "\n",
    "5.Handling Missing Data:\n",
    "\n",
    "df.isnull(), df.notnull(): Check for missing values.\n",
    "df.dropna(): Remove rows with missing values.\n",
    "df.fillna(value): Replace missing values with a specific value.\n",
    "Example: Replace missing values in the 'Age' column with the mean age.\n",
    "mean_age = df['Age'].mean()\n",
    "df['Age'].fillna(mean_age, inplace=True)\n",
    "\n",
    "\n",
    "6.Merging and Joining DataFrames:\n",
    "\n",
    "pd.concat([df1, df2]): Concatenate two DataFrames.\n",
    "df1.merge(df2, on='key'): Merge two DataFrames on a common column.\n",
    "Example: Merge two DataFrames based on a common 'ID' column.\n",
    "merged_df = df1.merge(df2, on='ID')\n"
   ]
  },
  {
   "cell_type": "code",
   "execution_count": null,
   "id": "6f9e0004-f838-4c03-b045-cb811b904458",
   "metadata": {},
   "outputs": [],
   "source": [
    "Q6. Which of the following is mutable in nature Series, DataFrame, Panel?"
   ]
  },
  {
   "cell_type": "markdown",
   "id": "85a319d1-0e65-42ad-a459-6f48566605bc",
   "metadata": {},
   "source": [
    "In the context of pandas, which is a popular Python library for data manipulation and analysis, the mutability of Series, DataFrame, and Panel objects can be explained as follows:\n",
    "\n",
    "Series: Series objects are mutable. This means you can modify the values of a Series after it has been created. You can change individual elements within a Series by assigning new values to specific index labels.\n",
    "import pandas as pd\n",
    "\n",
    "# Create a Series\n",
    "s = pd.Series([1, 2, 3, 4, 5])\n",
    "\n",
    "# Modify a value in the Series\n",
    "s[2] = 10\n",
    "\n",
    "DataFrame: DataFrame objects are also mutable. You can modify the contents of a DataFrame by adding, updating, or deleting rows and columns. You can change the values of specific cells, columns, or rows.\n",
    "\n",
    "Example:\n",
    "import pandas as pd\n",
    "\n",
    "# Create a DataFrame\n",
    "data = {'A': [1, 2, 3], 'B': [4, 5, 6]}\n",
    "df = pd.DataFrame(data)\n",
    "\n",
    "# Modify a value in the DataFrame\n",
    "df.at[1, 'B'] = 10\n",
    " \n",
    "    \n",
    "Panel: In earlier versions of pandas (before version 0.25.0), there was a data structure called Panel, which was designed to handle three-dimensional data. However, Panel was deprecated and removed from pandas due to its complexity and lack of common use cases. As of my last knowledge update in September 2021, Panel is no longer a part of the pandas library. Therefore, there is no need to discuss its mutability."
   ]
  },
  {
   "cell_type": "markdown",
   "id": "1bc051af-1976-449b-8de8-2c964a6c0d64",
   "metadata": {},
   "source": [
    "Q7. Create a DataFrame using multiple Series. Explain with an example."
   ]
  },
  {
   "cell_type": "code",
   "execution_count": 1,
   "id": "fb245ad9-deef-4479-816a-40849e1c6605",
   "metadata": {},
   "outputs": [
    {
     "name": "stdout",
     "output_type": "stream",
     "text": [
      "      Name  Age  Score\n",
      "0    Alice   25     95\n",
      "1      Bob   30     89\n",
      "2  Charlie   22     78\n",
      "3    David   35     92\n"
     ]
    }
   ],
   "source": [
    "import pandas as pd\n",
    "\n",
    "# Creating multiple Series\n",
    "names = pd.Series([\"Alice\", \"Bob\", \"Charlie\", \"David\"])\n",
    "ages = pd.Series([25, 30, 22, 35])\n",
    "scores = pd.Series([95, 89, 78, 92])\n",
    "\n",
    "# Creating a DataFrame by combining the Series\n",
    "data = {\n",
    "    \"Name\": names,\n",
    "    \"Age\": ages,\n",
    "    \"Score\": scores\n",
    "}\n",
    "\n",
    "df = pd.DataFrame(data)\n",
    "\n",
    "# Displaying the DataFrame\n",
    "print(df)\n"
   ]
  },
  {
   "cell_type": "markdown",
   "id": "d44f6d69-ef50-46d0-826f-bba91c2d3595",
   "metadata": {},
   "source": [
    "In this example:\n",
    "\n",
    "We import the pandas library as pd.\n",
    "We create three Series: names, ages, and scores. These Series represent columns of our DataFrame.\n",
    "We create a dictionary called data where each key represents the column name, and the corresponding value is the Series that will populate that column in the DataFrame.\n",
    "We use the pd.DataFrame() constructor to create the DataFrame df by passing the data dictionary.\n",
    "Finally, we print the DataFrame, which will display the following "
   ]
  }
 ],
 "metadata": {
  "kernelspec": {
   "display_name": "Python 3 (ipykernel)",
   "language": "python",
   "name": "python3"
  },
  "language_info": {
   "codemirror_mode": {
    "name": "ipython",
    "version": 3
   },
   "file_extension": ".py",
   "mimetype": "text/x-python",
   "name": "python",
   "nbconvert_exporter": "python",
   "pygments_lexer": "ipython3",
   "version": "3.10.8"
  }
 },
 "nbformat": 4,
 "nbformat_minor": 5
}
