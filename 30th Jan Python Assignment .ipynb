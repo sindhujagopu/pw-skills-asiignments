{
 "cells": [
  {
   "cell_type": "code",
   "execution_count": 40,
   "id": "f9a66e1f-d1a0-48e5-ba53-045a0b764683",
   "metadata": {},
   "outputs": [
    {
     "name": "stdin",
     "output_type": "stream",
     "text": [
      "Enter percentage 50\n"
     ]
    },
    {
     "name": "stdout",
     "output_type": "stream",
     "text": [
      "Grade:D\n"
     ]
    }
   ],
   "source": [
    "#1.write a program to accept percentage from the user and display the grade according to the following criteria\n",
    "percentage = int(input(\"Enter percentage\"))\n",
    "if percentage > 90:\n",
    "    print(\"Grade:A\")\n",
    "elif percentage > 80 and percentage <= 90:\n",
    "    print(\"Grade:B\")\n",
    "elif percentage >= 60 and percentage <= 80:\n",
    "    print(\"Grade:c\")\n",
    "else:\n",
    "    print(\"Grade:D\")"
   ]
  },
  {
   "cell_type": "code",
   "execution_count": 39,
   "id": "17dee5e7-f8bd-4726-831c-0c4bd2ebb660",
   "metadata": {},
   "outputs": [
    {
     "name": "stdin",
     "output_type": "stream",
     "text": [
      "Enter cost price of a bike 500000\n"
     ]
    },
    {
     "name": "stdout",
     "output_type": "stream",
     "text": [
      "75000.0 is the road tax to be paid\n"
     ]
    }
   ],
   "source": [
    "#2.write a program to accept the cost price of a bie and display the road tax to be paid according to the following criteria.\n",
    "cost_price = int(input(\"Enter the cost price of a bike\"))\n",
    "if cost_price > 100000:\n",
    "    tax = 0.15 \n",
    "elif cost_price > 50000 and cost_price <= 100000:\n",
    "    tax = 0.10\n",
    "elif cost_price <= 50000:\n",
    "    tax = 0.05\n",
    "road_tax = cost_price * tax\n",
    "print(\"{} is the road tax to be paid\".format(road_tax))"
   ]
  },
  {
   "cell_type": "code",
   "execution_count": 34,
   "id": "f89db2fb-0160-44ce-b1bf-31375220a969",
   "metadata": {},
   "outputs": [
    {
     "name": "stdout",
     "output_type": "stream",
     "text": [
      "Delhi\n",
      "Agra\n",
      "Jaipur\n"
     ]
    },
    {
     "name": "stdin",
     "output_type": "stream",
     "text": [
      "Enter any city name chennai\n"
     ]
    },
    {
     "name": "stdout",
     "output_type": "stream",
     "text": [
      "Enter a valid city\n"
     ]
    }
   ],
   "source": [
    "#3.Accept any city from the user and display monument of that city.\n",
    "print(\"Delhi\\nAgra\\nJaipur\")\n",
    "city = input(\"Enter any city name\")\n",
    "if city.upper() == \"DELHI\":\n",
    "    print(\"Monument is: Red Fort\")\n",
    "elif city.upper() == \"AGRA\":\n",
    "    print(\"Monument is: Taj Mahal\")\n",
    "elif city.upper() == \"JAIPUR\":\n",
    "    print(\"Monument is: Jal Mahal\")\n",
    "else:\n",
    "    print(\"Enter a valid city\")"
   ]
  },
  {
   "cell_type": "code",
   "execution_count": 72,
   "id": "20661a6a-5c2a-429f-ba5f-704455067566",
   "metadata": {},
   "outputs": [
    {
     "name": "stdin",
     "output_type": "stream",
     "text": [
      "Enter any number 25\n"
     ]
    },
    {
     "name": "stdout",
     "output_type": "stream",
     "text": [
      "1\n"
     ]
    }
   ],
   "source": [
    "#4.check how many times a given number can be divided by 3 before it is less than or equal to 10.\n",
    "num = int(input(\"Enter any number\"))\n",
    "count = 0\n",
    "while num > 10:\n",
    "    num = num // 3\n",
    "    count = count+1\n",
    "else:\n",
    "    print(count)"
   ]
  },
  {
   "cell_type": "code",
   "execution_count": 69,
   "id": "63b181a5-c40e-48ae-a447-65c69920bea6",
   "metadata": {},
   "outputs": [
    {
     "name": "stdout",
     "output_type": "stream",
     "text": [
      "1\n",
      "2\n",
      "3\n",
      "4\n",
      "5\n"
     ]
    }
   ],
   "source": [
    "#5.why and when to use while loop in python give a detailed description with example\n",
    "'''A while loop in Python is used to repeatedly execute a block of code as long as a given condition is true. The basic syntax of a while loop in Python is as follows:\n",
    "syntax:\n",
    "while condition:\n",
    "    statements\n",
    "The condition is a Boolean expression that is evaluated before each iteration of the loop. If the condition is True, the code block inside the loop is executed. The loop continues to execute as long as the condition remains True. Once the condition becomes False, the loop terminates and the program control passes to the next statement outside the loop.'''\n",
    "\n",
    "#Here is a simple example of using a while loop in Python to print the numbers from 1 to 10:\n",
    "i = 1\n",
    "while i <= 5:\n",
    "    print(i)\n",
    "    i += 1\n",
    "    \n",
    "#In this example, the variable i is initialized to 1, and the while loop is used to repeat the print statement until the value of i becomes greater than 5. In each iteration, i is incremented by 1 to avoid an infinite loop.\n",
    "#while loops are useful when you want to repeat a block of code an unknown number of times. For example, you can use a while loop to keep asking a user for input until they provide a valid response, or to process items in a list until all of them have been processed.\n"
   ]
  },
  {
   "cell_type": "code",
   "execution_count": 58,
   "id": "d63eaa80-e09a-4c52-85aa-af6ac26fd1a1",
   "metadata": {},
   "outputs": [
    {
     "name": "stdout",
     "output_type": "stream",
     "text": [
      "*\n",
      "**\n",
      "***\n",
      "****\n",
      "*****\n",
      "\n",
      "\n",
      "*****\n",
      "****\n",
      "***\n",
      "**\n",
      "*\n",
      "\n",
      "\n",
      "    *\n",
      "   ***\n",
      "  *****\n",
      " *******\n",
      "*********\n"
     ]
    }
   ],
   "source": [
    "#6.use nested while loop to print 3 different pattern\n",
    "#1st pattern\n",
    "n= 5\n",
    "i = 1\n",
    "while i <= n:\n",
    "    j = 1\n",
    "    while j <= i:\n",
    "        print(\"*\", end=\"\")\n",
    "        j += 1\n",
    "    print()\n",
    "    i += 1\n",
    "    \n",
    "# 2nd pattern\n",
    "print(\"\\n\")\n",
    "n = 5\n",
    "i = n\n",
    "while i >= 1:\n",
    "    j = 1\n",
    "    while j <= i:\n",
    "        print(\"*\", end=\"\")\n",
    "        j += 1\n",
    "    print()\n",
    "    i -= 1\n",
    "\n",
    "# 3rd pattern\n",
    "print(\"\\n\")\n",
    "n = 5\n",
    "i = 1\n",
    "while i <= n:\n",
    "    j = 1\n",
    "    while j <= n-i:\n",
    "        print(\" \", end=\"\")\n",
    "        j += 1\n",
    "    k = 1\n",
    "    while k <= 2*i-1:\n",
    "        print(\"*\", end=\"\")\n",
    "        k += 1\n",
    "    print()\n",
    "    i += 1\n"
   ]
  },
  {
   "cell_type": "code",
   "execution_count": 59,
   "id": "8198e77b-1d1e-48a5-8b4a-3a321c238197",
   "metadata": {},
   "outputs": [
    {
     "name": "stdout",
     "output_type": "stream",
     "text": [
      "10\n",
      "9\n",
      "8\n",
      "7\n",
      "6\n",
      "5\n",
      "4\n",
      "3\n",
      "2\n",
      "1\n"
     ]
    }
   ],
   "source": [
    "#7.reverse a while loop to display numbers from 10 t0 1\n",
    "i = 10\n",
    "while i >= 1:\n",
    "    print(i)\n",
    "    i -= 1"
   ]
  },
  {
   "cell_type": "code",
   "execution_count": 70,
   "id": "5b717134-dc74-4b05-b24d-a49cfa90bf8e",
   "metadata": {},
   "outputs": [
    {
     "name": "stdout",
     "output_type": "stream",
     "text": [
      "10\n",
      "9\n",
      "8\n",
      "7\n",
      "6\n",
      "5\n",
      "4\n",
      "3\n",
      "2\n",
      "1\n"
     ]
    }
   ],
   "source": [
    "#8.reverse a while loop to display numbers from 10 t0 1\n",
    "i = 10\n",
    "while i >= 1:\n",
    "    print(i)\n",
    "    i -= 1"
   ]
  },
  {
   "cell_type": "code",
   "execution_count": null,
   "id": "0b3fbcae-4e6e-4630-ac4b-9983ba47962c",
   "metadata": {},
   "outputs": [],
   "source": []
  }
 ],
 "metadata": {
  "kernelspec": {
   "display_name": "Python 3 (ipykernel)",
   "language": "python",
   "name": "python3"
  },
  "language_info": {
   "codemirror_mode": {
    "name": "ipython",
    "version": 3
   },
   "file_extension": ".py",
   "mimetype": "text/x-python",
   "name": "python",
   "nbconvert_exporter": "python",
   "pygments_lexer": "ipython3",
   "version": "3.10.8"
  }
 },
 "nbformat": 4,
 "nbformat_minor": 5
}
