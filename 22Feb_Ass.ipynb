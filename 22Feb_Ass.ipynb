{
 "cells": [
  {
   "cell_type": "code",
   "execution_count": null,
   "id": "f785cff8-9fea-483e-8819-c03216b9ffb5",
   "metadata": {},
   "outputs": [],
   "source": [
    "Go to this given URL and solve the following questions\n",
    "URL: https://www.youtube.com/@PW-Foundation/videos"
   ]
  },
  {
   "cell_type": "markdown",
   "id": "d61159b2-d8d8-477c-9eb4-4ded8d238bc8",
   "metadata": {},
   "source": [
    "Q1. Write a python program to extract the video URL of the first five videos."
   ]
  },
  {
   "cell_type": "code",
   "execution_count": 1,
   "id": "9256384d-8758-4a83-a1c0-8387e02e6f26",
   "metadata": {},
   "outputs": [
    {
     "name": "stdout",
     "output_type": "stream",
     "text": [
      "Video URLs of the first five videos:\n"
     ]
    }
   ],
   "source": [
    "import requests\n",
    "from bs4 import BeautifulSoup\n",
    "\n",
    "def extract_video_urls():\n",
    "    url = \"https://www.youtube.com/@PW-Foundation/videos\"\n",
    "    response = requests.get(url)\n",
    "    soup = BeautifulSoup(response.content, \"html.parser\")\n",
    "\n",
    "    video_urls = []\n",
    "\n",
    "    # Extracting video URLs\n",
    "    for video in soup.find_all(\"div\", {\"class\": \"text-wrapper style-scope ytd-grid-video-renderer\"}):\n",
    "        video_link = video.find(\"a\")[\"href\"]\n",
    "        video_url = f\"https://www.youtube.com{video_link}\"\n",
    "        video_urls.append(video_url)\n",
    "\n",
    "    return video_urls[:5]\n",
    "\n",
    "if __name__ == \"__main__\":\n",
    "    video_urls = extract_video_urls()\n",
    "    print(\"Video URLs of the first five videos:\")\n",
    "    for index, url in enumerate(video_urls, 1):\n",
    "        print(f\"{index}. {url}\")\n"
   ]
  },
  {
   "cell_type": "markdown",
   "id": "1f7650ef-d357-4586-978c-7f511e51b78f",
   "metadata": {},
   "source": [
    "Q2. Write a python program to extract the URL of the video thumbnails of the first five videos."
   ]
  },
  {
   "cell_type": "code",
   "execution_count": 2,
   "id": "92dce527-f3b0-43bc-a846-033fa1ee4086",
   "metadata": {},
   "outputs": [
    {
     "name": "stdout",
     "output_type": "stream",
     "text": [
      "URLs of the video thumbnails of the first five videos:\n"
     ]
    }
   ],
   "source": [
    "import requests\n",
    "from bs4 import BeautifulSoup\n",
    "\n",
    "def extract_thumbnail_urls():\n",
    "    url = \"https://www.youtube.com/@PW-Foundation/videos\"\n",
    "    response = requests.get(url)\n",
    "    soup = BeautifulSoup(response.content, \"html.parser\")\n",
    "\n",
    "    thumbnail_urls = []\n",
    "\n",
    "    # Extracting video thumbnail URLs\n",
    "    for video in soup.find_all(\"div\", {\"class\": \"text-wrapper style-scope ytd-grid-video-renderer\"}):\n",
    "        thumbnail_link = video.find(\"img\")[\"src\"]\n",
    "        thumbnail_urls.append(thumbnail_link)\n",
    "\n",
    "    return thumbnail_urls[:5]\n",
    "\n",
    "if __name__ == \"__main__\":\n",
    "    thumbnail_urls = extract_thumbnail_urls()\n",
    "    print(\"URLs of the video thumbnails of the first five videos:\")\n",
    "    for index, url in enumerate(thumbnail_urls, 1):\n",
    "        print(f\"{index}. {url}\")\n"
   ]
  },
  {
   "cell_type": "markdown",
   "id": "10991163-daf7-45c3-a5a1-3bb91f8cfd3f",
   "metadata": {},
   "source": [
    "Q3. Write a python program to extract the title of the first five videos."
   ]
  },
  {
   "cell_type": "code",
   "execution_count": 3,
   "id": "4279f300-8f2c-44e5-af8c-e41ee42f8f5f",
   "metadata": {},
   "outputs": [
    {
     "name": "stdout",
     "output_type": "stream",
     "text": [
      "Titles of the first five videos:\n"
     ]
    }
   ],
   "source": [
    "import requests\n",
    "from bs4 import BeautifulSoup\n",
    "\n",
    "def extract_video_titles():\n",
    "    url = \"https://www.youtube.com/@PW-Foundation/videos\"\n",
    "    response = requests.get(url)\n",
    "    soup = BeautifulSoup(response.content, \"html.parser\")\n",
    "\n",
    "    titles = []\n",
    "\n",
    "    # Extracting video titles\n",
    "    for video in soup.find_all(\"div\", {\"class\": \"text-wrapper style-scope ytd-grid-video-renderer\"}):\n",
    "        title = video.find(\"a\", {\"title\": True})[\"title\"]\n",
    "        titles.append(title)\n",
    "\n",
    "    return titles[:5]\n",
    "\n",
    "if __name__ == \"__main__\":\n",
    "    video_titles = extract_video_titles()\n",
    "    print(\"Titles of the first five videos:\")\n",
    "    for index, title in enumerate(video_titles, 1):\n",
    "        print(f\"{index}. {title}\")\n"
   ]
  },
  {
   "cell_type": "code",
   "execution_count": null,
   "id": "f691519f-db51-4fa1-b800-cddf0ceac64e",
   "metadata": {},
   "outputs": [],
   "source": [
    "Q4. Write a python program to extract the number of views of the first five videos."
   ]
  },
  {
   "cell_type": "code",
   "execution_count": 4,
   "id": "74fdf5fe-2e89-4fcd-b8d4-5530517c684b",
   "metadata": {},
   "outputs": [
    {
     "name": "stdout",
     "output_type": "stream",
     "text": [
      "Number of views of the first five videos:\n"
     ]
    }
   ],
   "source": [
    "import requests\n",
    "from bs4 import BeautifulSoup\n",
    "\n",
    "def extract_video_views():\n",
    "    url = \"https://www.youtube.com/@PW-Foundation/videos\"\n",
    "    response = requests.get(url)\n",
    "    soup = BeautifulSoup(response.content, \"html.parser\")\n",
    "\n",
    "    views = []\n",
    "\n",
    "    # Extracting video views\n",
    "    for video in soup.find_all(\"div\", {\"class\": \"text-wrapper style-scope ytd-grid-video-renderer\"}):\n",
    "        view_text = video.find(\"span\", {\"class\": \"style-scope ytd-grid-video-renderer\"}).get_text().strip()\n",
    "        views.append(view_text)\n",
    "\n",
    "    return views[:5]\n",
    "\n",
    "if __name__ == \"__main__\":\n",
    "    video_views = extract_video_views()\n",
    "    print(\"Number of views of the first five videos:\")\n",
    "    for index, views in enumerate(video_views, 1):\n",
    "        print(f\"{index}. {views}\")\n"
   ]
  },
  {
   "cell_type": "markdown",
   "id": "e2f4fd3b-62e8-4de8-b42e-8acc4a64feb5",
   "metadata": {},
   "source": [
    "Q5. Write a python program to extract the time of posting of video for the first five videos."
   ]
  },
  {
   "cell_type": "code",
   "execution_count": 5,
   "id": "408b1f85-9af0-44c0-923b-d46281e15ab9",
   "metadata": {},
   "outputs": [
    {
     "name": "stdout",
     "output_type": "stream",
     "text": [
      "Time of posting of the first five videos:\n"
     ]
    }
   ],
   "source": [
    "import requests\n",
    "from bs4 import BeautifulSoup\n",
    "\n",
    "def extract_posting_times():\n",
    "    url = \"https://www.youtube.com/@PW-Foundation/videos\"\n",
    "    response = requests.get(url)\n",
    "    soup = BeautifulSoup(response.content, \"html.parser\")\n",
    "\n",
    "    posting_times = []\n",
    "\n",
    "    # Extracting posting times of videos\n",
    "    for video in soup.find_all(\"div\", {\"class\": \"text-wrapper style-scope ytd-grid-video-renderer\"}):\n",
    "        time_posted = video.find(\"div\", {\"class\": \"style-scope ytd-grid-video-renderer\"}).get_text().strip()\n",
    "        posting_times.append(time_posted)\n",
    "\n",
    "    return posting_times[:5]\n",
    "\n",
    "if __name__ == \"__main__\":\n",
    "    posting_times = extract_posting_times()\n",
    "    print(\"Time of posting of the first five videos:\")\n",
    "    for index, time in enumerate(posting_times, 1):\n",
    "        print(f\"{index}. {time}\")\n"
   ]
  }
 ],
 "metadata": {
  "kernelspec": {
   "display_name": "Python 3 (ipykernel)",
   "language": "python",
   "name": "python3"
  },
  "language_info": {
   "codemirror_mode": {
    "name": "ipython",
    "version": 3
   },
   "file_extension": ".py",
   "mimetype": "text/x-python",
   "name": "python",
   "nbconvert_exporter": "python",
   "pygments_lexer": "ipython3",
   "version": "3.10.8"
  }
 },
 "nbformat": 4,
 "nbformat_minor": 5
}
