{
 "cells": [
  {
   "cell_type": "code",
   "execution_count": 30,
   "id": "e5015acc-4ad0-4660-9f1a-9c97e1c8c870",
   "metadata": {},
   "outputs": [
    {
     "name": "stdout",
     "output_type": "stream",
     "text": [
      "After sorting: [('Virat Kohli', 24936), ('Jack Kallis', 25534), ('Ricy Ponting', 27483), ('Sachin Tendulkar', 34357)]\n"
     ]
    }
   ],
   "source": [
    "#Q1.Create a python program to sort the given list of tuples based on integer value using a lambda function.\n",
    "#[('Sachin Tendulkar',34357),('Ricy Ponting',27483),('Jack Kallis',25534),('Virat Kohli',24936)]\n",
    "\n",
    "player_names=[('Sachin Tendulkar',34357),('Ricy Ponting',27483),('Jack Kallis',25534),('Virat Kohli',24936)]\n",
    "sorted_names=sorted(player_names, key=lambda x: x[1])\n",
    "print(\"After sorting:\",sorted_names)"
   ]
  },
  {
   "cell_type": "code",
   "execution_count": 31,
   "id": "84801fe9-3d11-429c-a221-55461321bbfc",
   "metadata": {},
   "outputs": [
    {
     "name": "stdout",
     "output_type": "stream",
     "text": [
      "[1, 4, 9, 16, 25, 36, 49, 64, 81, 100]\n"
     ]
    }
   ],
   "source": [
    "#Q2. Write a Python Program to find the squares of all the numbers in the given list of integers using lambda and map functions. [1, 2, 3, 4, 5, 6, 7, 8, 9, 10]\n",
    "\n",
    "num1=[1,2,3,4,5,6,7,8,9,10]\n",
    "square_of_num=list(map(lambda i: i**2,num1))\n",
    "print(square_of_num)"
   ]
  },
  {
   "cell_type": "code",
   "execution_count": 32,
   "id": "d80bbaa1-889d-4bc4-8ed1-f8adfa050b3b",
   "metadata": {},
   "outputs": [
    {
     "name": "stdout",
     "output_type": "stream",
     "text": [
      "['1', '2', '3', '4', '5', '6', '7', '8', '9', '10']\n"
     ]
    }
   ],
   "source": [
    "#Q3.Write a python program to convert the given list of integers into a tuple of strings. Use map and lambda functions Given String: [1, 2, 3, 4, 5, 6, 7, 8, 9, 10] Expected output: ('1', '2', '3', '4', '5', '6', '7', '8', '9', '10')\n",
    "\n",
    "num2=[1,2,3,4,5,6,7,8,9,10]\n",
    "num_to_str=list(map(lambda x: str(x),num2))\n",
    "print(num_to_str)"
   ]
  },
  {
   "cell_type": "code",
   "execution_count": 33,
   "id": "f88295a1-9941-479d-a1bd-e294e4dd717c",
   "metadata": {},
   "outputs": [
    {
     "name": "stdout",
     "output_type": "stream",
     "text": [
      "15511210043330985984000000\n"
     ]
    }
   ],
   "source": [
    "#Q4. Write a python program using reduce function to compute the product of a list containing numbers from 1 to 25.\n",
    "\n",
    "from functools import reduce\n",
    "num3=[i for i in range(1,26)]\n",
    "product_of_nums=reduce(lambda x,y: x*y,num3)\n",
    "print(product_of_nums)"
   ]
  },
  {
   "cell_type": "code",
   "execution_count": 35,
   "id": "50be6892-3d49-4173-97bf-577757bca708",
   "metadata": {},
   "outputs": [
    {
     "name": "stdout",
     "output_type": "stream",
     "text": [
      "[6, 60, 90, 120]\n"
     ]
    }
   ],
   "source": [
    "#Q5. Write a python program to filter the numbers in a given list that are divisible by 2 and 3 using the filter function. [2, 3, 6, 9, 27, 60, 90, 120, 55, 46]\n",
    "\n",
    "num4=[2,3,6,9,27,60,90,120,55,46]\n",
    "res=list(filter(lambda x: x%2 == 0 and x%3 == 0 , num4))\n",
    "print(res)"
   ]
  },
  {
   "cell_type": "code",
   "execution_count": 36,
   "id": "28fd2781-3f47-4a58-beef-c89af549c27e",
   "metadata": {},
   "outputs": [
    {
     "name": "stdout",
     "output_type": "stream",
     "text": [
      "['php', 'aba', 'radar', 'level']\n"
     ]
    }
   ],
   "source": [
    "#Q6. Write a python program to find palindromes in the given list of strings using lambda and filter function. ['python', 'php', 'aba', 'radar', 'level']\n",
    "\n",
    "data1 = ['python','php','aba','radar','level']\n",
    "res1 = list(filter(lambda x: x == x[::-1],data1))\n",
    "print(res1)"
   ]
  }
 ],
 "metadata": {
  "kernelspec": {
   "display_name": "Python 3 (ipykernel)",
   "language": "python",
   "name": "python3"
  },
  "language_info": {
   "codemirror_mode": {
    "name": "ipython",
    "version": 3
   },
   "file_extension": ".py",
   "mimetype": "text/x-python",
   "name": "python",
   "nbconvert_exporter": "python",
   "pygments_lexer": "ipython3",
   "version": "3.10.8"
  }
 },
 "nbformat": 4,
 "nbformat_minor": 5
}
