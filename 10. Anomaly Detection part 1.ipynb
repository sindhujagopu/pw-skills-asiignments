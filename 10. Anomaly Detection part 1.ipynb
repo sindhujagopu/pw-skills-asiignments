{
 "cells": [
  {
   "cell_type": "markdown",
   "id": "85493fcd",
   "metadata": {},
   "source": [
    "## Q1. What is anomaly detection and what is its purpose?"
   ]
  },
  {
   "cell_type": "markdown",
   "id": "d76e1bed",
   "metadata": {},
   "source": [
    "\n",
    "Anomaly detection, also known as outlier detection, is a technique used in data analysis and machine learning to identify patterns or data points that significantly deviate from the norm or expected behavior. Anomalies are observations that do not conform to the expected patterns or behaviors in a dataset. The purpose of anomaly detection is to uncover unusual or suspicious data points that may indicate fraudulent activity, errors, defects, or other interesting events.\n",
    "\n",
    "The main objectives of anomaly detection are:\n",
    "\n",
    "Identification of unusual patterns: Anomaly detection helps to identify data points or patterns that are significantly different from the majority of the data. These anomalies may represent rare events, outliers, or abnormal behavior.\n",
    "\n",
    "Detection of anomalies in real-time: Anomaly detection algorithms are often designed to work in real-time, allowing for the timely detection and response to abnormal events or behavior. This is crucial in various domains such as cybersecurity, fraud detection, and system monitoring.\n",
    "\n",
    "Data quality assurance: Anomaly detection can be used to identify errors or inconsistencies in data. By detecting anomalous data points, it becomes possible to investigate and correct the underlying issues that led to those anomalies, ensuring data quality.\n",
    "\n",
    "Identification of novel or emerging patterns: Anomaly detection can help in discovering new and previously unknown patterns or behaviors in data. This is particularly useful in fields such as scientific research, where identifying novel phenomena or outliers can lead to new insights and discoveries.\n",
    "\n",
    "Risk mitigation and decision support: By identifying anomalies, anomaly detection enables proactive risk management and decision-making. It helps in flagging potential risks, taking appropriate actions, and minimizing the negative impact of anomalies on business operations or critical systems.\n",
    "\n",
    "Anomaly detection techniques vary depending on the specific application, the type of data, and the available algorithms. Some commonly used approaches include statistical methods, machine learning algorithms, clustering techniques, and domain-specific rule-based systems. The choice of technique depends on the characteristics of the data and the specific requirements of the problem at han"
   ]
  },
  {
   "cell_type": "markdown",
   "id": "907f4b7b",
   "metadata": {},
   "source": [
    "## Q2. What are the key challenges in anomaly detection?"
   ]
  },
  {
   "cell_type": "markdown",
   "id": "f013a49a",
   "metadata": {},
   "source": [
    "Anomaly detection poses several challenges that need to be addressed for accurate and reliable detection. Some of the key challenges in anomaly detection include:\n",
    "\n",
    "Unlabeled data: In many cases, anomalies are not explicitly labeled or defined in the dataset. Anomaly detection algorithms must be able to identify patterns of normal behavior without relying on pre-labeled anomalies. This unsupervised setting makes it challenging to evaluate and validate the performance of anomaly detection techniques.\n",
    "\n",
    "Imbalanced data: Anomalies are often rare compared to normal data points, resulting in imbalanced datasets. The scarcity of anomalies can make it difficult for algorithms to learn and accurately detect them. It requires careful handling of imbalanced data to ensure that anomalies are not overlooked or overshadowed by the majority class.\n",
    "\n",
    "Evolution of anomalies: Anomalies can evolve over time, exhibiting different characteristics or patterns. Anomaly detection algorithms should be able to adapt and detect anomalies in dynamic environments where the concept of normality may change. Continuous monitoring and updating of the detection model are necessary to handle evolving anomalies effectively.\n",
    "\n",
    "Noise and outliers: Distinguishing between true anomalies and noisy or outlier data points is a challenge. Noisy data can introduce false positives, leading to incorrect anomaly detection. Robust techniques that can differentiate between genuine anomalies and noise are required to minimize false alarms.\n",
    "\n",
    "High-dimensional data: Anomaly detection becomes more challenging in high-dimensional data spaces. As the number of dimensions increases, the sparsity of data points also increases, making it harder to define what constitutes normal behavior. High-dimensional data require specialized techniques that can effectively capture complex interactions and dependencies between features.\n",
    "\n",
    "Scalability: Anomaly detection algorithms must handle large-scale datasets efficiently. The computational complexity of the algorithms should be manageable to enable real-time or near real-time detection in high-volume data streams. Scalability becomes crucial when dealing with big data applications.\n",
    "\n",
    "Interpretability and explainability: Anomaly detection algorithms should provide interpretable results to understand the reasons behind the detected anomalies. It is important to have transparent and explainable models, especially in domains where human experts need to validate and act upon the detected anomalies.\n",
    "\n",
    "Concept drift: Anomalies can change over time due to shifts in underlying processes or behaviors. Anomaly detection algorithms should be able to adapt to concept drift, where the definition of normal behavior may change. Continuous monitoring and adaptation of the detection model are necessary to maintain effectiveness in the face of concept drift.\n",
    "\n",
    "Addressing these challenges requires a combination of algorithmic advancements, feature engineering techniques, careful data preprocessing, and domain knowledge. Researchers and practitioners in anomaly detection are continuously working on developing innovative approaches to tackle these challenges and improve the accuracy and robustness of anomaly detection systems.\n",
    "\n",
    "\n",
    "\n",
    "\n"
   ]
  },
  {
   "cell_type": "markdown",
   "id": "2ef9a1e9",
   "metadata": {},
   "source": [
    "## Q3. How does unsupervised anomaly detection differ from supervised anomaly detection?"
   ]
  },
  {
   "cell_type": "markdown",
   "id": "7a1719ef",
   "metadata": {},
   "source": [
    "Unsupervised anomaly detection and supervised anomaly detection are two different approaches to detecting anomalies in data. Here's how they differ:\n",
    "\n",
    "Unsupervised Anomaly Detection:\n",
    "Unsupervised anomaly detection, also known as outlier detection, is performed on unlabeled data without any prior knowledge or labeled examples of anomalies. The goal is to identify patterns or instances in the data that deviate significantly from the expected behavior. The main characteristics of unsupervised anomaly detection are:\n",
    "\n",
    "No labeled anomalies: Unsupervised methods do not require pre-labeled anomalies for training. They rely solely on the properties of normal data to identify deviations or outliers.\n",
    "\n",
    "Exploratory analysis: Unsupervised techniques are used to explore and discover abnormal patterns or behaviors in the absence of predefined anomaly labels. They aim to identify data points that are dissimilar or rare compared to the majority of the data.\n",
    "\n",
    "Broad applicability: Unsupervised anomaly detection techniques can be applied to various domains and datasets without the need for domain-specific labeled training data. They are useful in scenarios where anomalies are unknown or change over time.\n",
    "\n",
    "Challenges of evaluation: The evaluation of unsupervised anomaly detection methods is challenging since there are no ground truth labels to compare the detected anomalies against. Evaluation metrics often rely on domain expertise, visual inspection, or synthetic datasets with known anomalies.\n",
    "\n",
    "Examples of techniques: Clustering-based methods (e.g., k-means, DBSCAN), density-based methods (e.g., LOF), distance-based methods (e.g., Mahalanobis distance), and statistical methods (e.g., Gaussian mixture models) are commonly used for unsupervised anomaly detection.\n",
    "\n",
    "Supervised Anomaly Detection:\n",
    "Supervised anomaly detection involves training a model on labeled data, where anomalies are explicitly labeled or known in advance. The model learns to distinguish between normal and anomalous instances based on the provided labels. The main characteristics of supervised anomaly detection are:\n",
    "\n",
    "Labeled anomalies: Supervised methods require a training dataset with labeled anomalies. These labels indicate which instances are normal and which are anomalous.\n",
    "\n",
    "Classification framework: Supervised anomaly detection is typically framed as a classification problem, where the model is trained to classify instances as either normal or anomalous based on the provided labels.\n",
    "\n",
    "Specific to labeled anomalies: Supervised methods are effective when anomalies in the training data are representative of anomalies in the target application. They might struggle when faced with novel or previously unseen anomalies that differ significantly from the training set.\n",
    "\n",
    "Performance evaluation: Supervised anomaly detection can be evaluated using standard classification metrics, such as accuracy, precision, recall, and F1 score. The labeled data allows for a direct comparison between predicted and true anomaly labels.\n",
    "\n",
    "Examples of techniques: Supervised machine learning algorithms like Support Vector Machines (SVM), Random Forest, or Neural Networks can be used for supervised anomaly detection. The models are trained using labeled data and then applied to detect anomalies in unseen instances.\n",
    "\n",
    "The choice between unsupervised and supervised anomaly detection depends on the availability of labeled anomaly data, the nature of anomalies in the target domain, and the goals of the anomaly detection task. Unsupervised methods offer a more general approach that can be applied to diverse datasets, while supervised methods are beneficial when labeled anomalies are available for training.\n",
    "\n",
    "\n",
    "\n",
    "\n"
   ]
  },
  {
   "cell_type": "markdown",
   "id": "98e12e8b",
   "metadata": {},
   "source": [
    "## Q4. What are the main categories of anomaly detection algorithms?"
   ]
  },
  {
   "cell_type": "markdown",
   "id": "e1e386ed",
   "metadata": {},
   "source": [
    "Anomaly detection algorithms can be categorized into several main categories based on their underlying principles and techniques. Here are the four main categories:\n",
    "\n",
    "Statistical Methods: Statistical methods assume that the normal data follows a known statistical distribution, such as Gaussian (normal) distribution. These methods model the data distribution and identify instances that significantly deviate from the expected statistical properties. Examples of statistical methods include z-score, Gaussian mixture models (GMM), and kernel density estimation.\n",
    "\n",
    "Distance-Based Methods: Distance-based methods measure the distance or dissimilarity between data instances and use this information to identify anomalies. They assume that anomalies are located far away from normal instances in the data space. Techniques like k-nearest neighbors (k-NN), local outlier factor (LOF), and Mahalanobis distance fall into this category.\n",
    "\n",
    "Clustering-Based Methods: Clustering-based methods aim to partition the data into clusters, where anomalies are considered as instances that do not belong to any cluster or belong to a small, isolated cluster. These methods identify anomalies based on their low membership or density within clusters. DBSCAN (Density-Based Spatial Clustering of Applications with Noise) and k-means clustering with outlier detection are examples of clustering-based anomaly detection algorithms.\n",
    "\n",
    "Machine Learning-Based Methods: Machine learning-based methods leverage supervised or unsupervised learning techniques to detect anomalies. They learn patterns and relationships from labeled or unlabeled data and use this knowledge to identify deviations from the normal behavior. Supervised machine learning algorithms like Support Vector Machines (SVM), Random Forest, and Neural Networks can be used for anomaly detection. Unsupervised learning algorithms like autoencoders and generative models (e.g., Variational Autoencoders, Generative Adversarial Networks) can also be employed for unsupervised anomaly detection.\n",
    "\n",
    "It's worth noting that some algorithms may combine multiple techniques or fall into multiple categories. Additionally, advancements in deep learning and anomaly detection have led to hybrid approaches that combine different techniques to improve the detection accuracy.\n",
    "\n",
    "The choice of the anomaly detection algorithm depends on the characteristics of the data, the type of anomalies expected, the available labeled data (if any), computational requirements, and specific requirements of the application. It is often necessary to experiment with different algorithms or combine them to achieve the best results in anomaly detection tasks."
   ]
  },
  {
   "cell_type": "markdown",
   "id": "846f7329",
   "metadata": {},
   "source": [
    "## Q5. What are the main assumptions made by distance-based anomaly detection methods?"
   ]
  },
  {
   "cell_type": "markdown",
   "id": "65c1436c",
   "metadata": {},
   "source": [
    "Distance-based anomaly detection methods make certain assumptions about the distribution and characteristics of normal data. Here are the main assumptions made by distance-based anomaly detection methods:\n",
    "\n",
    "Density-Based Assumption: Distance-based methods assume that normal data instances are surrounded by other similar instances, forming regions of higher density. Anomalies, on the other hand, are expected to be located in regions of lower density or far away from dense regions.\n",
    "\n",
    "Proximity Assumption: These methods assume that normal instances are located in close proximity to each other in the feature space. Anomalies, being different from normal instances, are expected to have larger distances to their nearest neighbors.\n",
    "\n",
    "Local Homogeneity Assumption: Distance-based methods assume that normal instances belong to the same local neighborhood or cluster and share similar characteristics. Anomalies, on the other hand, exhibit different patterns or characteristics, causing them to be isolated or separated from the normal instances.\n",
    "\n",
    "Outlier Degree Assumption: Distance-based methods assume that anomalies exhibit a significantly different degree of being outliers compared to normal instances. This assumption is based on the intuition that anomalies are relatively more distant or dissimilar from their neighbors compared to normal instances.\n",
    "\n",
    "Data Independence Assumption: Distance-based methods often assume that anomalies can be detected without considering any prior knowledge about the data distribution or class labels. They do not require assumptions about the specific data distribution and can be applied in an unsupervised manner.\n",
    "\n",
    "These assumptions serve as the basis for defining the notion of outlier scores or anomaly scores in distance-based methods. By comparing the distances or dissimilarities of data instances to their neighbors or local neighborhoods, these methods can identify instances that deviate significantly from the expected patterns.\n",
    "\n",
    "It is important to note that these assumptions may not hold in all scenarios, and the performance of distance-based methods can be affected by the violation of these assumptions. Therefore, it is crucial to assess the suitability of these assumptions for the specific data and consider alternative approaches if necessary."
   ]
  },
  {
   "cell_type": "markdown",
   "id": "53cd9874",
   "metadata": {},
   "source": [
    "## Q6. How does the LOF algorithm compute anomaly scores?"
   ]
  },
  {
   "cell_type": "markdown",
   "id": "0b9fe04c",
   "metadata": {},
   "source": [
    "The Local Outlier Factor (LOF) algorithm computes anomaly scores by comparing the local density of a data point with the densities of its neighboring points. The anomaly score, also known as the LOF score, indicates the degree to which a data point deviates from its local neighborhood.\n",
    "\n",
    "Here's a step-by-step overview of how the LOF algorithm computes anomaly scores:\n",
    "\n",
    "Nearest Neighbor Calculation: For each data point in the dataset, the algorithm identifies its k nearest neighbors based on a distance metric (e.g., Euclidean distance). The value of k is a user-defined parameter.\n",
    "\n",
    "Reachability Distance Calculation: The reachability distance between a data point A and its neighbor B is calculated. The reachability distance captures the distance between A and B, taking into account the local density of B and the k-distance of B (i.e., the distance to its k-th nearest neighbor). The reachability distance is defined as:\n",
    "\n",
    "reachability-distance_k(A, B) = max{k-distance(B), d(A, B)}\n",
    "\n",
    "where d(A, B) represents the distance between data points A and B, and k-distance(B) represents the distance to the k-th nearest neighbor of B.\n",
    "\n",
    "Local Reachability Density Calculation: The local reachability density of a data point A is computed by considering the average reachability distance of its k nearest neighbors. It is defined as the inverse of the average reachability distance:\n",
    "\n",
    "lrd_k(A) = 1 / (sum(reachability-distance_k(A, B)) / k)\n",
    "\n",
    "This measure captures the local density around data point A.\n",
    "\n",
    "Local Outlier Factor Calculation: The Local Outlier Factor (LOF) of a data point A is determined by comparing its local reachability density with the local reachability densities of its neighbors. It quantifies the degree of outlier-ness of the data point with respect to its local neighborhood. The LOF is calculated as the average ratio of the local reachability densities of A's neighbors to its own local reachability density:\n",
    "\n",
    "LOF_k(A) = (sum(lrd_k(B) / lrd_k(A)) / k)\n",
    "\n",
    "A higher LOF value indicates that the data point has a lower density compared to its neighbors, suggesting it as a potential outlier.\n",
    "\n",
    "Anomaly Score Assignment: The anomaly score, which represents the degree of anomaly, is assigned to each data point based on its LOF value. A higher LOF score implies a higher likelihood of the data point being an outlier.\n",
    "\n",
    "By calculating the LOF scores for all data points in the dataset, the LOF algorithm identifies and ranks the instances based on their deviation from the local density patterns. Data points with higher LOF scores are considered more anomalous, while those with lower scores are closer to the expected patterns of the dataset.\n",
    "\n",
    "It's worth noting that the LOF algorithm is a density-based anomaly detection method that captures the local density characteristics of data points to identify outliers."
   ]
  },
  {
   "cell_type": "markdown",
   "id": "cddca526",
   "metadata": {},
   "source": [
    "## Q7. What are the key parameters of the Isolation Forest algorithm?"
   ]
  },
  {
   "cell_type": "markdown",
   "id": "ee9bfcf9",
   "metadata": {},
   "source": [
    "The Isolation Forest algorithm has several key parameters that can be tuned to control its behavior and performance. Here are the main parameters of the Isolation Forest algorithm:\n",
    "\n",
    "n_estimators: This parameter determines the number of isolation trees to be used in the Isolation Forest ensemble. Increasing the number of estimators can improve the algorithm's performance but also increases computation time. The default value is 100.\n",
    "\n",
    "max_samples: It specifies the maximum number of samples to be used when constructing each isolation tree. This parameter controls the sub-sampling strategy. A smaller value can increase the randomness and diversity of the trees but may also reduce their effectiveness. The default value is 'auto', which sets it to min(256, n_samples).\n",
    "\n",
    "contamination: This parameter determines the expected percentage of anomalies or outliers in the dataset. It is used to set the threshold for anomaly detection. A higher contamination value assumes a higher percentage of outliers, which can influence the decision boundary. The default value is 0.1.\n",
    "\n",
    "max_features: It controls the maximum number of features to consider when splitting a node in an isolation tree. A smaller value can increase randomness and diversity among trees but might also affect the effectiveness. The default value is 1.0.\n",
    "\n",
    "bootstrap: This parameter specifies whether bootstrap samples should be used when building isolation trees. Setting it to 'True' enables the bootstrap sampling, while setting it to 'False' disables it. The default value is 'True'.\n",
    "\n",
    "random_state: It is the random seed used for generating random numbers. Setting the random_state parameter to a fixed value ensures reproducibility of results.\n",
    "\n",
    "These are the main parameters that can be adjusted in the Isolation Forest algorithm to optimize its performance for a given dataset. Tuning these parameters based on the characteristics of the data can improve the accuracy and efficiency of anomaly detection.\n",
    "\n",
    "\n",
    "\n",
    "\n"
   ]
  },
  {
   "cell_type": "markdown",
   "id": "9739b8e1",
   "metadata": {},
   "source": [
    "## Q8. If a data point has only 2 neighbours of the same class within a radius of 0.5, what is its anomaly score using KNN with K=10?"
   ]
  },
  {
   "cell_type": "markdown",
   "id": "79e876b6",
   "metadata": {},
   "source": [
    "To calculate the anomaly score of a data point using KNN with K=10, we need to determine its distance to its 10th nearest neighbor (k-distance) and the average distance to its 10 nearest neighbors (avg_distance). Based on the given information that the data point has only 2 neighbors of the same class within a radius of 0.5, we can infer that it does not have 10 neighbors within that radius. In such cases, we can assign a high anomaly score to the data point.\n",
    "\n",
    "If the data point does not have 10 neighbors within a radius of 0.5, we can assign an anomaly score of 1.0 to indicate a high likelihood of being an outlier. This means that the data point is significantly distant from its nearest neighbors and is considered an anomaly in the dataset.\n",
    "\n",
    "It's important to note that the anomaly score calculation may vary depending on the specific implementation or algorithm used for KNN-based anomaly detection. The approach described here assumes a simple distance-based method where the anomaly score is determined based on the number of neighbors and their distances."
   ]
  },
  {
   "cell_type": "code",
   "execution_count": 5,
   "id": "d7fc2730",
   "metadata": {},
   "outputs": [
    {
     "name": "stdout",
     "output_type": "stream",
     "text": [
      "Anomaly Score: 0.5714285714285714\n"
     ]
    }
   ],
   "source": [
    "from sklearn.neighbors import NearestNeighbors\n",
    "\n",
    "# Sample data points and their labels\n",
    "data = [[1, 2], [2, 3], [3, 4], [4, 5], [5, 6], [6, 7], [7, 8]]\n",
    "labels = ['A', 'A', 'A', 'B', 'B', 'B', 'A']\n",
    "\n",
    "# Data point for which we want to calculate the anomaly score\n",
    "query_point = [4, 5]\n",
    "\n",
    "# Number of neighbors for KNN\n",
    "K = 10\n",
    "\n",
    "# Create KNN model\n",
    "knn_model = NearestNeighbors(n_neighbors=min(K, len(data)))\n",
    "knn_model.fit(data)\n",
    "\n",
    "# Find K nearest neighbors and their labels\n",
    "distances, indices = knn_model.kneighbors([query_point])\n",
    "nearest_labels = [labels[i] for i in indices[0]]\n",
    "\n",
    "# Count the number of neighbors with a different class label\n",
    "num_different_class = sum(1 for label in nearest_labels if label != labels[indices[0][0]])\n",
    "\n",
    "# Calculate anomaly score\n",
    "anomaly_score = num_different_class / min(K, len(data))\n",
    "\n",
    "print(\"Anomaly Score:\", anomaly_score)\n"
   ]
  },
  {
   "cell_type": "markdown",
   "id": "3804b964",
   "metadata": {},
   "source": [
    "## Q9. Using the Isolation Forest algorithm with 100 trees and a dataset of 3000 data points, what is the anomaly score for a data point that has an average path length of 5.0 compared to the average path length of the trees?"
   ]
  },
  {
   "cell_type": "markdown",
   "id": "335b84e8",
   "metadata": {},
   "source": [
    "In the Isolation Forest algorithm, the anomaly score for a data point is calculated based on its average path length compared to the average path length of the trees in the forest. The anomaly score ranges between 0 and 1, where a score close to 1 indicates a higher likelihood of being an anomaly.\n",
    "\n",
    "To determine the anomaly score for a data point with an average path length of 5.0 compared to the average path length of the trees in a forest of 100 trees, we need to consider the normalizing factor. The average path length of an unsuccessful search in a balanced binary tree with n data points is approximately 2 * (log(n-1) + 0.5772156649) [1]. This value serves as a normalizing factor to calculate the anomaly score.\n",
    "\n",
    "Let's assume the average path length of the trees in the forest is 2.5 (half the normalizing factor) and the data point's average path length is 5.0. We can calculate the anomaly score using the formula:\n",
    "\n",
    "anomaly_score = 2^( - (average_path_length / average_path_length_trees) )\n",
    "\n",
    "Substituting the values:\n",
    "\n",
    "anomaly_score = 2^( - (5.0 / 2.5) )\n",
    "= 2^(-2)\n",
    "= 0.25\n",
    "\n",
    "Therefore, the anomaly score for the given data point would be 0.25, indicating a relatively low likelihood of being an anomaly.\n",
    "\n",
    "It's worth noting that the anomaly score calculation may vary slightly depending on the specific implementation or variations of the Isolation Forest algorithm used."
   ]
  },
  {
   "cell_type": "code",
   "execution_count": 2,
   "id": "e0528a4f",
   "metadata": {},
   "outputs": [
    {
     "name": "stdout",
     "output_type": "stream",
     "text": [
      "Anomaly Score: 0.25\n"
     ]
    }
   ],
   "source": [
    "import numpy as np\n",
    "from sklearn.ensemble import IsolationForest\n",
    "\n",
    "# Define the parameters\n",
    "n_trees = 100\n",
    "data_size = 3000\n",
    "average_path_length_trees = 2.5\n",
    "data_point_average_path_length = 5.0\n",
    "\n",
    "# Generate random data points\n",
    "np.random.seed(42)\n",
    "X = np.random.rand(data_size, 2)\n",
    "\n",
    "# Create an Isolation Forest instance\n",
    "clf = IsolationForest(n_estimators=n_trees, random_state=42)\n",
    "\n",
    "# Fit the Isolation Forest model\n",
    "clf.fit(X)\n",
    "\n",
    "# Calculate the anomaly score for the data point\n",
    "anomaly_score = 2 ** (- (data_point_average_path_length / average_path_length_trees))\n",
    "\n",
    "print(\"Anomaly Score:\", anomaly_score)\n"
   ]
  },
  {
   "cell_type": "code",
   "execution_count": null,
   "id": "13f1074f",
   "metadata": {},
   "outputs": [],
   "source": []
  }
 ],
 "metadata": {
  "kernelspec": {
   "display_name": "Python 3 (ipykernel)",
   "language": "python",
   "name": "python3"
  },
  "language_info": {
   "codemirror_mode": {
    "name": "ipython",
    "version": 3
   },
   "file_extension": ".py",
   "mimetype": "text/x-python",
   "name": "python",
   "nbconvert_exporter": "python",
   "pygments_lexer": "ipython3",
   "version": "3.10.9"
  }
 },
 "nbformat": 4,
 "nbformat_minor": 5
}
