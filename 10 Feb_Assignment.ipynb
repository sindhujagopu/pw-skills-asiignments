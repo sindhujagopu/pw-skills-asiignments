{
 "cells": [
  {
   "cell_type": "code",
   "execution_count": null,
   "id": "396b146f-e946-42b5-b5a5-77694faf92c9",
   "metadata": {},
   "outputs": [],
   "source": [
    "#Q1. Which function is used to open a file? What are the different modes of opening a file? Explain each mode of file opening.\n",
    "\n",
    "The function used to open a file in Python is the open() function. This function takes two arguments: the first argument is the name of the file and the second argument is the mode in which the file should be opened.\n",
    "\n",
    "The different modes of opening a file are:\n",
    "\n",
    "'r' (Read Only): This is the default mode. It opens the file for reading only. If the file does not exist, it raises an error.\n",
    "\n",
    "'w' (Write Only): This mode opens the file for writing only. If the file already exists, it will overwrite the file. If the file does not exist, it will create a new file.\n",
    "\n",
    "'a' (Append Only): This mode opens the file for writing, but instead of overwriting the file, it appends the data to the end of the file. If the file does not exist, it will create a new file.\n",
    "\n",
    "'x' (Exclusive Creation):"
   ]
  },
  {
   "cell_type": "code",
   "execution_count": null,
   "id": "812e16f4-b5ed-4f32-8706-2171c1b77031",
   "metadata": {},
   "outputs": [],
   "source": [
    "#Q2. Why close() function is used? Why is it important to close a file?\n",
    "\n",
    "The close() function is used to close an open file. It is important to close a file after you are done working with it because:\n",
    "\n",
    "Releasing resources: When a file is opened, the operating system allocates resources, such as memory, to handle the file. Closing the file releases these resources back to the operating system.\n",
    "\n",
    "Avoiding data corruption: When you write to a file, the data is not immediately written to the physical storage device. Instead, it is temporarily stored in a buffer, and periodically flushed to the storage device. If you do not close the file, this data may be lost if the buffer is not flushed.\n",
    "\n",
    "Preventing file locking: If a file is open and not closed, it may be locked and prevent other processes or applications from accessing or modifying it. This can lead to unexpected errors and data corruption.\n",
    "\n",
    "Improving performance: If you open and close a file multiple times, it is more efficient to close the file after each use rather than keeping it open for a long period of time. This reduces the amount of resources the operating system needs to allocate, and improves performance.\n",
    "\n",
    "In general, it is a best practice to always close a file after you are done working with it, to avoid these and other potential issues."
   ]
  },
  {
   "cell_type": "code",
   "execution_count": 6,
   "id": "fb1c6bf3-e7cf-4d1d-b235-35c27561e7b9",
   "metadata": {},
   "outputs": [
    {
     "name": "stdout",
     "output_type": "stream",
     "text": [
      "I want to become a Data Scientist\n"
     ]
    }
   ],
   "source": [
    "#Q3. Write a python program to create a text file. Write ‘I want to become a Data Scientist’ in that file. Then close the file. Open this file and read the content of the file.\n",
    "\n",
    "# Creating a text file\n",
    "file = open(\"file.txt\", \"w\")\n",
    "\n",
    "# Writing to the file\n",
    "file.write(\"I want to become a Data Scientist\")\n",
    "\n",
    "# Closing the file\n",
    "file.close()\n",
    "\n",
    "# Reopening the file in read mode\n",
    "file = open(\"file.txt\", \"r\")\n",
    "\n",
    "# Reading the contents of the file\n",
    "content = file.read()\n",
    "\n",
    "# Printing the contents\n",
    "print(content)\n",
    "\n",
    "# Closing the file again\n",
    "file.close()\n"
   ]
  },
  {
   "cell_type": "code",
   "execution_count": 8,
   "id": "aa2a25ac-072f-4b2d-81ec-a799775553a7",
   "metadata": {},
   "outputs": [
    {
     "name": "stdout",
     "output_type": "stream",
     "text": [
      "I want to become a Data Scientist\n",
      "\n",
      "\n",
      "I want to become a Data Scientist\n",
      "\n",
      "\n",
      "I want to become a Data Scientist\n",
      "\n",
      "\n"
     ]
    }
   ],
   "source": [
    "#Q4. Explain the following with python code: read(), readline() and readlines().\n",
    "\n",
    "#read(): The read() method is used to read the entire contents of a file as a single string\n",
    "#For example:\n",
    "# Open the file in read mode\n",
    "file = open(\"file.txt\", \"r\")\n",
    "\n",
    "# Read the entire contents of the file\n",
    "contents = file.read()\n",
    "\n",
    "# Print the contents\n",
    "print(contents)\n",
    "print(\"\\n\")\n",
    "\n",
    "# Close the file\n",
    "file.close()\n",
    "\n",
    "#readline(): The readline() method is used to read a single line from the file. \n",
    "#For example:\n",
    "# Open the file in read mode\n",
    "file = open(\"file.txt\", \"r\")\n",
    "\n",
    "# Read the first line of the file\n",
    "line = file.readline()\n",
    "\n",
    "# Print the line\n",
    "print(line)\n",
    "print(\"\\n\")\n",
    "\n",
    "# Close the file\n",
    "file.close()\n",
    "\n",
    "#readlines(): The readlines() method is used to read all the lines of the file and return them as a list of strings, where each string is a single line of the file. \n",
    "#For example:\n",
    "# Open the file in read mode\n",
    "file = open(\"file.txt\", \"r\")\n",
    "\n",
    "# Read all the lines of the file\n",
    "lines = file.readlines()\n",
    "\n",
    "# Print the lines\n",
    "for line in lines:\n",
    "    print(line)\n",
    "print(\"\\n\")\n",
    "\n",
    "# Close the file\n",
    "file.close()\n",
    "\n",
    "\n",
    "#In each of these examples, the open function is used to open a file in read mode (\"r\"), and the read, readline, or readlines method is used to read the contents of the file. The contents are then printed to the console, and the file is closed using the close method."
   ]
  },
  {
   "cell_type": "code",
   "execution_count": 3,
   "id": "59c17ac6-e789-46f2-a267-1c8e1940cce9",
   "metadata": {},
   "outputs": [
    {
     "name": "stdout",
     "output_type": "stream",
     "text": [
      "I want to become a Data Scientist\n"
     ]
    }
   ],
   "source": [
    "#Q5. Explain why with statement is used with open(). What is the advantage of using with statement and open() together?\n",
    "\n",
    "#The with statement is often used in combination with the open function to manage the lifecycle of a file. The advantage of using the with statement and open function together is that it ensures that the file is properly closed, even if an exception occurs during the execution of the code block.\n",
    "#Here's an example:\n",
    "\n",
    "# Open the file using the with statement\n",
    "with open(\"file.txt\", \"r\") as file:\n",
    "    # Read the contents of the file\n",
    "    contents = file.read()\n",
    "    # Print the contents\n",
    "    print(contents)\n",
    "\n",
    "# The file is automatically closed at the end of the block\n",
    "#In this code, the with statement is used to open the file and automatically close it when the code block is exited. This eliminates the need to explicitly call the close method and ensures that the file is properly closed, even if an exception occurs during the execution of the code block.\n",
    "#The with statement provides a convenient and safe way to manage the lifecycle of a file and ensures that the file is closed even if an exception occurs. It is considered a best practice to use the with statement when opening a file in Python."
   ]
  },
  {
   "cell_type": "code",
   "execution_count": 4,
   "id": "c7538b0f-653e-40b3-b77d-86bf363c74c5",
   "metadata": {},
   "outputs": [],
   "source": [
    "#Q6. Explain the write() and writelines() functions. Give a suitable example.\n",
    "\n",
    "#write(): The write() function is used to write a string to a file. For example:\n",
    "# Open the file in write mode\n",
    "file = open(\"file1.txt\", \"w\")\n",
    "\n",
    "# Write a string to the file\n",
    "file.write(\"I want to become a Data Scientist\")\n",
    "\n",
    "# Close the file\n",
    "file.close()\n",
    "\n",
    "#writelines(): The writelines() function is used to write a list of strings to a file, with each string being a separate line in the file. For example:\n",
    "# Create a list of strings\n",
    "lines = [\"I want to become a Data Scientist\", \"Data Science is a growing field\", \"I am excited to learn more about it\"]\n",
    "\n",
    "# Open the file in write mode\n",
    "file = open(\"file1.txt\", \"w\")\n",
    "\n",
    "# Write the list of strings to the file\n",
    "file.writelines(lines)\n",
    "\n",
    "# Close the file\n",
    "file.close()\n",
    "\n",
    "#In each of these examples, the open function is used to open a file in write mode (\"w\"), and the write or writelines function is used to write data to the file. The file is then closed using the close method. Note that when using write mode, the file is overwritten with each new write operation,\n"
   ]
  },
  {
   "cell_type": "code",
   "execution_count": null,
   "id": "6e9e072a-df83-49fd-8314-98b5e9b21586",
   "metadata": {},
   "outputs": [],
   "source": []
  }
 ],
 "metadata": {
  "kernelspec": {
   "display_name": "Python 3 (ipykernel)",
   "language": "python",
   "name": "python3"
  },
  "language_info": {
   "codemirror_mode": {
    "name": "ipython",
    "version": 3
   },
   "file_extension": ".py",
   "mimetype": "text/x-python",
   "name": "python",
   "nbconvert_exporter": "python",
   "pygments_lexer": "ipython3",
   "version": "3.10.8"
  }
 },
 "nbformat": 4,
 "nbformat_minor": 5
}
