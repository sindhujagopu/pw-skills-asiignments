{
 "cells": [
  {
   "cell_type": "markdown",
   "id": "48be36f4-90e1-47f7-a3e5-bb0c92d0ac8e",
   "metadata": {},
   "source": [
    "Q1.What is multiprocessing in python? Why is it useful?"
   ]
  },
  {
   "cell_type": "markdown",
   "id": "8270a283-868c-4305-becb-c0d9f4b6bca9",
   "metadata": {},
   "source": [
    "Multiprocessing in Python is a module that enables the creation of parallel processes to run multiple tasks concurrently, allowing programs to take full advantage of multi-core CPUs and achieve higher performance. This module provides a way to spread the load of CPU-intensive or I/O-bound tasks across multiple processors, improving the overall execution time of the program.\n",
    "\n",
    "In Python, the multiprocessing module provides a simple and efficient way to create and manage multiple processes, each with its own memory space and system resources. The module provides a Process class to create new processes, and also provides other constructs such as Queues, Pipes, and Locks to facilitate inter-process communication and synchronization.\n",
    "\n",
    "Multiprocessing is useful in a wide range of applications, such as data processing, scientific computing, and machine learning, where large amounts of data need to be processed or analyzed. It can also be used in web servers or network programming, where multiple requests need to be handled simultaneously.\n",
    "\n",
    "Overall, multiprocessing is a valuable tool for any Python programmer who needs to run multiple tasks in parallel and take advantage of multi-core CPUs, improving the performance and efficiency of their programs."
   ]
  },
  {
   "cell_type": "markdown",
   "id": "04070caf-5ac7-443a-a68b-07675859352b",
   "metadata": {},
   "source": [
    "Q2.What are the differences between multiprocessing and multithreading?"
   ]
  },
  {
   "cell_type": "markdown",
   "id": "5dab335c-090c-4a85-9ea3-f2ffdf23e347",
   "metadata": {},
   "source": [
    "The main differences between multiprocessing and multithreading are:\n",
    "\n",
    "Execution model: In multiprocessing, multiple processes are created, each with their own memory space and resources, and can execute tasks in parallel. In multithreading, multiple threads are created within a single process and share the same memory space and resources, executing tasks concurrently.\n",
    "\n",
    "Performance: Multiprocessing can provide better performance in CPU-bound tasks that require a lot of processing power, since it can take advantage of multiple CPU cores. Multithreading can provide better performance in I/O-bound tasks that involve a lot of waiting for input/output operations, since it can overlap these operations with other tasks.\n",
    "\n",
    "Communication: In multiprocessing, communication between processes typically involves message passing through inter-process communication (IPC) mechanisms such as pipes or queues. In multithreading, communication between threads can be done through shared memory or synchronization mechanisms such as locks or semaphores.\n",
    "\n",
    "Complexity: Multiprocessing can be more complex to implement and manage than multithreading, since each process requires its own set of resources and memory space. Multithreading can be simpler to implement and manage, since all threads share the same memory space and resources.\n",
    "\n",
    "Overall, the choice between multiprocessing and multithreading depends on the specific requirements of the task at hand, and factors such as performance, communication needs, and complexity of implementation should be taken into account.\n",
    "\n",
    "\n",
    "\n"
   ]
  },
  {
   "cell_type": "markdown",
   "id": "061ac928-c5ec-4c5f-9648-d18cd1b96854",
   "metadata": {},
   "source": [
    "Q3.Write a python code to create a process using the multiprocessing module."
   ]
  },
  {
   "cell_type": "code",
   "execution_count": 3,
   "id": "dc5b1023-1576-4b19-abf2-380e50ff2aa9",
   "metadata": {},
   "outputs": [
    {
     "name": "stdout",
     "output_type": "stream",
     "text": [
      "Worker process started\n",
      "Worker process finished\n"
     ]
    }
   ],
   "source": [
    "import multiprocessing\n",
    "\n",
    "def worker():\n",
    "    print('Worker process started')\n",
    "    # do some work here\n",
    "    print('Worker process finished')\n",
    "\n",
    "if __name__ == '__main__':\n",
    "    # create a new process\n",
    "    process = multiprocessing.Process(target=worker)\n",
    "    # start the process\n",
    "    process.start()\n",
    "    # wait for the process to finish\n",
    "    process.join()\n"
   ]
  },
  {
   "cell_type": "markdown",
   "id": "8c021c89-eed4-4fbd-b445-f3a3cce39e38",
   "metadata": {},
   "source": [
    "Q4.What is a multiprocessing pool in python? Why is it used?"
   ]
  },
  {
   "cell_type": "markdown",
   "id": "9bd505e2-0263-4e2c-bf1f-bbe8e60128db",
   "metadata": {},
   "source": [
    "In Python, a multiprocessing pool is a collection of worker processes that can be used to parallelize the execution of tasks across multiple processors. The multiprocessing module provides a Pool class that can be used to create a pool of worker processes and manage their execution.\n",
    "\n",
    "The Pool class provides a simple way to parallelize tasks by distributing them across a pool of worker processes. This can greatly improve the performance of CPU-bound tasks, such as scientific computations or data processing, by utilizing the full power of modern CPUs.\n",
    "\n",
    "The Pool class works by creating a specified number of worker processes, which are then used to execute a set of tasks in parallel. When a task is submitted to the Pool, the Pool assigns it to an available worker process, which then executes the task and returns the result to the main process.\n",
    "\n",
    "Using a Pool can be more efficient than creating and managing individual worker processes manually, as the Pool handles the creation and management of the worker processes automatically. Additionally, the Pool provides a simple interface for submitting and managing tasks, making it easy to parallelize code.\n",
    "\n",
    "Overall, the Pool class is a powerful tool for parallelizing CPU-bound tasks in Python, and can greatly improve the performance of computationally-intensive code.\n",
    "\n",
    "\n",
    "\n"
   ]
  },
  {
   "cell_type": "markdown",
   "id": "bda16e2b-4ee1-4d92-9c8e-a27af3fa31e8",
   "metadata": {},
   "source": [
    "Q5.How can we create a pool of worker processes in python using the multiprocessing module?"
   ]
  },
  {
   "cell_type": "markdown",
   "id": "85914a87-56e4-4da0-ac3b-c5b373fd8124",
   "metadata": {},
   "source": [
    "In Python, we can create a pool of worker processes using the Pool class from the multiprocessing module. The Pool class provides a simple way to create a pool of worker processes and manage their execution. Here's an example of how to create a pool of worker processes:"
   ]
  },
  {
   "cell_type": "code",
   "execution_count": 2,
   "id": "dd513918-9fba-45e8-a89e-321c488bcb3e",
   "metadata": {},
   "outputs": [
    {
     "name": "stdout",
     "output_type": "stream",
     "text": [
      "[1, 4, 9, 16, 25]\n"
     ]
    }
   ],
   "source": [
    "import multiprocessing\n",
    "\n",
    "def square(number):\n",
    "    return number * number\n",
    "\n",
    "if __name__ == '__main__':\n",
    "    with multiprocessing.Pool(processes=4) as pool:\n",
    "        numbers = [1, 2, 3, 4, 5]\n",
    "        results = pool.map(square, numbers)\n",
    "        print(results)\n"
   ]
  },
  {
   "cell_type": "markdown",
   "id": "91750a5d-5e15-48b5-87f4-3106d609f926",
   "metadata": {},
   "source": [
    "In this example, we define a function square() that takes a number as an argument and returns its square. We then use the Pool class to create a pool of 4 worker processes. We define a list of numbers that we want to process, and then use the map() method of the Pool class to apply the square() function to each number in the list. The map() method returns a list of results, which we print to the console.\n",
    "\n",
    "By using a pool of worker processes, we can process multiple tasks in parallel, which can greatly improve the performance of our Python programs. The Pool class automatically manages the creation and execution of worker processes, making it easy to parallelize our code."
   ]
  },
  {
   "cell_type": "markdown",
   "id": "b1335927-3db0-428c-b65a-bd89b5cfe8bc",
   "metadata": {},
   "source": [
    "Q6.Write a python program to create 4 processes, each process should print a different number using the\n",
    "multiprocessing module in python."
   ]
  },
  {
   "cell_type": "code",
   "execution_count": 1,
   "id": "42001c60-d271-4c71-bc41-d1e5b7de2690",
   "metadata": {},
   "outputs": [
    {
     "name": "stdout",
     "output_type": "stream",
     "text": [
      "Process 0: 0\n",
      "Process 1: 10\n",
      "Process 2: 20\n",
      "Process 3: 30\n"
     ]
    }
   ],
   "source": [
    "import multiprocessing\n",
    "\n",
    "def print_number(num):\n",
    "    print(f\"Process {num}: {num*10}\")\n",
    "\n",
    "if __name__ == '__main__':\n",
    "    processes = []\n",
    "    for i in range(4):\n",
    "        process = multiprocessing.Process(target=print_number, args=(i,))\n",
    "        processes.append(process)\n",
    "        process.start()\n",
    "    for process in processes:\n",
    "        process.join()\n"
   ]
  }
 ],
 "metadata": {
  "kernelspec": {
   "display_name": "Python 3 (ipykernel)",
   "language": "python",
   "name": "python3"
  },
  "language_info": {
   "codemirror_mode": {
    "name": "ipython",
    "version": 3
   },
   "file_extension": ".py",
   "mimetype": "text/x-python",
   "name": "python",
   "nbconvert_exporter": "python",
   "pygments_lexer": "ipython3",
   "version": "3.10.8"
  }
 },
 "nbformat": 4,
 "nbformat_minor": 5
}
