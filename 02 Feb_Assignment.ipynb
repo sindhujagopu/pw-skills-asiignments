{
 "cells": [
  {
   "cell_type": "code",
   "execution_count": null,
   "id": "ffaf7753-158b-477c-9e8e-b678f2ff658c",
   "metadata": {},
   "outputs": [],
   "source": [
    "1.What are the characteristics of the tuples?Is tuple immutable?\n",
    "\n",
    "A tuple is an ordered, immutable and heterogeneous collection of elements.\n",
    "\n",
    "Ordered: The elements in a tuple have a defined order, and this order is preserved.\n",
    "Immutable: Once a tuple is created, its elements cannot be changed or modified.\n",
    "Heterogeneous: A tuple can contain elements of different data types, such as integers, strings, and other data structures.\n",
    "In summary, a tuple is a read-only and ordered collection of elements."
   ]
  },
  {
   "cell_type": "code",
   "execution_count": null,
   "id": "adca2385-fcef-4df8-b1f2-7ef21d1a200c",
   "metadata": {},
   "outputs": [],
   "source": [
    "2.What are the two tuple methods in python?Give an example of each method.Give a reason why tuples have only two in-built methods as compared to lists.\n",
    "                                                                                                                                         \n",
    "The two in-built methods for tuples in Python are:\n",
    "\n",
    "1.count: This method returns the number of times a specific element appears in the tuple.\n",
    "Example:\n",
    "numbers = (1, 2, 3, 2, 4, 1)\n",
    "count_of_two = numbers.count(2)\n",
    "print(count_of_two)\n",
    "\n",
    "output:2\n",
    "\n",
    "2.index: This method returns the index of the first occurrence of a specific element in the tuple.\n",
    "Example:\n",
    "numbers = (1, 2, 3, 2, 4, 1)\n",
    "index_of_two = numbers.index(2)\n",
    "print(index_of_two)\n",
    "\n",
    "output:1\n",
    "Tuples have only two in-built methods because they are meant to be lightweight and efficient, and adding more methods could increase their memory footprint and decrease performance. Additionally, since tuples are immutable, there is limited scope for adding more methods to perform operations that change their contents."
   ]
  },
  {
   "cell_type": "code",
   "execution_count": 2,
   "id": "09e1e614-2c06-41ee-b2b4-840f17dbd30a",
   "metadata": {},
   "outputs": [
    {
     "name": "stdout",
     "output_type": "stream",
     "text": [
      "[1, 2, 3, 4]\n"
     ]
    }
   ],
   "source": [
    "#3.Which collection datatypes in python do not allow duplicate items?write a code using a set to remove duplicates from the given list.\n",
    "#List=[1,1,1,2,1,3,1,4,2,1,2,2,2,3,2,4,3,1,3,2,3,3,3,4,4,1,4,2,4,3,4,4]\n",
    "\n",
    "\n",
    "#Sets in Python do not allow duplicate items. You can use a set to remove duplicates from a list by converting the list to a set and then back to a list.\n",
    "\n",
    "List=[1,1,1,2,1,3,1,4,2,1,2,2,2,3,2,4,3,1,3,2,3,3,3,4,4,1,4,2,4,3,4,4]\n",
    "no_duplicates = list(set(List))\n",
    "print(no_duplicates)\n"
   ]
  },
  {
   "cell_type": "code",
   "execution_count": 4,
   "id": "c30b98be-a60c-4681-8ba3-254a2f8e9030",
   "metadata": {},
   "outputs": [
    {
     "name": "stdout",
     "output_type": "stream",
     "text": [
      "{1, 2, 3, 4, 5}\n",
      "{1, 2, 3, 4, 5}\n"
     ]
    }
   ],
   "source": [
    "#4.Explain the difference between the union() and update() methods for a set.Give an example of each method\n",
    "\n",
    "#The union and update methods are both used to combine two sets in Python, but they differ in how the combined set is represented and the original sets are affected.\n",
    "#1.union: This method returns a new set that contains all elements from both sets. The original sets are not modified.\n",
    "#Example:\n",
    "set1 = {1, 2, 3}\n",
    "set2 = {3, 4, 5}\n",
    "set3 = set1.union(set2)\n",
    "print(set3)\n",
    "\n",
    "#2.update: This method updates the original set with all elements from another set. The original set is modified.\n",
    "#Example:\n",
    "set1 = {1, 2, 3}\n",
    "set2 = {3, 4, 5}\n",
    "set1.update(set2)\n",
    "print(set1)\n",
    "\n",
    "#In summary, the union method returns a new set that contains elements from both sets, while the update method updates the original set with elements from another set.\n"
   ]
  },
  {
   "cell_type": "code",
   "execution_count": null,
   "id": "65bb78b2-4c12-4ca4-9e42-4d1a72313d55",
   "metadata": {},
   "outputs": [],
   "source": [
    "5.What is a dictionary?Give an example.Also, state whether a dictionary is ordered or unordered.\n",
    "\n",
    "A dictionary is a collection of key-value pairs, where each key is associated with a value. In programming, dictionaries are often used to store data in a more organized and efficient way.\n",
    "Ex:\n",
    "person = {\n",
    "    \"name\": \"John Doe\",\n",
    "    \"age\": 30,\n",
    "    \"address\": \"123 Main St\"\n",
    "}\n",
    "In Python, dictionaries are unordered, meaning the items have no inherent order and their order may change over time."
   ]
  },
  {
   "cell_type": "code",
   "execution_count": null,
   "id": "67b3b97d-1825-4638-86a9-b01463f4e43e",
   "metadata": {},
   "outputs": [],
   "source": [
    "6.Can we create a nested dictionary?If so,please give an example by creating a simple one-level nested dictionary.\n",
    "\n",
    "Yes, you can create a nested dictionary, which is a dictionary inside another dictionary.\n",
    "\n",
    "Example of a one-level nested dictionary:\n",
    "person = {\n",
    "    \"name\": \"John Doe\",\n",
    "    \"age\": 30,\n",
    "    \"address\": {\n",
    "        \"street\": \"123 Main St\",\n",
    "        \"city\": \"Anytown\",\n",
    "        \"state\": \"CA\",\n",
    "        \"zip\": \"12345\"\n",
    "    }\n",
    "}\n",
    "Here, the key \"address\" is associated with another dictionary containing information about the person's address.\n",
    "\n",
    "\n",
    "\n",
    "  "
   ]
  },
  {
   "cell_type": "code",
   "execution_count": 5,
   "id": "c55c8a44-4abd-46a0-b86a-3288f0930a8d",
   "metadata": {},
   "outputs": [
    {
     "name": "stdout",
     "output_type": "stream",
     "text": [
      "{'language': 'Python', 'course': 'Data Science Masters', 'topics': ['Python', 'Machine Learning', 'Deep Learning']}\n"
     ]
    }
   ],
   "source": [
    "#7.Using setdefault() method,create key named topics in the given dictionary and also add the value of the list key as this list['Python','Machine Learning','Deep Learning']\n",
    "dict1={'language':'Python','course':'Data Science Masters'}\n",
    "\n",
    "dict1={'language':'Python','course':'Data Science Masters'}\n",
    "dict1.setdefault('topics', []).extend(['Python', 'Machine Learning', 'Deep Learning'])\n",
    "\n",
    "print(dict1)\n"
   ]
  },
  {
   "cell_type": "code",
   "execution_count": 6,
   "id": "7a9cd050-cd3a-47a6-a910-e3d1236b4f33",
   "metadata": {},
   "outputs": [
    {
     "name": "stdout",
     "output_type": "stream",
     "text": [
      "dict_keys(['Sport', 'Teams'])\n",
      "dict_values(['Cricket', ['India', 'Australia', 'England', 'South Africa', 'Sri Lanka', 'New Zealand']])\n",
      "dict_items([('Sport', 'Cricket'), ('Teams', ['India', 'Australia', 'England', 'South Africa', 'Sri Lanka', 'New Zealand'])])\n"
     ]
    }
   ],
   "source": [
    "#8.What are the three view objects in dictionarie?Use the three in-built methods in python to display these three view objects for the given dictionary.\n",
    "#dict1={'Sport':'Cricket','Teams':['India','Australia','England','South Africa','Sri Lanka','New Zealand']}\n",
    "\n",
    "#In dictionaries, there are three view objects: keys(), values(), and items().\n",
    "#keys() returns a view object that displays a list of all the keys in the dictionary.\n",
    "#values() returns a view object that displays a list of all the values in the dictionary.\n",
    "#items() returns a view object that displays a list of all the key-value pairs (items) in the dictionary.\n",
    "#Here's how you can display the three view objects for the given dict1 dictionary:\n",
    "\n",
    "dict1={'Sport':'Cricket','Teams':['India','Australia','England','South Africa','Sri Lanka','New Zealand']}\n",
    "\n",
    "# keys\n",
    "print(dict1.keys())\n",
    "\n",
    "# values\n",
    "print(dict1.values())\n",
    "\n",
    "# items\n",
    "print(dict1.items())\n"
   ]
  },
  {
   "cell_type": "code",
   "execution_count": null,
   "id": "3c996120-7849-4569-860a-eee5fa6f7748",
   "metadata": {},
   "outputs": [],
   "source": []
  }
 ],
 "metadata": {
  "kernelspec": {
   "display_name": "Python 3 (ipykernel)",
   "language": "python",
   "name": "python3"
  },
  "language_info": {
   "codemirror_mode": {
    "name": "ipython",
    "version": 3
   },
   "file_extension": ".py",
   "mimetype": "text/x-python",
   "name": "python",
   "nbconvert_exporter": "python",
   "pygments_lexer": "ipython3",
   "version": "3.10.8"
  }
 },
 "nbformat": 4,
 "nbformat_minor": 5
}
