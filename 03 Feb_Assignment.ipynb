{
 "cells": [
  {
   "cell_type": "code",
   "execution_count": 4,
   "id": "ba9b984b-eae0-4bbd-bc46-740547390fe9",
   "metadata": {},
   "outputs": [
    {
     "name": "stdout",
     "output_type": "stream",
     "text": [
      "[1, 3, 5, 7, 9, 11, 13, 15, 17, 19, 21, 23, 25]\n"
     ]
    }
   ],
   "source": [
    "#1.Which keyword is used to create a function? Create a function to return a list of odd number in the range of 1 to 25\n",
    "\n",
    "\n",
    "#The keyword used to create a function in Python is \"def\". \n",
    "def odd_num():\n",
    "    odd_numbers=[]\n",
    "    for i in range(1,26):\n",
    "        if i % 2 != 0:\n",
    "            odd_numbers.append(i)\n",
    "    return odd_numbers\n",
    "odd_nums=odd_num()\n",
    "print(odd_nums)"
   ]
  },
  {
   "cell_type": "code",
   "execution_count": 5,
   "id": "af2d0d13-e122-430b-923d-e10f8d385e1f",
   "metadata": {},
   "outputs": [
    {
     "name": "stdout",
     "output_type": "stream",
     "text": [
      "(1, 2, 3)\n",
      "{'a': 1, 'b': 2, 'c': 3}\n"
     ]
    }
   ],
   "source": [
    "#2.Why *args and **wargs is used in some functions? Create a function each for *args and **kwargs to demonstrate their use.\n",
    "\n",
    "\n",
    "#The syntax *args and **kwargs is used in functions to allow them to accept a variable number of arguments.\n",
    "#*args is used to send a non-keyworded variable length argument list to the function. The syntax *args allows you to pass a variable number of arguments to a function. For example:\n",
    "def print_args(*args):\n",
    "    print(args)\n",
    "\n",
    "print_args(1, 2, 3)\n",
    "\n",
    "# **kwargs is used to send a keyworded variable length argument list to the function. The syntax **kwargs in a function definition is used to pass keyworded, variable-length argument list. The double asterisk form of **kwargs is used to pass keyword arguments (i.e., named arguments) to a function. For example:\n",
    "def print_kwargs(**kwargs):\n",
    "    print(kwargs)\n",
    "\n",
    "print_kwargs(a=1, b=2, c=3)\n"
   ]
  },
  {
   "cell_type": "code",
   "execution_count": 7,
   "id": "1dba284c-8a0a-4622-8dce-65c8e5af9898",
   "metadata": {},
   "outputs": [
    {
     "name": "stdout",
     "output_type": "stream",
     "text": [
      "2\n",
      "4\n",
      "6\n",
      "8\n",
      "10\n"
     ]
    }
   ],
   "source": [
    "#3.What is an iterator in python? Name the method used to initialise the iterator object and the method used for iteration.Use thee methods to print the first five elements of the given lit [2,4,6,8,10,12,14,16,18,20]\n",
    "\n",
    "\n",
    "#An iterator in Python is an object that can be iterated (looped) upon. An object which will return data, one element at a time. In Python, an iterator is an object that implements the iterator protocol, which consists of the methods __iter__() and __next__().\n",
    "#The method __iter__() is used to initialize the iterator object. It returns the iterator object itself. The __iter__() method is called when an iterator is required for a container object.\n",
    "#The method __next__() is used for iteration. It returns the next value from the iterator. If there are no more items to return, it should raise StopIteration.\n",
    "\n",
    "class IterateList:\n",
    "    def __init__(self, lst):\n",
    "        self.lst = lst\n",
    "        self.index = 0\n",
    "\n",
    "    def __iter__(self):\n",
    "        return self\n",
    "\n",
    "    def __next__(self):\n",
    "        if self.index >= len(self.lst):\n",
    "            raise StopIteration\n",
    "        else:\n",
    "            item = self.lst[self.index]\n",
    "            self.index += 1\n",
    "            return item\n",
    "\n",
    "lst = [2, 4, 6, 8, 10, 12, 14, 16, 18, 20]\n",
    "it = iter(IterateList(lst))\n",
    "for i in range(5):\n",
    "    print(next(it))"
   ]
  },
  {
   "cell_type": "code",
   "execution_count": 8,
   "id": "a5f74578-7972-49b5-9f34-df9016b7a35f",
   "metadata": {},
   "outputs": [
    {
     "name": "stdout",
     "output_type": "stream",
     "text": [
      "0\n",
      "1\n",
      "1\n",
      "2\n",
      "3\n",
      "5\n",
      "8\n",
      "13\n",
      "21\n",
      "34\n"
     ]
    }
   ],
   "source": [
    "#4.What is a generator function in python? Why yield keyword is used? Give an example of a generator function.\n",
    "\n",
    "\n",
    "#A generator function in Python is a special kind of function that can be used to create an iterator, which is an object that generates a sequence of values, one value at a time, when iterated over. A generator function is defined like a normal function, but instead of using the return statement to return a value, it uses the yield statement.\n",
    "#The yield keyword is used in a generator function to produce a value and then pause the function's execution, remembering the location from which it left off so that it can be resumed later. Each time the generator function is called, it resumes its execution from where it left off and continues until the next yield statement is encountered.\n",
    "#Here's an example of a generator function that generates the Fibonacci sequence:\n",
    "\n",
    "def fibonacci_sequence(n):\n",
    "    a, b = 0, 1\n",
    "    for i in range(n):\n",
    "        yield a\n",
    "        a, b = b, a + b\n",
    "\n",
    "fib = fibonacci_sequence(10)\n",
    "for number in fib:\n",
    "    print(number)\n",
    "\n",
    "#As you can see, the generator function generates the values of the Fibonacci sequence one by one, rather than all at once, which makes it more memory-efficient than a normal function that returns the entire sequence in a list or tuple."
   ]
  },
  {
   "cell_type": "code",
   "execution_count": 10,
   "id": "320d3aff-a91d-46c6-a4bc-bd21eedd0ba4",
   "metadata": {},
   "outputs": [
    {
     "name": "stdout",
     "output_type": "stream",
     "text": [
      "2\n",
      "3\n",
      "5\n",
      "7\n",
      "11\n",
      "13\n",
      "17\n",
      "19\n",
      "23\n",
      "29\n",
      "31\n",
      "37\n",
      "41\n",
      "43\n",
      "47\n",
      "53\n",
      "59\n",
      "61\n",
      "67\n",
      "71\n"
     ]
    }
   ],
   "source": [
    "#5.Create a generator function for prime numbers less than 1000.Use the next() method to print the first 20 prime numbers.\n",
    "\n",
    "def prime_numbers_less_than_1000():\n",
    "    primes = []\n",
    "    for num in range(2, 1000):\n",
    "        for i in range(2, num):\n",
    "            if (num % i) == 0:\n",
    "                break\n",
    "        else:\n",
    "            primes.append(num)\n",
    "            yield num\n",
    "\n",
    "prime_numbers = prime_numbers_less_than_1000()\n",
    "for i in range(20):\n",
    "    print(next(prime_numbers))\n"
   ]
  }
 ],
 "metadata": {
  "kernelspec": {
   "display_name": "Python 3 (ipykernel)",
   "language": "python",
   "name": "python3"
  },
  "language_info": {
   "codemirror_mode": {
    "name": "ipython",
    "version": 3
   },
   "file_extension": ".py",
   "mimetype": "text/x-python",
   "name": "python",
   "nbconvert_exporter": "python",
   "pygments_lexer": "ipython3",
   "version": "3.10.8"
  }
 },
 "nbformat": 4,
 "nbformat_minor": 5
}
