{
 "cells": [
  {
   "cell_type": "code",
   "execution_count": null,
   "id": "bf0273e4-6bb1-409f-8a5c-3f955ae138aa",
   "metadata": {},
   "outputs": [],
   "source": [
    "Q1.what is an exception in python?write the difference between exceptions and syntax errors.\n",
    "\n",
    "In Python, an exception is an error that occurs during the execution of a program, which interrupts the normal flow of the program. When an exception is raised, Python stops executing the code in the current function and tries to find an exception handler that can handle the error.\n",
    "Syntax errors, on the other hand, are errors that occur when the Python interpreter encounters code that is not syntactically valid, meaning the code does not follow the rules of the Python language. These errors are detected by the Python interpreter before the code is executed.\n",
    "The key differences between exceptions and syntax errors are:\n",
    "Timing of the error: Syntax errors are detected by the Python interpreter before the code is executed, whereas exceptions are raised during the execution of the code.\n",
    "Cause of the error: Syntax errors are caused by mistakes in the code, such as misspelled keywords, missing or incorrect punctuation, or incorrect indentation. Exceptions are raised when the code encounters a situation that it cannot handle, such as dividing by zero, trying to access a variable that does not exist, or attempting to open a file that does not exist.\n",
    "Handling of the error: Syntax errors must be fixed in the code before the program can be run, whereas exceptions can be handled by writing exception handlers that catch the error and take appropriate action, such as printing an error message, logging the error, or retrying the operation.\n",
    "In summary, while syntax errors are caused by mistakes in the code, exceptions are raised when the code encounters a situation that it cannot handle, and they can be handled by writing exception handlers to manage the error and allow the program to continue running."
   ]
  },
  {
   "cell_type": "code",
   "execution_count": 1,
   "id": "5b255420-fae6-4ea8-a982-19de864a22ae",
   "metadata": {},
   "outputs": [
    {
     "ename": "ZeroDivisionError",
     "evalue": "division by zero",
     "output_type": "error",
     "traceback": [
      "\u001b[0;31m---------------------------------------------------------------------------\u001b[0m",
      "\u001b[0;31mZeroDivisionError\u001b[0m                         Traceback (most recent call last)",
      "Cell \u001b[0;32mIn[1], line 8\u001b[0m\n\u001b[1;32m      6\u001b[0m numerator \u001b[38;5;241m=\u001b[39m \u001b[38;5;241m10\u001b[39m\n\u001b[1;32m      7\u001b[0m denominator \u001b[38;5;241m=\u001b[39m \u001b[38;5;241m0\u001b[39m\n\u001b[0;32m----> 8\u001b[0m result \u001b[38;5;241m=\u001b[39m \u001b[43mnumerator\u001b[49m\u001b[43m \u001b[49m\u001b[38;5;241;43m/\u001b[39;49m\u001b[43m \u001b[49m\u001b[43mdenominator\u001b[49m\n\u001b[1;32m      9\u001b[0m \u001b[38;5;28mprint\u001b[39m(result)\n",
      "\u001b[0;31mZeroDivisionError\u001b[0m: division by zero"
     ]
    }
   ],
   "source": [
    "#Q2.what happens when an exception is not handled? Explain with an example.\n",
    "\n",
    "#When an exception is not handled in a Python program, the program will terminate abruptly and display an error message, which can make it difficult for the user to understand what went wrong. The error message will include information about the type of exception that occurred, the line of code where the exception was raised, and a traceback that shows the sequence of function calls that led up to the exception.\n",
    "#Here's an example of what happens when an exception is not handled:\n",
    "\n",
    "numerator = 10\n",
    "denominator = 0\n",
    "result = numerator / denominator\n",
    "print(result)\n",
    "\n",
    "\n",
    "#In this example, the program attempts to divide the variable numerator by the variable denominator, but since denominator is set to zero, a ZeroDivisionError exception is raised."
   ]
  },
  {
   "cell_type": "code",
   "execution_count": 3,
   "id": "45ce1757-fa13-4e90-b6a9-3cbcc9bc38a0",
   "metadata": {},
   "outputs": [
    {
     "name": "stdin",
     "output_type": "stream",
     "text": [
      "Enter a number:  2.5\n"
     ]
    },
    {
     "name": "stdout",
     "output_type": "stream",
     "text": [
      "Error: Invalid input. Please enter an integer.\n"
     ]
    },
    {
     "name": "stdin",
     "output_type": "stream",
     "text": [
      "Enter a number:  5\n"
     ]
    },
    {
     "name": "stdout",
     "output_type": "stream",
     "text": [
      "The square of the number is: 25\n"
     ]
    }
   ],
   "source": [
    "#Q3.which python statements are used to catch and handle exceptions? Explain with an example.\n",
    "\n",
    "#In Python, the try and except statements are used to catch and handle exceptions. The basic syntax of a try-except block is as follows:\n",
    "# try:\n",
    "    # code that might raise an exception\n",
    "#  except ExceptionType:\n",
    "    # code to handle the exception\n",
    "#Here, the try block contains the code that might raise an exception, and the except block contains the code that should be executed if the specified exception is raised.\n",
    "#Here's an example that shows how to use a try-except block to catch and handle a ValueError exception:\n",
    "while True:\n",
    "    try:\n",
    "        num = int(input(\"Enter a number: \"))\n",
    "        print(\"The square of the number is:\", num**2)\n",
    "        break\n",
    "    except ValueError:\n",
    "        print(\"Error: Invalid input. Please enter an integer.\")\n",
    "\n",
    "\n",
    "#In this example, the program prompts the user to enter a number, and then attempts to compute the square of that number. If the user enters a non-integer value, a ValueError exception will be raised. The try block contains the code that might raise the exception, while the except block contains the code to handle the exception.\n",
    "#The except block in this example prints an error message, indicating that the user entered an invalid input, and then continues the loop, prompting the user to enter a new value. This process continues until the user enters a valid integer, at which point the program computes the square of the number and prints the result.\n",
    "#By using a try-except block in this way, the program can gracefully handle errors caused by invalid user input, and prompt the user to enter a valid input instead of crashing with an error message.   "
   ]
  },
  {
   "cell_type": "code",
   "execution_count": null,
   "id": "a96a24b2-d092-44c0-ac15-af5377f4d5b2",
   "metadata": {},
   "outputs": [
    {
     "name": "stdin",
     "output_type": "stream",
     "text": [
      "Enter the first number:  10\n",
      "Enter the second number:  0\n"
     ]
    },
    {
     "name": "stdout",
     "output_type": "stream",
     "text": [
      "Error: Cannot divide by zero.\n"
     ]
    }
   ],
   "source": [
    "#Q4.Explain with an example:\n",
    "#    a.try and else\n",
    "#    b.finally\n",
    "#    c.raise\n",
    "    \n",
    "#a) try and else:\n",
    "#In Python, we can use try and else together to handle exceptions that might occur in a block of code, while also executing a piece of code after the try block has executed successfully. The else block is executed only if the try block completes without any exceptions being raised.\n",
    "#Here's an example:\n",
    "try:\n",
    "    num1 = int(input(\"Enter the first number: \"))\n",
    "    num2 = int(input(\"Enter the second number: \"))\n",
    "    result = num1 / num2\n",
    "except ValueError:\n",
    "    print(\"Error: Invalid input. Please enter an integer.\")\n",
    "except ZeroDivisionError:\n",
    "    print(\"Error: Cannot divide by zero.\")\n",
    "else:\n",
    "    print(\"The result of the division is:\", result)\n"
   ]
  },
  {
   "cell_type": "code",
   "execution_count": 6,
   "id": "82b001ea-21b7-4e90-921b-c9ca168a88be",
   "metadata": {},
   "outputs": [
    {
     "name": "stdin",
     "output_type": "stream",
     "text": [
      "Enter the first number:  10\n",
      "Enter the second number:  5\n"
     ]
    },
    {
     "name": "stdout",
     "output_type": "stream",
     "text": [
      "The result of the division is: 2.0\n",
      "Have a nice day!\n"
     ]
    }
   ],
   "source": [
    "#b) finally:\n",
    "#In Python, the finally statement is used to define a block of code that will be executed no matter what happens in a try block, whether an exception is raised or not. This can be useful for tasks like closing files or releasing resources, which should be performed regardless of whether an exception occurred.\n",
    "#Here's an example:\n",
    "try:\n",
    "    num1 = int(input(\"Enter the first number: \"))\n",
    "    num2 = int(input(\"Enter the second number: \"))\n",
    "    result = num1 / num2\n",
    "except ValueError:\n",
    "    print(\"Error: Invalid input. Please enter an integer.\")\n",
    "except ZeroDivisionError:\n",
    "    print(\"Error: Cannot divide by zero.\")\n",
    "else:\n",
    "    print(\"The result of the division is:\", result)\n",
    "finally:\n",
    "    print(\"Have a nice day!\")"
   ]
  },
  {
   "cell_type": "code",
   "execution_count": 7,
   "id": "573faf0f-f394-4245-851e-850718cf1897",
   "metadata": {},
   "outputs": [
    {
     "name": "stdout",
     "output_type": "stream",
     "text": [
      "Error: Cannot divide by zero.\n"
     ]
    }
   ],
   "source": [
    "#c) raise:\n",
    "#In Python, the raise statement is used to manually raise an exception, which can be useful for handling unexpected situations or signaling errors in code. The raise statement can be used with built-in exceptions like ValueError, TypeError, or Exception, or with user-defined exceptions.\n",
    "\n",
    "def divide(num1, num2):\n",
    "    if num2 == 0:\n",
    "        raise ValueError(\"Error: Cannot divide by zero.\")\n",
    "    return num1 / num2\n",
    "\n",
    "try:\n",
    "    result = divide(10, 0)\n",
    "except ValueError as e:\n",
    "    print(e)\n",
    "else:\n",
    "    print(\"The result of the division is:\", result)\n",
    "\n",
    "#In this example, the divide function takes two numbers and divides them, raising a ValueError exception if the second number is zero. The try block calls the divide function with the arguments 10 and 0, which will raise an exception. The except block catches the exception and prints the error message, while the else block is not executed. If the division had been successful, the else block would have executed, printing the result of the division."
   ]
  },
  {
   "cell_type": "code",
   "execution_count": 10,
   "id": "91852d2d-e7f0-4c7e-a860-bc2e3da2e2ad",
   "metadata": {},
   "outputs": [
    {
     "name": "stdout",
     "output_type": "stream",
     "text": [
      "Error: Insufficient funds. Balance: 1000, Amount: 1500\n"
     ]
    }
   ],
   "source": [
    "#Q5.what are custom exception in python?why do we need custom exceptions? Explain with an example.\n",
    "\n",
    "#In Python, custom exceptions are user-defined exceptions that can be used to signal errors or unexpected situations in code. Custom exceptions are created by defining a new class that inherits from the built-in Exception class or one of its subclasses.\n",
    "#We need custom exceptions in Python to provide more specific and informative error messages to users, rather than just relying on built-in exceptions like ValueError or TypeError. Custom exceptions can be used to provide more context about the error, help with debugging, and make code more readable and maintainable.\n",
    "#Here's an example of how to define and use a custom exception in Python:\n",
    "\n",
    "class InsufficientFundsError(Exception):\n",
    "    def __init__(self, balance, amount):\n",
    "        self.balance = balance\n",
    "        self.amount = amount\n",
    "    \n",
    "    def __str__(self):\n",
    "        return f\"Error: Insufficient funds. Balance: {self.balance}, Amount: {self.amount}\"\n",
    "\n",
    "def withdraw(balance, amount):\n",
    "    if balance < amount:\n",
    "        raise InsufficientFundsError(balance, amount)\n",
    "    else:\n",
    "        return balance - amount\n",
    "\n",
    "try:\n",
    "    balance = 1000\n",
    "    amount = 1500\n",
    "    new_balance = withdraw(balance, amount)\n",
    "except InsufficientFundsError as e:\n",
    "    print(e)\n",
    "else:\n",
    "    print(f\"Withdrawal successful. New balance: {new_balance}\")\n",
    "\n",
    "#In this example, we define a custom exception class InsufficientFundsError that inherits from the built-in Exception class. The __init__ method of the class takes two arguments balance and amount, which are used to initialize instance variables of the same names. The __str__ method is overridden to provide a custom error message that includes the current balance and the requested amount.\n",
    "#We then define a withdraw function that takes two arguments balance and amount, and raises an InsufficientFundsError exception if the balance is less than the amount requested. The try block calls the withdraw function with a balance of 1000 and an amount of 1500, which will raise an exception. The except block catches the InsufficientFundsError exception and prints the custom error message defined in the InsufficientFundsError class. The else block is not executed since an exception was raised.\n",
    "#By defining and using a custom exception in this way, we can provide a more informative error message to users, which includes the current balance and the requested amount. This can help with debugging and make the code more readable and maintainable."
   ]
  },
  {
   "cell_type": "code",
   "execution_count": 9,
   "id": "01372ddb-80ea-4dcc-bc34-066541bf651a",
   "metadata": {},
   "outputs": [
    {
     "name": "stdout",
     "output_type": "stream",
     "text": [
      "Invalid input: -4. Please enter a valid input.\n"
     ]
    }
   ],
   "source": [
    "#Q6.create a custom exception class.Use this class to handle an exception.\n",
    "\n",
    "class InvalidInputError(Exception):\n",
    "    \"\"\"Exception raised when the input is invalid.\"\"\"\n",
    "    def __init__(self, input_value):\n",
    "        self.input_value = input_value\n",
    "    \n",
    "    def __str__(self):\n",
    "        return f\"Invalid input: {self.input_value}. Please enter a valid input.\"\n",
    "\n",
    "def calculate_square_root(num):\n",
    "    if num < 0:\n",
    "        raise InvalidInputError(num)\n",
    "    else:\n",
    "        return num ** 0.5\n",
    "\n",
    "try:\n",
    "    num = -4\n",
    "    result = calculate_square_root(num)\n",
    "except InvalidInputError as e:\n",
    "    print(e)\n",
    "else:\n",
    "    print(f\"The square root of {num} is {result}.\")\n"
   ]
  }
 ],
 "metadata": {
  "kernelspec": {
   "display_name": "Python 3 (ipykernel)",
   "language": "python",
   "name": "python3"
  },
  "language_info": {
   "codemirror_mode": {
    "name": "ipython",
    "version": 3
   },
   "file_extension": ".py",
   "mimetype": "text/x-python",
   "name": "python",
   "nbconvert_exporter": "python",
   "pygments_lexer": "ipython3",
   "version": "3.10.8"
  }
 },
 "nbformat": 4,
 "nbformat_minor": 5
}
