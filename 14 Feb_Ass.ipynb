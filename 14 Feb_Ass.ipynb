{
 "cells": [
  {
   "cell_type": "markdown",
   "id": "f4bd47e3-eef6-4a13-bedc-916f13981d04",
   "metadata": {},
   "source": [
    "Q1. what is multithreading in python? why is it used? Name the module used to handle threads in python"
   ]
  },
  {
   "cell_type": "markdown",
   "id": "8ddfcadd-e09a-499d-93ac-a3a4a0e9dc2a",
   "metadata": {},
   "source": [
    "Multithreading is a programming concept where multiple threads of execution are created within a single process to perform concurrent tasks. In Python, multithreading is achieved using the threading module.\n",
    "\n",
    "Multithreading is used to improve the performance of a program by allowing it to execute multiple tasks simultaneously. For example, if a program needs to perform two time-consuming tasks, it can use multithreading to create two threads, with each thread performing one task concurrently. This can result in significant time savings as the two tasks can be performed simultaneously instead of one after the other.\n",
    "\n",
    "The threading module in Python provides a way to create and manage threads. It allows a program to create multiple threads and execute them concurrently. The module provides several classes and functions for creating and managing threads, including the Thread class, which is used to create new threads, and the Lock class, which is used to synchronize access to shared resources between threads.\n",
    "\n",
    "In summary, multithreading is a powerful concept in programming that allows a program to perform multiple tasks simultaneously. The threading module in Python is used to create and manage threads, and it provides several classes and functions for this purpose."
   ]
  },
  {
   "cell_type": "markdown",
   "id": "fb8976d0-6aee-4295-b363-2be61ceb70b6",
   "metadata": {},
   "source": [
    "Q2. why threading module used? rite the use of the following functions\n",
    "1.activeCount()\n",
    "2.currentThread()\n",
    "3.enumerate()"
   ]
  },
  {
   "cell_type": "markdown",
   "id": "a414c179-6ee2-47cc-85ff-de3382411c60",
   "metadata": {},
   "source": [
    "The threading module is used in Python to implement multithreading. It provides a simple and effective way to create and manage threads in a program.\n",
    "\n",
    "Here are the uses of the following functions in the threading module:\n",
    "\n",
    "activeCount(): This function returns the number of thread objects that are currently alive in the program. It is useful for debugging and monitoring purposes, as it allows you to keep track of the number of threads in your program at any given time.\n",
    "\n",
    "currentThread(): This function returns a reference to the current thread object. It is useful for identifying the thread that is currently executing, and can be used to access thread-specific data or to perform thread-specific operations.\n",
    "\n",
    "enumerate(): This function returns a list of all thread objects that are currently alive in the program. It is useful for debugging and monitoring purposes, as it allows you to inspect the state of all threads in your program at any given time. The returned list contains thread objects, which can be used to perform operations on the threads, such as joining or terminating them.\n",
    "\n",
    "In summary, the threading module is used in Python to implement multithreading, and it provides several functions for managing threads. The activeCount(), currentThread(), and enumerate() functions are useful for monitoring and debugging multithreaded programs.\n",
    "\n",
    "\n",
    "\n"
   ]
  },
  {
   "cell_type": "markdown",
   "id": "c94a4470-1b15-40db-96fa-835194362559",
   "metadata": {},
   "source": [
    "Q3.Explain the following functions\n",
    " 1.run()\n",
    " 2.start()\n",
    " 3.join()\n",
    " 4.isAlive()"
   ]
  },
  {
   "cell_type": "markdown",
   "id": "fa4239bd-6b4d-4cd8-a25b-a35cdad9e590",
   "metadata": {},
   "source": [
    "In the threading module of Python, the following functions are commonly used to manage threads:\n",
    "\n",
    "run(): This method is called when a thread is started using the start() method. It is the method where the thread's activity is defined. The run() method can be overridden in a subclass to define custom thread behavior.\n",
    "\n",
    "start(): This method starts a thread's activity by calling the run() method. Once a thread is started, it begins executing its run() method in a separate thread of control. The start() method should only be called once for each thread object.\n",
    "\n",
    "join(): This method blocks the calling thread until the thread whose join() method is called has completed. When a thread completes its work, it terminates, and the join() method returns control to the calling thread. The join() method is useful for coordinating the activity of multiple threads in a program.\n",
    "\n",
    "isAlive(): This method returns True if the thread is currently alive (i.e., it has been started but has not yet completed its work), and False otherwise. The isAlive() method is useful for monitoring the status of a thread and for coordinating the activity of multiple threads in a program.\n",
    "\n",
    "In summary, the run() method is called when a thread is started using the start() method, and it defines the thread's activity. The join() method blocks the calling thread until the thread whose join() method is called has completed. The isAlive() method is used to determine whether a thread is currently executing."
   ]
  },
  {
   "cell_type": "markdown",
   "id": "b050be01-7f9d-49ec-993f-497638345468",
   "metadata": {},
   "source": [
    "Q4.rite a python program to create two threads. Thread one must print the list of squares and thread\n",
    "two must print the list of cubes"
   ]
  },
  {
   "cell_type": "code",
   "execution_count": 1,
   "id": "d67d5852-b475-4385-adef-9c4f2b10e7c3",
   "metadata": {},
   "outputs": [
    {
     "name": "stdout",
     "output_type": "stream",
     "text": [
      "1 squared is 1\n",
      "2 squared is 4\n",
      "3 squared is 9\n",
      "4 squared is 16\n",
      "5 squared is 25\n",
      "6 squared is 36\n",
      "7 squared is 49\n",
      "8 squared is 64\n",
      "9 squared is 81\n",
      "10 squared is 100\n",
      "1 cubed is 1\n",
      "2 cubed is 8\n",
      "3 cubed is 27\n",
      "4 cubed is 64\n",
      "5 cubed is 125\n",
      "6 cubed is 216\n",
      "7 cubed is 343\n",
      "8 cubed is 512\n",
      "9 cubed is 729\n",
      "10 cubed is 1000\n",
      "Done\n"
     ]
    }
   ],
   "source": [
    "import threading\n",
    "\n",
    "def print_squares():\n",
    "    for i in range(1, 11):\n",
    "        print(f\"{i} squared is {i*i}\")\n",
    "\n",
    "def print_cubes():\n",
    "    for i in range(1, 11):\n",
    "        print(f\"{i} cubed is {i*i*i}\")\n",
    "\n",
    "# create two threads\n",
    "t1 = threading.Thread(target=print_squares)\n",
    "t2 = threading.Thread(target=print_cubes)\n",
    "\n",
    "# start the threads\n",
    "t1.start()\n",
    "t2.start()\n",
    "\n",
    "# wait for the threads to finish\n",
    "t1.join()\n",
    "t2.join()\n",
    "\n",
    "print(\"Done\")\n"
   ]
  },
  {
   "cell_type": "markdown",
   "id": "ce409c16-6320-402d-bc94-a38b509a39b6",
   "metadata": {},
   "source": [
    "Q5.State advantages and disadvantages of multithreading"
   ]
  },
  {
   "cell_type": "markdown",
   "id": "fc8c3325-5aeb-4c21-9531-783a8b2aca54",
   "metadata": {},
   "source": [
    "Advantages of multithreading:\n",
    "\n",
    "Increased responsiveness and interactivity: Multithreading allows a program to remain responsive even when performing time-consuming tasks. This is because threads can run concurrently and handle multiple tasks simultaneously, making the program feel more responsive to user input.\n",
    "\n",
    "Better resource utilization: Multithreading can make better use of available system resources such as CPU time and memory. This is because multiple threads can run on a single processor, allowing for better utilization of processing power.\n",
    "\n",
    "Simplified coding: Multithreading can simplify code by allowing for a more modular and organized design. This can make it easier to develop and maintain complex programs.\n",
    "\n",
    "Increased throughput and efficiency: Multithreading can increase throughput by enabling multiple tasks to be performed simultaneously. This can result in a more efficient program that can process more data in less time.\n",
    "\n",
    "Disadvantages of multithreading:\n",
    "\n",
    "Increased complexity: Multithreading can make the program more complex and difficult to design, debug, and maintain. This is because threads can interact in unpredictable ways and lead to synchronization issues.\n",
    "\n",
    "Increased resource consumption: Multithreading can consume more system resources such as memory and CPU time. This is because each thread requires its own stack and resources.\n",
    "\n",
    "Synchronization issues: Multithreading can lead to synchronization issues, where multiple threads access shared resources or data at the same time. This can lead to conflicts, data corruption, and other issues.\n",
    "\n",
    "Difficulty in debugging: Multithreaded programs can be difficult to debug due to the complex interactions between threads. Debugging can be time-consuming and require specialized tools."
   ]
  },
  {
   "cell_type": "markdown",
   "id": "c1e31703-6662-4187-b3cb-6147ba203c5e",
   "metadata": {},
   "source": [
    "Q6. Explain deadlocks and race conditions."
   ]
  },
  {
   "cell_type": "markdown",
   "id": "738ade97-f8ef-46fe-946b-e20812d12996",
   "metadata": {},
   "source": [
    "Deadlocks and race conditions are two common problems that can occur in multithreaded programs.\n",
    "\n",
    "Deadlocks occur when two or more threads are blocked, waiting for each other to release resources that they need to proceed. This can occur when multiple threads acquire locks or resources in a different order, causing them to wait indefinitely for each other to release the resources they need. Deadlocks can lead to a program becoming unresponsive and require manual intervention to resolve.\n",
    "\n",
    "Race conditions occur when two or more threads access a shared resource or data in an unpredictable way, leading to unexpected results or behavior. This can occur when multiple threads access the same resource or data at the same time, leading to conflicts or data corruption. Race conditions can be difficult to detect and reproduce because they depend on the specific timing and order of thread execution.\n",
    "\n",
    "In both cases, the root cause of the problem is the unpredictable interaction between multiple threads that share resources or data. To avoid these problems, programmers must carefully design and manage their multithreaded programs to minimize the potential for conflicts and resource contention. This can include using locking mechanisms, avoiding shared resources where possible, and carefully managing the order and timing of thread execution.\n",
    "\n",
    "\n",
    "\n"
   ]
  }
 ],
 "metadata": {
  "kernelspec": {
   "display_name": "Python 3 (ipykernel)",
   "language": "python",
   "name": "python3"
  },
  "language_info": {
   "codemirror_mode": {
    "name": "ipython",
    "version": 3
   },
   "file_extension": ".py",
   "mimetype": "text/x-python",
   "name": "python",
   "nbconvert_exporter": "python",
   "pygments_lexer": "ipython3",
   "version": "3.10.8"
  }
 },
 "nbformat": 4,
 "nbformat_minor": 5
}
