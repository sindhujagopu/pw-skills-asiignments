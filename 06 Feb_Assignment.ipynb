{
 "cells": [
  {
   "cell_type": "code",
   "execution_count": 27,
   "id": "b3ce1e8f-d99c-4e28-9c59-168ca29511e6",
   "metadata": {},
   "outputs": [],
   "source": [
    "#Q1. Create a function which will take a list as an argument and return the product of all the numbers\n",
    "#after creating a flat list.\n",
    "#Use the below-given list as an argument for your function.\n",
    "#list1 = [1,2,3,4, [44,55,66, True], False, (34,56,78,89,34), {1,2,3,3,2,1}, {1:34, \"key2\": [55, 67, 78, 89], 4: (45,22, 61, 34)}, [56, 'data science'], 'Machine Learning']\n",
    "#Note: you must extract numeric keys and values of the dictionary also.\n",
    "def product_of_all_numbers(lst):\n",
    "    numbers = []\n",
    "    \n",
    "    def flatten_list(lst):\n",
    "        for item in lst:\n",
    "            if type(item) in [int, float]:\n",
    "                numbers.append(item)\n",
    "            elif type(item) == str:\n",
    "                try:\n",
    "                    numbers.append(float(item))\n",
    "                except ValueError:\n",
    "                    pass\n",
    "            elif type(item) == tuple:\n",
    "                flatten_list(item)\n",
    "            elif type(item) == list:\n",
    "                flatten_list(item)\n",
    "            elif type(item) == set:\n",
    "                flatten_list(list(item))\n",
    "            elif type(item) == dict:\n",
    "                for key, value in item.items():\n",
    "                    if type(key) in [int, float]:\n",
    "                        numbers.append(key)\n",
    "                    if type(value) in [int, float]:\n",
    "                        numbers.append(value)\n",
    "                    elif type(value) in [list, tuple, set]:\n",
    "                        flatten_list(value)\n",
    "    \n",
    "    flatten_list(lst)\n",
    "    \n",
    "    product = 1\n",
    "    for number in numbers:\n",
    "        product *= number\n",
    "    \n",
    "    return product\n"
   ]
  },
  {
   "cell_type": "code",
   "execution_count": 28,
   "id": "3012e80d-a58d-4b44-bc11-a24a391aa930",
   "metadata": {},
   "outputs": [
    {
     "name": "stdout",
     "output_type": "stream",
     "text": [
      "4134711838987085478833841242112000\n"
     ]
    }
   ],
   "source": [
    "list1 = [1,2,3,4, [44,55,66, True], False, (34,56,78,89,34), {1,2,3,3,2,1}, {1:34, \"key2\": [55, 67, 78, 89], 4: (45, 22, 61, 34)}, [56, 'data science'], 'Machine Learning']\n",
    "result = product_of_all_numbers(list1)\n",
    "print(result)\n"
   ]
  },
  {
   "cell_type": "code",
   "execution_count": 20,
   "id": "1ddc1fbb-bc58-40ae-b753-ffa69dfc9201",
   "metadata": {},
   "outputs": [
    {
     "name": "stdin",
     "output_type": "stream",
     "text": [
      "\n",
      "..Enter the String: ABC!\n"
     ]
    },
    {
     "name": "stdout",
     "output_type": "stream",
     "text": [
      " zyx!\n"
     ]
    }
   ],
   "source": [
    "#Q2. Write a python program for encrypting a message sent to you by your friend. The logic of encryption\n",
    "#should be such that, for a the output should be z. For b, the output should be y. For c, the output should\n",
    "#be x respectively. Also, the whitespace should be replaced with a dollar sign. Keep the punctuation marks unchanged.\n",
    "#Input Sentence: I want to become a Data Scientist.\n",
    "#Encrypt the above input sentence using the program you just created.\n",
    "#Note: Convert the given input sentence into lowercase before encrypting. The final output should be lowercase.\n",
    "a=input(\"\\n..Enter the String:\")\n",
    "b=str.lower(a)\n",
    "c=\" \"\n",
    "total=122+97\n",
    "for i in b:\n",
    "    if(i==\" \"):\n",
    "        c=c+'$'\n",
    "    elif(i.isalpha()):\n",
    "        d=total-ord(i)\n",
    "        c=c+chr(d)\n",
    "    else:\n",
    "        c=c+i\n",
    "print(c)"
   ]
  },
  {
   "cell_type": "code",
   "execution_count": null,
   "id": "4cc0ea3d-dfe6-4bec-ab76-56c8b9dcd541",
   "metadata": {},
   "outputs": [],
   "source": []
  }
 ],
 "metadata": {
  "kernelspec": {
   "display_name": "Python 3 (ipykernel)",
   "language": "python",
   "name": "python3"
  },
  "language_info": {
   "codemirror_mode": {
    "name": "ipython",
    "version": 3
   },
   "file_extension": ".py",
   "mimetype": "text/x-python",
   "name": "python",
   "nbconvert_exporter": "python",
   "pygments_lexer": "ipython3",
   "version": "3.10.8"
  }
 },
 "nbformat": 4,
 "nbformat_minor": 5
}
