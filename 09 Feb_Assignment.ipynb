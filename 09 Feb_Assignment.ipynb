{
 "cells": [
  {
   "cell_type": "code",
   "execution_count": 1,
   "id": "740912c7-7b99-46a9-a8a2-c6520e7221de",
   "metadata": {},
   "outputs": [],
   "source": [
    "#Q1, Create a vehicle class with an init method having instance variables as name_of_vehicle, max_speedand average_of_vehicle.\n",
    "\n",
    "class Vehicle:\n",
    "    def __init__(self, name_of_vehicle, max_speed, average_of_vehicle):\n",
    "        self.name_of_vehicle = name_of_vehicle\n",
    "        self.max_speed = max_speed\n",
    "        self.average_of_vehicle = average_of_vehicle\n"
   ]
  },
  {
   "cell_type": "code",
   "execution_count": 9,
   "id": "e132830c-1249-4506-8f45-054fd1d951f0",
   "metadata": {},
   "outputs": [
    {
     "data": {
      "text/plain": [
       "'suzuki has a seating capacity of 5.'"
      ]
     },
     "execution_count": 9,
     "metadata": {},
     "output_type": "execute_result"
    }
   ],
   "source": [
    "#Q2. Create a child class car from the vehicle class created in Que 1, which will inherit the vehicle class.\n",
    "#Create a method named seating_capacity which takes capacity as an argument and returns the name of\n",
    "#the vehicle and its seating capacity.\n",
    "\n",
    "class Car(Vehicle):\n",
    "    def seating_capacity(self, capacity):\n",
    "        return f\"{self.name_of_vehicle} has a seating capacity of {capacity}.\"\n",
    "obj=Car('suzuki',120,60)\n",
    "obj.seating_capacity(5)"
   ]
  },
  {
   "cell_type": "code",
   "execution_count": 11,
   "id": "862528a6-303f-425a-872b-de948b5581a5",
   "metadata": {},
   "outputs": [
    {
     "name": "stdout",
     "output_type": "stream",
     "text": [
      "This is Parent1 method1\n",
      "This is Parent2 method2\n",
      "This is Child method3\n"
     ]
    }
   ],
   "source": [
    "#Q3. What is multiple inheritance? Write a python code to demonstrate multiple inheritance.\n",
    "\n",
    "#Multiple inheritance is a feature of object-oriented programming languages that allows a class to inherit characteristics and behavior from multiple parent classes. It allows a class to inherit attributes and methods from more than one base class, creating a new class that is a combination of the attributes and behaviors of its parent classes.\n",
    "#Here's an example of multiple inheritance in Python:\n",
    "class Parent1:\n",
    "    def method1(self):\n",
    "        print(\"This is Parent1 method1\")\n",
    "\n",
    "class Parent2:\n",
    "    def method2(self):\n",
    "        print(\"This is Parent2 method2\")\n",
    "\n",
    "class Child(Parent1, Parent2):\n",
    "    def method3(self):\n",
    "        print(\"This is Child method3\")\n",
    "\n",
    "c = Child()\n",
    "c.method1()\n",
    "c.method2()\n",
    "c.method3()\n"
   ]
  },
  {
   "cell_type": "code",
   "execution_count": 12,
   "id": "1bb99406-f690-4e00-8415-aeb45431a1b5",
   "metadata": {},
   "outputs": [
    {
     "name": "stdout",
     "output_type": "stream",
     "text": [
      "21\n",
      "21\n"
     ]
    }
   ],
   "source": [
    "#Q4.What are getter and setter in python? Create a class and create a getter and a setter method in this\n",
    "#class.\n",
    "\n",
    "#In Python, getters and setters are not the same as those in other object-oriented programming languages. Basically, the main purpose of using getters and setters in object-oriented programs is to ensure data encapsulation. Private variables in python are not actually hidden fields like in other object oriented languages. Getters and Setters in python are often used when:\n",
    "#We use getters & setters to add validation logic around getting and setting a value.\n",
    "#To avoid direct access of a class field i.e. private variables cannot be accessed directly or modified by external user.\n",
    "#Using normal function to achieve getters and setters behaviour\n",
    "#To achieve getters & setters property, if we define normal get() and set() methods it will not reflect any special implementation. For Example\n",
    "\n",
    "class Geek:\n",
    "    def __init__(self, age = 0):\n",
    "         self._age = age\n",
    "      \n",
    "    # getter method\n",
    "    def get_age(self):\n",
    "        return self._age\n",
    "      \n",
    "    # setter method\n",
    "    def set_age(self, x):\n",
    "        self._age = x\n",
    "  \n",
    "obj = Geek()\n",
    "  \n",
    "# setting the age using setter\n",
    "obj.set_age(21)\n",
    "  \n",
    "# retrieving age using getter\n",
    "print(obj.get_age())\n",
    "  \n",
    "print(obj._age)"
   ]
  },
  {
   "cell_type": "code",
   "execution_count": 13,
   "id": "93975b47-7a89-4156-bfbd-71e25918fbdf",
   "metadata": {},
   "outputs": [
    {
     "name": "stdout",
     "output_type": "stream",
     "text": [
      "The speed of the vehicle is unknown.\n",
      "The speed of the car is 60 mph.\n"
     ]
    }
   ],
   "source": [
    "#Q5.What is method overriding in python? Write a python code to demonstrate method overriding.\n",
    "\n",
    "#Method overriding is a feature of object-oriented programming that allows a subclass to provide a different implementation of a method that is already defined in its parent class. It allows a subclass to inherit and then modify the behavior of a method from its parent class, giving the subclass the ability to define its own custom behavior for the method.\n",
    "#Here's an example of method overriding in Python:\n",
    "\n",
    "class Vehicle:\n",
    "    def get_speed(self):\n",
    "        return \"The speed of the vehicle is unknown.\"\n",
    "\n",
    "class Car(Vehicle):\n",
    "    def get_speed(self):\n",
    "        return \"The speed of the car is 60 mph.\"\n",
    "\n",
    "v = Vehicle()\n",
    "print(v.get_speed())\n",
    "\n",
    "c = Car()\n",
    "print(c.get_speed())\n",
    "\n",
    "\n",
    "#In this example, the Vehicle class has a method get_speed that returns a string indicating that the speed of the vehicle is unknown. The Car class is a subclass of the Vehicle class and overrides the get_speed method to provide a different implementation that returns the string \"The speed of the car is 60 mph.\"\n",
    "#When an object of the Vehicle class is created and the get_speed method is called on it, the original implementation of the method is used, returning the string \"The speed of the vehicle is unknown.\" When an object of the Car class is created and the get_speed method is called on it, the new implementation of the method defined in the Car class is used, returning the string \"The speed of the car is 60 mph.\""
   ]
  }
 ],
 "metadata": {
  "kernelspec": {
   "display_name": "Python 3 (ipykernel)",
   "language": "python",
   "name": "python3"
  },
  "language_info": {
   "codemirror_mode": {
    "name": "ipython",
    "version": 3
   },
   "file_extension": ".py",
   "mimetype": "text/x-python",
   "name": "python",
   "nbconvert_exporter": "python",
   "pygments_lexer": "ipython3",
   "version": "3.10.8"
  }
 },
 "nbformat": 4,
 "nbformat_minor": 5
}
