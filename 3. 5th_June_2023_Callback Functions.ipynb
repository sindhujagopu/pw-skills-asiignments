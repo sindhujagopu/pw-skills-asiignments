{
 "cells": [
  {
   "cell_type": "markdown",
   "id": "1cb74ff6",
   "metadata": {},
   "source": [
    "## Q1. Install and load the latest versions of TensorFlow and Keras. Print their versions."
   ]
  },
  {
   "cell_type": "code",
   "execution_count": 1,
   "id": "62705bd5",
   "metadata": {},
   "outputs": [
    {
     "name": "stdout",
     "output_type": "stream",
     "text": [
      "Requirement already satisfied: tensorflow in c:\\python310\\lib\\site-packages (2.12.0)\n",
      "Requirement already satisfied: tensorflow-intel==2.12.0 in c:\\python310\\lib\\site-packages (from tensorflow) (2.12.0)\n",
      "Requirement already satisfied: absl-py>=1.0.0 in c:\\python310\\lib\\site-packages (from tensorflow-intel==2.12.0->tensorflow) (1.4.0)\n",
      "Requirement already satisfied: astunparse>=1.6.0 in c:\\python310\\lib\\site-packages (from tensorflow-intel==2.12.0->tensorflow) (1.6.3)\n",
      "Requirement already satisfied: flatbuffers>=2.0 in c:\\python310\\lib\\site-packages (from tensorflow-intel==2.12.0->tensorflow) (23.5.26)\n",
      "Requirement already satisfied: gast<=0.4.0,>=0.2.1 in c:\\python310\\lib\\site-packages (from tensorflow-intel==2.12.0->tensorflow) (0.4.0)\n",
      "Requirement already satisfied: google-pasta>=0.1.1 in c:\\python310\\lib\\site-packages (from tensorflow-intel==2.12.0->tensorflow) (0.2.0)\n",
      "Requirement already satisfied: h5py>=2.9.0 in c:\\python310\\lib\\site-packages (from tensorflow-intel==2.12.0->tensorflow) (3.9.0)\n",
      "Requirement already satisfied: jax>=0.3.15 in c:\\python310\\lib\\site-packages (from tensorflow-intel==2.12.0->tensorflow) (0.4.12)\n",
      "Requirement already satisfied: libclang>=13.0.0 in c:\\python310\\lib\\site-packages (from tensorflow-intel==2.12.0->tensorflow) (16.0.0)\n",
      "Requirement already satisfied: numpy<1.24,>=1.22 in c:\\users\\lenovo\\appdata\\roaming\\python\\python310\\site-packages (from tensorflow-intel==2.12.0->tensorflow) (1.23.0)\n",
      "Requirement already satisfied: opt-einsum>=2.3.2 in c:\\python310\\lib\\site-packages (from tensorflow-intel==2.12.0->tensorflow) (3.3.0)\n",
      "Requirement already satisfied: packaging in c:\\python310\\lib\\site-packages (from tensorflow-intel==2.12.0->tensorflow) (23.1)\n",
      "Requirement already satisfied: protobuf!=4.21.0,!=4.21.1,!=4.21.2,!=4.21.3,!=4.21.4,!=4.21.5,<5.0.0dev,>=3.20.3 in c:\\python310\\lib\\site-packages (from tensorflow-intel==2.12.0->tensorflow) (4.23.2)\n",
      "Requirement already satisfied: setuptools in c:\\python310\\lib\\site-packages (from tensorflow-intel==2.12.0->tensorflow) (67.8.0)\n",
      "Requirement already satisfied: six>=1.12.0 in c:\\python310\\lib\\site-packages (from tensorflow-intel==2.12.0->tensorflow) (1.16.0)\n",
      "Requirement already satisfied: termcolor>=1.1.0 in c:\\python310\\lib\\site-packages (from tensorflow-intel==2.12.0->tensorflow) (2.3.0)\n",
      "Requirement already satisfied: typing-extensions>=3.6.6 in c:\\python310\\lib\\site-packages (from tensorflow-intel==2.12.0->tensorflow) (4.6.3)\n",
      "Requirement already satisfied: wrapt<1.15,>=1.11.0 in c:\\python310\\lib\\site-packages (from tensorflow-intel==2.12.0->tensorflow) (1.14.1)\n",
      "Requirement already satisfied: grpcio<2.0,>=1.24.3 in c:\\python310\\lib\\site-packages (from tensorflow-intel==2.12.0->tensorflow) (1.54.2)\n",
      "Requirement already satisfied: tensorboard<2.13,>=2.12 in c:\\python310\\lib\\site-packages (from tensorflow-intel==2.12.0->tensorflow) (2.12.3)\n",
      "Requirement already satisfied: tensorflow-estimator<2.13,>=2.12.0 in c:\\python310\\lib\\site-packages (from tensorflow-intel==2.12.0->tensorflow) (2.12.0)\n",
      "Requirement already satisfied: keras<2.13,>=2.12.0 in c:\\python310\\lib\\site-packages (from tensorflow-intel==2.12.0->tensorflow) (2.12.0)\n",
      "Requirement already satisfied: tensorflow-io-gcs-filesystem>=0.23.1 in c:\\python310\\lib\\site-packages (from tensorflow-intel==2.12.0->tensorflow) (0.31.0)\n",
      "Requirement already satisfied: wheel<1.0,>=0.23.0 in c:\\python310\\lib\\site-packages (from astunparse>=1.6.0->tensorflow-intel==2.12.0->tensorflow) (0.40.0)\n",
      "Requirement already satisfied: ml-dtypes>=0.1.0 in c:\\python310\\lib\\site-packages (from jax>=0.3.15->tensorflow-intel==2.12.0->tensorflow) (0.2.0)\n",
      "Requirement already satisfied: scipy>=1.7 in c:\\python310\\lib\\site-packages (from jax>=0.3.15->tensorflow-intel==2.12.0->tensorflow) (1.10.1)\n",
      "Requirement already satisfied: google-auth<3,>=1.6.3 in c:\\python310\\lib\\site-packages (from tensorboard<2.13,>=2.12->tensorflow-intel==2.12.0->tensorflow) (2.20.0)\n",
      "Requirement already satisfied: google-auth-oauthlib<1.1,>=0.5 in c:\\python310\\lib\\site-packages (from tensorboard<2.13,>=2.12->tensorflow-intel==2.12.0->tensorflow) (1.0.0)\n",
      "Requirement already satisfied: markdown>=2.6.8 in c:\\users\\lenovo\\appdata\\roaming\\python\\python310\\site-packages (from tensorboard<2.13,>=2.12->tensorflow-intel==2.12.0->tensorflow) (3.4.3)\n",
      "Requirement already satisfied: requests<3,>=2.21.0 in c:\\python310\\lib\\site-packages (from tensorboard<2.13,>=2.12->tensorflow-intel==2.12.0->tensorflow) (2.31.0)\n",
      "Requirement already satisfied: tensorboard-data-server<0.8.0,>=0.7.0 in c:\\python310\\lib\\site-packages (from tensorboard<2.13,>=2.12->tensorflow-intel==2.12.0->tensorflow) (0.7.1)\n",
      "Requirement already satisfied: werkzeug>=1.0.1 in c:\\python310\\lib\\site-packages (from tensorboard<2.13,>=2.12->tensorflow-intel==2.12.0->tensorflow) (2.2.3)\n",
      "Requirement already satisfied: cachetools<6.0,>=2.0.0 in c:\\python310\\lib\\site-packages (from google-auth<3,>=1.6.3->tensorboard<2.13,>=2.12->tensorflow-intel==2.12.0->tensorflow) (5.3.1)\n",
      "Requirement already satisfied: pyasn1-modules>=0.2.1 in c:\\python310\\lib\\site-packages (from google-auth<3,>=1.6.3->tensorboard<2.13,>=2.12->tensorflow-intel==2.12.0->tensorflow) (0.3.0)\n",
      "Requirement already satisfied: rsa<5,>=3.1.4 in c:\\python310\\lib\\site-packages (from google-auth<3,>=1.6.3->tensorboard<2.13,>=2.12->tensorflow-intel==2.12.0->tensorflow) (4.9)\n",
      "Requirement already satisfied: urllib3<2.0 in c:\\python310\\lib\\site-packages (from google-auth<3,>=1.6.3->tensorboard<2.13,>=2.12->tensorflow-intel==2.12.0->tensorflow) (1.26.16)\n",
      "Requirement already satisfied: requests-oauthlib>=0.7.0 in c:\\python310\\lib\\site-packages (from google-auth-oauthlib<1.1,>=0.5->tensorboard<2.13,>=2.12->tensorflow-intel==2.12.0->tensorflow) (1.3.1)\n",
      "Requirement already satisfied: charset-normalizer<4,>=2 in c:\\python310\\lib\\site-packages (from requests<3,>=2.21.0->tensorboard<2.13,>=2.12->tensorflow-intel==2.12.0->tensorflow) (3.1.0)\n",
      "Requirement already satisfied: idna<4,>=2.5 in c:\\python310\\lib\\site-packages (from requests<3,>=2.21.0->tensorboard<2.13,>=2.12->tensorflow-intel==2.12.0->tensorflow) (3.4)\n",
      "Requirement already satisfied: certifi>=2017.4.17 in c:\\python310\\lib\\site-packages (from requests<3,>=2.21.0->tensorboard<2.13,>=2.12->tensorflow-intel==2.12.0->tensorflow) (2023.5.7)\n",
      "Requirement already satisfied: MarkupSafe>=2.1.1 in c:\\python310\\lib\\site-packages (from werkzeug>=1.0.1->tensorboard<2.13,>=2.12->tensorflow-intel==2.12.0->tensorflow) (2.1.3)\n",
      "Requirement already satisfied: pyasn1<0.6.0,>=0.4.6 in c:\\python310\\lib\\site-packages (from pyasn1-modules>=0.2.1->google-auth<3,>=1.6.3->tensorboard<2.13,>=2.12->tensorflow-intel==2.12.0->tensorflow) (0.5.0)\n",
      "Requirement already satisfied: oauthlib>=3.0.0 in c:\\python310\\lib\\site-packages (from requests-oauthlib>=0.7.0->google-auth-oauthlib<1.1,>=0.5->tensorboard<2.13,>=2.12->tensorflow-intel==2.12.0->tensorflow) (3.2.2)\n"
     ]
    }
   ],
   "source": [
    "!pip install tensorflow"
   ]
  },
  {
   "cell_type": "code",
   "execution_count": 3,
   "id": "78ec2ea3",
   "metadata": {},
   "outputs": [
    {
     "name": "stdout",
     "output_type": "stream",
     "text": [
      "TensorFlow version: 2.12.0\n"
     ]
    }
   ],
   "source": [
    "import tensorflow as tf\n",
    "print(\"TensorFlow version:\", tf.__version__)"
   ]
  },
  {
   "cell_type": "markdown",
   "id": "b01f1688",
   "metadata": {},
   "source": [
    "## Q2. Load the Wine Quality dataset and explore its dimensions.\n",
    "Dataset link: https://www.kaggle.com/datasets/nareshbhat/wine-quality-binary-classification"
   ]
  },
  {
   "cell_type": "code",
   "execution_count": 5,
   "id": "d7db02a5",
   "metadata": {},
   "outputs": [],
   "source": [
    "import pandas as pd"
   ]
  },
  {
   "cell_type": "code",
   "execution_count": 6,
   "id": "6f63aeb8",
   "metadata": {},
   "outputs": [],
   "source": [
    "df = pd.read_csv(\"data\\wine.csv\")"
   ]
  },
  {
   "cell_type": "code",
   "execution_count": 7,
   "id": "19a0eaf5",
   "metadata": {},
   "outputs": [
    {
     "data": {
      "text/html": [
       "<div>\n",
       "<style scoped>\n",
       "    .dataframe tbody tr th:only-of-type {\n",
       "        vertical-align: middle;\n",
       "    }\n",
       "\n",
       "    .dataframe tbody tr th {\n",
       "        vertical-align: top;\n",
       "    }\n",
       "\n",
       "    .dataframe thead th {\n",
       "        text-align: right;\n",
       "    }\n",
       "</style>\n",
       "<table border=\"1\" class=\"dataframe\">\n",
       "  <thead>\n",
       "    <tr style=\"text-align: right;\">\n",
       "      <th></th>\n",
       "      <th>fixed acidity</th>\n",
       "      <th>volatile acidity</th>\n",
       "      <th>citric acid</th>\n",
       "      <th>residual sugar</th>\n",
       "      <th>chlorides</th>\n",
       "      <th>free sulfur dioxide</th>\n",
       "      <th>total sulfur dioxide</th>\n",
       "      <th>density</th>\n",
       "      <th>pH</th>\n",
       "      <th>sulphates</th>\n",
       "      <th>alcohol</th>\n",
       "      <th>quality</th>\n",
       "    </tr>\n",
       "  </thead>\n",
       "  <tbody>\n",
       "    <tr>\n",
       "      <th>0</th>\n",
       "      <td>7.4</td>\n",
       "      <td>0.70</td>\n",
       "      <td>0.00</td>\n",
       "      <td>1.9</td>\n",
       "      <td>0.076</td>\n",
       "      <td>11.0</td>\n",
       "      <td>34.0</td>\n",
       "      <td>0.9978</td>\n",
       "      <td>3.51</td>\n",
       "      <td>0.56</td>\n",
       "      <td>9.4</td>\n",
       "      <td>bad</td>\n",
       "    </tr>\n",
       "    <tr>\n",
       "      <th>1</th>\n",
       "      <td>7.8</td>\n",
       "      <td>0.88</td>\n",
       "      <td>0.00</td>\n",
       "      <td>2.6</td>\n",
       "      <td>0.098</td>\n",
       "      <td>25.0</td>\n",
       "      <td>67.0</td>\n",
       "      <td>0.9968</td>\n",
       "      <td>3.20</td>\n",
       "      <td>0.68</td>\n",
       "      <td>9.8</td>\n",
       "      <td>bad</td>\n",
       "    </tr>\n",
       "    <tr>\n",
       "      <th>2</th>\n",
       "      <td>7.8</td>\n",
       "      <td>0.76</td>\n",
       "      <td>0.04</td>\n",
       "      <td>2.3</td>\n",
       "      <td>0.092</td>\n",
       "      <td>15.0</td>\n",
       "      <td>54.0</td>\n",
       "      <td>0.9970</td>\n",
       "      <td>3.26</td>\n",
       "      <td>0.65</td>\n",
       "      <td>9.8</td>\n",
       "      <td>bad</td>\n",
       "    </tr>\n",
       "    <tr>\n",
       "      <th>3</th>\n",
       "      <td>11.2</td>\n",
       "      <td>0.28</td>\n",
       "      <td>0.56</td>\n",
       "      <td>1.9</td>\n",
       "      <td>0.075</td>\n",
       "      <td>17.0</td>\n",
       "      <td>60.0</td>\n",
       "      <td>0.9980</td>\n",
       "      <td>3.16</td>\n",
       "      <td>0.58</td>\n",
       "      <td>9.8</td>\n",
       "      <td>good</td>\n",
       "    </tr>\n",
       "    <tr>\n",
       "      <th>4</th>\n",
       "      <td>7.4</td>\n",
       "      <td>0.70</td>\n",
       "      <td>0.00</td>\n",
       "      <td>1.9</td>\n",
       "      <td>0.076</td>\n",
       "      <td>11.0</td>\n",
       "      <td>34.0</td>\n",
       "      <td>0.9978</td>\n",
       "      <td>3.51</td>\n",
       "      <td>0.56</td>\n",
       "      <td>9.4</td>\n",
       "      <td>bad</td>\n",
       "    </tr>\n",
       "  </tbody>\n",
       "</table>\n",
       "</div>"
      ],
      "text/plain": [
       "   fixed acidity  volatile acidity  citric acid  residual sugar  chlorides  \\\n",
       "0            7.4              0.70         0.00             1.9      0.076   \n",
       "1            7.8              0.88         0.00             2.6      0.098   \n",
       "2            7.8              0.76         0.04             2.3      0.092   \n",
       "3           11.2              0.28         0.56             1.9      0.075   \n",
       "4            7.4              0.70         0.00             1.9      0.076   \n",
       "\n",
       "   free sulfur dioxide  total sulfur dioxide  density    pH  sulphates  \\\n",
       "0                 11.0                  34.0   0.9978  3.51       0.56   \n",
       "1                 25.0                  67.0   0.9968  3.20       0.68   \n",
       "2                 15.0                  54.0   0.9970  3.26       0.65   \n",
       "3                 17.0                  60.0   0.9980  3.16       0.58   \n",
       "4                 11.0                  34.0   0.9978  3.51       0.56   \n",
       "\n",
       "   alcohol quality  \n",
       "0      9.4     bad  \n",
       "1      9.8     bad  \n",
       "2      9.8     bad  \n",
       "3      9.8    good  \n",
       "4      9.4     bad  "
      ]
     },
     "execution_count": 7,
     "metadata": {},
     "output_type": "execute_result"
    }
   ],
   "source": [
    "df.head()"
   ]
  },
  {
   "cell_type": "code",
   "execution_count": 8,
   "id": "16e71dd6",
   "metadata": {},
   "outputs": [
    {
     "data": {
      "text/plain": [
       "(1599, 12)"
      ]
     },
     "execution_count": 8,
     "metadata": {},
     "output_type": "execute_result"
    }
   ],
   "source": [
    "df.shape"
   ]
  },
  {
   "cell_type": "markdown",
   "id": "ced4e8b0",
   "metadata": {},
   "source": [
    "## Q3. Check for null values, identify categorical variables, and encode them."
   ]
  },
  {
   "cell_type": "code",
   "execution_count": 14,
   "id": "a5891919",
   "metadata": {},
   "outputs": [
    {
     "data": {
      "text/plain": [
       "fixed acidity           0\n",
       "volatile acidity        0\n",
       "citric acid             0\n",
       "residual sugar          0\n",
       "chlorides               0\n",
       "free sulfur dioxide     0\n",
       "total sulfur dioxide    0\n",
       "density                 0\n",
       "pH                      0\n",
       "sulphates               0\n",
       "alcohol                 0\n",
       "quality                 0\n",
       "dtype: int64"
      ]
     },
     "execution_count": 14,
     "metadata": {},
     "output_type": "execute_result"
    }
   ],
   "source": [
    "df.isnull().sum()"
   ]
  },
  {
   "cell_type": "markdown",
   "id": "45e84bff",
   "metadata": {},
   "source": [
    "## No Null Values in Datasets"
   ]
  },
  {
   "cell_type": "code",
   "execution_count": 29,
   "id": "0395efd1",
   "metadata": {},
   "outputs": [
    {
     "name": "stdout",
     "output_type": "stream",
     "text": [
      "Unique values in the 'quality' column: ['bad' 'good']\n"
     ]
    }
   ],
   "source": [
    "# Print the number of unique values in the \"quality\" column\n",
    "quality_unique_values = df[\"quality\"].unique()\n",
    "print(f\"Unique values in the 'quality' column: {quality_unique_values}\")\n"
   ]
  },
  {
   "cell_type": "markdown",
   "id": "a52dc5f2",
   "metadata": {},
   "source": [
    "## Here target Varaible is 'quality'is catagorical variable"
   ]
  },
  {
   "cell_type": "code",
   "execution_count": 35,
   "id": "2994396d",
   "metadata": {},
   "outputs": [],
   "source": [
    "map_target = {\n",
    "    'bad': 0,\n",
    "    'good': 1\n",
    "}\n",
    "\n",
    "df['quality'] = df['quality'].map(map_target)"
   ]
  },
  {
   "cell_type": "markdown",
   "id": "1afc4f84",
   "metadata": {},
   "source": [
    "## Mapping target variable"
   ]
  },
  {
   "cell_type": "code",
   "execution_count": 36,
   "id": "1908022f",
   "metadata": {},
   "outputs": [
    {
     "data": {
      "text/html": [
       "<div>\n",
       "<style scoped>\n",
       "    .dataframe tbody tr th:only-of-type {\n",
       "        vertical-align: middle;\n",
       "    }\n",
       "\n",
       "    .dataframe tbody tr th {\n",
       "        vertical-align: top;\n",
       "    }\n",
       "\n",
       "    .dataframe thead th {\n",
       "        text-align: right;\n",
       "    }\n",
       "</style>\n",
       "<table border=\"1\" class=\"dataframe\">\n",
       "  <thead>\n",
       "    <tr style=\"text-align: right;\">\n",
       "      <th></th>\n",
       "      <th>fixed acidity</th>\n",
       "      <th>volatile acidity</th>\n",
       "      <th>citric acid</th>\n",
       "      <th>residual sugar</th>\n",
       "      <th>chlorides</th>\n",
       "      <th>free sulfur dioxide</th>\n",
       "      <th>total sulfur dioxide</th>\n",
       "      <th>density</th>\n",
       "      <th>pH</th>\n",
       "      <th>sulphates</th>\n",
       "      <th>alcohol</th>\n",
       "      <th>quality</th>\n",
       "    </tr>\n",
       "  </thead>\n",
       "  <tbody>\n",
       "    <tr>\n",
       "      <th>0</th>\n",
       "      <td>7.4</td>\n",
       "      <td>0.70</td>\n",
       "      <td>0.00</td>\n",
       "      <td>1.9</td>\n",
       "      <td>0.076</td>\n",
       "      <td>11.0</td>\n",
       "      <td>34.0</td>\n",
       "      <td>0.9978</td>\n",
       "      <td>3.51</td>\n",
       "      <td>0.56</td>\n",
       "      <td>9.4</td>\n",
       "      <td>0</td>\n",
       "    </tr>\n",
       "    <tr>\n",
       "      <th>1</th>\n",
       "      <td>7.8</td>\n",
       "      <td>0.88</td>\n",
       "      <td>0.00</td>\n",
       "      <td>2.6</td>\n",
       "      <td>0.098</td>\n",
       "      <td>25.0</td>\n",
       "      <td>67.0</td>\n",
       "      <td>0.9968</td>\n",
       "      <td>3.20</td>\n",
       "      <td>0.68</td>\n",
       "      <td>9.8</td>\n",
       "      <td>0</td>\n",
       "    </tr>\n",
       "    <tr>\n",
       "      <th>2</th>\n",
       "      <td>7.8</td>\n",
       "      <td>0.76</td>\n",
       "      <td>0.04</td>\n",
       "      <td>2.3</td>\n",
       "      <td>0.092</td>\n",
       "      <td>15.0</td>\n",
       "      <td>54.0</td>\n",
       "      <td>0.9970</td>\n",
       "      <td>3.26</td>\n",
       "      <td>0.65</td>\n",
       "      <td>9.8</td>\n",
       "      <td>0</td>\n",
       "    </tr>\n",
       "    <tr>\n",
       "      <th>3</th>\n",
       "      <td>11.2</td>\n",
       "      <td>0.28</td>\n",
       "      <td>0.56</td>\n",
       "      <td>1.9</td>\n",
       "      <td>0.075</td>\n",
       "      <td>17.0</td>\n",
       "      <td>60.0</td>\n",
       "      <td>0.9980</td>\n",
       "      <td>3.16</td>\n",
       "      <td>0.58</td>\n",
       "      <td>9.8</td>\n",
       "      <td>1</td>\n",
       "    </tr>\n",
       "    <tr>\n",
       "      <th>4</th>\n",
       "      <td>7.4</td>\n",
       "      <td>0.70</td>\n",
       "      <td>0.00</td>\n",
       "      <td>1.9</td>\n",
       "      <td>0.076</td>\n",
       "      <td>11.0</td>\n",
       "      <td>34.0</td>\n",
       "      <td>0.9978</td>\n",
       "      <td>3.51</td>\n",
       "      <td>0.56</td>\n",
       "      <td>9.4</td>\n",
       "      <td>0</td>\n",
       "    </tr>\n",
       "  </tbody>\n",
       "</table>\n",
       "</div>"
      ],
      "text/plain": [
       "   fixed acidity  volatile acidity  citric acid  residual sugar  chlorides  \\\n",
       "0            7.4              0.70         0.00             1.9      0.076   \n",
       "1            7.8              0.88         0.00             2.6      0.098   \n",
       "2            7.8              0.76         0.04             2.3      0.092   \n",
       "3           11.2              0.28         0.56             1.9      0.075   \n",
       "4            7.4              0.70         0.00             1.9      0.076   \n",
       "\n",
       "   free sulfur dioxide  total sulfur dioxide  density    pH  sulphates  \\\n",
       "0                 11.0                  34.0   0.9978  3.51       0.56   \n",
       "1                 25.0                  67.0   0.9968  3.20       0.68   \n",
       "2                 15.0                  54.0   0.9970  3.26       0.65   \n",
       "3                 17.0                  60.0   0.9980  3.16       0.58   \n",
       "4                 11.0                  34.0   0.9978  3.51       0.56   \n",
       "\n",
       "   alcohol  quality  \n",
       "0      9.4        0  \n",
       "1      9.8        0  \n",
       "2      9.8        0  \n",
       "3      9.8        1  \n",
       "4      9.4        0  "
      ]
     },
     "execution_count": 36,
     "metadata": {},
     "output_type": "execute_result"
    }
   ],
   "source": [
    "df.head()"
   ]
  },
  {
   "cell_type": "markdown",
   "id": "09aff626",
   "metadata": {},
   "source": [
    "## Q4. Separate the features and target variables from the dataframe."
   ]
  },
  {
   "cell_type": "code",
   "execution_count": 39,
   "id": "7d8c0d9d",
   "metadata": {},
   "outputs": [
    {
     "data": {
      "text/html": [
       "<div>\n",
       "<style scoped>\n",
       "    .dataframe tbody tr th:only-of-type {\n",
       "        vertical-align: middle;\n",
       "    }\n",
       "\n",
       "    .dataframe tbody tr th {\n",
       "        vertical-align: top;\n",
       "    }\n",
       "\n",
       "    .dataframe thead th {\n",
       "        text-align: right;\n",
       "    }\n",
       "</style>\n",
       "<table border=\"1\" class=\"dataframe\">\n",
       "  <thead>\n",
       "    <tr style=\"text-align: right;\">\n",
       "      <th></th>\n",
       "      <th>fixed acidity</th>\n",
       "      <th>volatile acidity</th>\n",
       "      <th>citric acid</th>\n",
       "      <th>residual sugar</th>\n",
       "      <th>chlorides</th>\n",
       "      <th>free sulfur dioxide</th>\n",
       "      <th>total sulfur dioxide</th>\n",
       "      <th>density</th>\n",
       "      <th>pH</th>\n",
       "      <th>sulphates</th>\n",
       "      <th>alcohol</th>\n",
       "    </tr>\n",
       "  </thead>\n",
       "  <tbody>\n",
       "    <tr>\n",
       "      <th>0</th>\n",
       "      <td>7.4</td>\n",
       "      <td>0.70</td>\n",
       "      <td>0.00</td>\n",
       "      <td>1.9</td>\n",
       "      <td>0.076</td>\n",
       "      <td>11.0</td>\n",
       "      <td>34.0</td>\n",
       "      <td>0.9978</td>\n",
       "      <td>3.51</td>\n",
       "      <td>0.56</td>\n",
       "      <td>9.4</td>\n",
       "    </tr>\n",
       "    <tr>\n",
       "      <th>1</th>\n",
       "      <td>7.8</td>\n",
       "      <td>0.88</td>\n",
       "      <td>0.00</td>\n",
       "      <td>2.6</td>\n",
       "      <td>0.098</td>\n",
       "      <td>25.0</td>\n",
       "      <td>67.0</td>\n",
       "      <td>0.9968</td>\n",
       "      <td>3.20</td>\n",
       "      <td>0.68</td>\n",
       "      <td>9.8</td>\n",
       "    </tr>\n",
       "    <tr>\n",
       "      <th>2</th>\n",
       "      <td>7.8</td>\n",
       "      <td>0.76</td>\n",
       "      <td>0.04</td>\n",
       "      <td>2.3</td>\n",
       "      <td>0.092</td>\n",
       "      <td>15.0</td>\n",
       "      <td>54.0</td>\n",
       "      <td>0.9970</td>\n",
       "      <td>3.26</td>\n",
       "      <td>0.65</td>\n",
       "      <td>9.8</td>\n",
       "    </tr>\n",
       "    <tr>\n",
       "      <th>3</th>\n",
       "      <td>11.2</td>\n",
       "      <td>0.28</td>\n",
       "      <td>0.56</td>\n",
       "      <td>1.9</td>\n",
       "      <td>0.075</td>\n",
       "      <td>17.0</td>\n",
       "      <td>60.0</td>\n",
       "      <td>0.9980</td>\n",
       "      <td>3.16</td>\n",
       "      <td>0.58</td>\n",
       "      <td>9.8</td>\n",
       "    </tr>\n",
       "    <tr>\n",
       "      <th>4</th>\n",
       "      <td>7.4</td>\n",
       "      <td>0.70</td>\n",
       "      <td>0.00</td>\n",
       "      <td>1.9</td>\n",
       "      <td>0.076</td>\n",
       "      <td>11.0</td>\n",
       "      <td>34.0</td>\n",
       "      <td>0.9978</td>\n",
       "      <td>3.51</td>\n",
       "      <td>0.56</td>\n",
       "      <td>9.4</td>\n",
       "    </tr>\n",
       "  </tbody>\n",
       "</table>\n",
       "</div>"
      ],
      "text/plain": [
       "   fixed acidity  volatile acidity  citric acid  residual sugar  chlorides  \\\n",
       "0            7.4              0.70         0.00             1.9      0.076   \n",
       "1            7.8              0.88         0.00             2.6      0.098   \n",
       "2            7.8              0.76         0.04             2.3      0.092   \n",
       "3           11.2              0.28         0.56             1.9      0.075   \n",
       "4            7.4              0.70         0.00             1.9      0.076   \n",
       "\n",
       "   free sulfur dioxide  total sulfur dioxide  density    pH  sulphates  \\\n",
       "0                 11.0                  34.0   0.9978  3.51       0.56   \n",
       "1                 25.0                  67.0   0.9968  3.20       0.68   \n",
       "2                 15.0                  54.0   0.9970  3.26       0.65   \n",
       "3                 17.0                  60.0   0.9980  3.16       0.58   \n",
       "4                 11.0                  34.0   0.9978  3.51       0.56   \n",
       "\n",
       "   alcohol  \n",
       "0      9.4  \n",
       "1      9.8  \n",
       "2      9.8  \n",
       "3      9.8  \n",
       "4      9.4  "
      ]
     },
     "execution_count": 39,
     "metadata": {},
     "output_type": "execute_result"
    }
   ],
   "source": [
    "X = df.drop([\"quality\"],axis=1)\n",
    "X.head()"
   ]
  },
  {
   "cell_type": "code",
   "execution_count": 40,
   "id": "97c93932",
   "metadata": {},
   "outputs": [
    {
     "data": {
      "text/plain": [
       "0       0\n",
       "1       0\n",
       "2       0\n",
       "3       1\n",
       "4       0\n",
       "       ..\n",
       "1594    0\n",
       "1595    1\n",
       "1596    1\n",
       "1597    0\n",
       "1598    1\n",
       "Name: quality, Length: 1599, dtype: int64"
      ]
     },
     "execution_count": 40,
     "metadata": {},
     "output_type": "execute_result"
    }
   ],
   "source": [
    "y = df.quality\n",
    "y"
   ]
  },
  {
   "cell_type": "markdown",
   "id": "ceecc9dd",
   "metadata": {},
   "source": [
    "## Q5. Perform a train-test split and divide the data into training, validation, and test datasets."
   ]
  },
  {
   "cell_type": "code",
   "execution_count": 41,
   "id": "04d79531",
   "metadata": {},
   "outputs": [
    {
     "name": "stdout",
     "output_type": "stream",
     "text": [
      "Training set shape: (1023, 11)\n",
      "Validation set shape: (256, 11)\n",
      "Test set shape: (320, 11)\n"
     ]
    }
   ],
   "source": [
    "from sklearn.model_selection import train_test_split\n",
    "\n",
    "# Assuming you have already loaded and preprocessed your dataset into features (X) and target (y)\n",
    "\n",
    "# Perform train-test split\n",
    "X_train, X_test, y_train, y_test = train_test_split(X, y, test_size=0.2, random_state=42)\n",
    "\n",
    "# Further split the training set into training and validation sets\n",
    "X_train, X_val, y_train, y_val = train_test_split(X_train, y_train, test_size=0.2, random_state=42)\n",
    "\n",
    "# Print the shapes of the resulting datasets\n",
    "print(\"Training set shape:\", X_train.shape)\n",
    "print(\"Validation set shape:\", X_val.shape)\n",
    "print(\"Test set shape:\", X_test.shape)"
   ]
  },
  {
   "cell_type": "markdown",
   "id": "3875adb3",
   "metadata": {},
   "source": [
    "## Q6. Perform scaling on the dataset."
   ]
  },
  {
   "cell_type": "code",
   "execution_count": 42,
   "id": "f27b5d1a",
   "metadata": {},
   "outputs": [],
   "source": [
    "from sklearn.preprocessing import MinMaxScaler, StandardScaler\n",
    "\n",
    "# Assuming you have already divided your data into X_train, X_val, and X_test\n",
    "\n",
    "# Min-Max Scaling (Normalization)\n",
    "min_max_scaler = MinMaxScaler()\n",
    "X_train_scaled = min_max_scaler.fit_transform(X_train)\n",
    "X_val_scaled = min_max_scaler.transform(X_val)\n",
    "X_test_scaled = min_max_scaler.transform(X_test)\n",
    "\n",
    "# Standardization\n",
    "standard_scaler = StandardScaler()\n",
    "X_train_scaled = standard_scaler.fit_transform(X_train)\n",
    "X_val_scaled = standard_scaler.transform(X_val)\n",
    "X_test_scaled = standard_scaler.transform(X_test)"
   ]
  },
  {
   "cell_type": "code",
   "execution_count": 45,
   "id": "f0c31ab6",
   "metadata": {},
   "outputs": [
    {
     "name": "stdout",
     "output_type": "stream",
     "text": [
      "Scaled Training set shape: (1023, 11)\n",
      "Scaled Validation set shape: (256, 11)\n",
      "Scaled Test set shape: (320, 11)\n"
     ]
    }
   ],
   "source": [
    "# Print the shapes of the resulting datasets\n",
    "print(\"Scaled Training set shape:\", X_train_scaled.shape)\n",
    "print(\"Scaled Validation set shape:\", X_val_scaled.shape)\n",
    "print(\"Scaled Test set shape:\", X_test_scaled.shape)"
   ]
  },
  {
   "cell_type": "markdown",
   "id": "8610bcb6",
   "metadata": {},
   "source": [
    "## Q7. Create at least 2 hidden layers and an output layer for the binary categorical variables."
   ]
  },
  {
   "cell_type": "code",
   "execution_count": 47,
   "id": "5ae17d06",
   "metadata": {},
   "outputs": [],
   "source": [
    "import tensorflow as tf\n",
    "from tensorflow import keras\n",
    "from tensorflow.keras import layers\n",
    "\n",
    "# Assuming you have already scaled your data and split it into X_train_scaled, X_val_scaled, and X_test_scaled\n",
    "\n",
    "# Define the model\n",
    "model = keras.Sequential()\n",
    "model.add(layers.Dense(64, activation='relu', input_shape=(11,)))\n",
    "model.add(layers.Dense(64, activation='relu'))\n",
    "model.add(layers.Dense(1, activation='sigmoid'))"
   ]
  },
  {
   "cell_type": "markdown",
   "id": "8a2dfab3",
   "metadata": {},
   "source": [
    "## Q8. Create a Sequential model and add all the layers to it."
   ]
  },
  {
   "cell_type": "code",
   "execution_count": 49,
   "id": "f27a21d0",
   "metadata": {},
   "outputs": [
    {
     "name": "stdout",
     "output_type": "stream",
     "text": [
      "Epoch 1/10\n",
      "32/32 [==============================] - 2s 22ms/step - loss: 0.6231 - accuracy: 0.6882 - val_loss: 0.5864 - val_accuracy: 0.7305\n",
      "Epoch 2/10\n",
      "32/32 [==============================] - 0s 8ms/step - loss: 0.5435 - accuracy: 0.7410 - val_loss: 0.5503 - val_accuracy: 0.7344\n",
      "Epoch 3/10\n",
      "32/32 [==============================] - 0s 5ms/step - loss: 0.5125 - accuracy: 0.7478 - val_loss: 0.5423 - val_accuracy: 0.7734\n",
      "Epoch 4/10\n",
      "32/32 [==============================] - 0s 7ms/step - loss: 0.4990 - accuracy: 0.7517 - val_loss: 0.5352 - val_accuracy: 0.7812\n",
      "Epoch 5/10\n",
      "32/32 [==============================] - 0s 6ms/step - loss: 0.4905 - accuracy: 0.7634 - val_loss: 0.5275 - val_accuracy: 0.7891\n",
      "Epoch 6/10\n",
      "32/32 [==============================] - 0s 9ms/step - loss: 0.4837 - accuracy: 0.7674 - val_loss: 0.5270 - val_accuracy: 0.7969\n",
      "Epoch 7/10\n",
      "32/32 [==============================] - 0s 6ms/step - loss: 0.4776 - accuracy: 0.7693 - val_loss: 0.5221 - val_accuracy: 0.7812\n",
      "Epoch 8/10\n",
      "32/32 [==============================] - 0s 5ms/step - loss: 0.4722 - accuracy: 0.7693 - val_loss: 0.5242 - val_accuracy: 0.7891\n",
      "Epoch 9/10\n",
      "32/32 [==============================] - 0s 5ms/step - loss: 0.4671 - accuracy: 0.7722 - val_loss: 0.5380 - val_accuracy: 0.7891\n",
      "Epoch 10/10\n",
      "32/32 [==============================] - 0s 6ms/step - loss: 0.4602 - accuracy: 0.7703 - val_loss: 0.5227 - val_accuracy: 0.7812\n",
      "10/10 [==============================] - 0s 6ms/step - loss: 0.4965 - accuracy: 0.7375\n",
      "Test loss: 0.4965446889400482\n",
      "Test accuracy: 0.737500011920929\n"
     ]
    }
   ],
   "source": [
    "# Compile the model\n",
    "model.compile(optimizer='adam', loss='binary_crossentropy', metrics=['accuracy'])\n",
    "\n",
    "# Train the model\n",
    "model.fit(X_train_scaled, y_train, batch_size=32, epochs=10, validation_data=(X_val_scaled, y_val))\n",
    "\n",
    "# Evaluate the model on the test set\n",
    "loss, accuracy = model.evaluate(X_test_scaled, y_test)\n",
    "print(\"Test loss:\", loss)\n",
    "print(\"Test accuracy:\", accuracy)"
   ]
  },
  {
   "cell_type": "markdown",
   "id": "a531f2cc",
   "metadata": {},
   "source": [
    "## Q9. Implement a TensorBoard callback to visualize and monitor the model's training process."
   ]
  },
  {
   "cell_type": "code",
   "execution_count": 50,
   "id": "af48063d",
   "metadata": {},
   "outputs": [
    {
     "name": "stdout",
     "output_type": "stream",
     "text": [
      "Epoch 1/10\n",
      "32/32 [==============================] - 3s 36ms/step - loss: 0.6208 - accuracy: 0.6725 - val_loss: 0.5937 - val_accuracy: 0.7148\n",
      "Epoch 2/10\n",
      "32/32 [==============================] - 1s 18ms/step - loss: 0.5335 - accuracy: 0.7302 - val_loss: 0.5620 - val_accuracy: 0.7461\n",
      "Epoch 3/10\n",
      "32/32 [==============================] - 1s 17ms/step - loss: 0.5121 - accuracy: 0.7429 - val_loss: 0.5446 - val_accuracy: 0.7734\n",
      "Epoch 4/10\n",
      "32/32 [==============================] - 1s 21ms/step - loss: 0.5022 - accuracy: 0.7439 - val_loss: 0.5366 - val_accuracy: 0.7812\n",
      "Epoch 5/10\n",
      "32/32 [==============================] - 0s 16ms/step - loss: 0.4923 - accuracy: 0.7595 - val_loss: 0.5478 - val_accuracy: 0.7656\n",
      "Epoch 6/10\n",
      "32/32 [==============================] - 1s 17ms/step - loss: 0.4864 - accuracy: 0.7556 - val_loss: 0.5303 - val_accuracy: 0.7891\n",
      "Epoch 7/10\n",
      "32/32 [==============================] - 1s 17ms/step - loss: 0.4818 - accuracy: 0.7586 - val_loss: 0.5455 - val_accuracy: 0.7812\n",
      "Epoch 8/10\n",
      "32/32 [==============================] - 0s 14ms/step - loss: 0.4755 - accuracy: 0.7644 - val_loss: 0.5396 - val_accuracy: 0.7734\n",
      "Epoch 9/10\n",
      "32/32 [==============================] - 0s 12ms/step - loss: 0.4705 - accuracy: 0.7722 - val_loss: 0.5394 - val_accuracy: 0.7773\n",
      "Epoch 10/10\n",
      "32/32 [==============================] - 0s 14ms/step - loss: 0.4668 - accuracy: 0.7713 - val_loss: 0.5259 - val_accuracy: 0.7695\n",
      "10/10 [==============================] - 0s 3ms/step - loss: 0.4961 - accuracy: 0.7375\n",
      "Test loss: 0.49611639976501465\n",
      "Test accuracy: 0.737500011920929\n"
     ]
    }
   ],
   "source": [
    "from tensorflow.keras.callbacks import TensorBoard\n",
    "\n",
    "# Assuming you have already prepared and scaled your data\n",
    "\n",
    "# Define the model\n",
    "model = keras.Sequential()\n",
    "model.add(layers.Dense(64, activation='relu', input_shape=(11,)))\n",
    "model.add(layers.Dense(64, activation='relu'))\n",
    "model.add(layers.Dense(1, activation='sigmoid'))\n",
    "\n",
    "# Compile the model\n",
    "model.compile(optimizer='adam', loss='binary_crossentropy', metrics=['accuracy'])\n",
    "\n",
    "# Create a TensorBoard callback\n",
    "tensorboard_callback = TensorBoard(log_dir='./logs', histogram_freq=1)\n",
    "\n",
    "# Train the model with TensorBoard callback\n",
    "model.fit(X_train_scaled, y_train, batch_size=32, epochs=10, validation_data=(X_val_scaled, y_val), callbacks=[tensorboard_callback])\n",
    "\n",
    "# Evaluate the model on the test set\n",
    "loss, accuracy = model.evaluate(X_test_scaled, y_test)\n",
    "print(\"Test loss:\", loss)\n",
    "print(\"Test accuracy:\", accuracy)\n"
   ]
  },
  {
   "cell_type": "markdown",
   "id": "f6f9d889",
   "metadata": {},
   "source": [
    "##  Q10. Use Early Stopping to prevent overfitting by monitoring a chosen metric and stopping the training ifno improvement is observed."
   ]
  },
  {
   "cell_type": "code",
   "execution_count": 51,
   "id": "afa2a500",
   "metadata": {},
   "outputs": [
    {
     "name": "stdout",
     "output_type": "stream",
     "text": [
      "Epoch 1/10\n",
      "32/32 [==============================] - 2s 16ms/step - loss: 0.5987 - accuracy: 0.7097 - val_loss: 0.5617 - val_accuracy: 0.7305\n",
      "Epoch 2/10\n",
      "32/32 [==============================] - 0s 6ms/step - loss: 0.5310 - accuracy: 0.7370 - val_loss: 0.5379 - val_accuracy: 0.7461\n",
      "Epoch 3/10\n",
      "32/32 [==============================] - 0s 6ms/step - loss: 0.5095 - accuracy: 0.7449 - val_loss: 0.5374 - val_accuracy: 0.7617\n",
      "Epoch 4/10\n",
      "32/32 [==============================] - 0s 7ms/step - loss: 0.4961 - accuracy: 0.7576 - val_loss: 0.5311 - val_accuracy: 0.7617\n",
      "Epoch 5/10\n",
      "32/32 [==============================] - 0s 6ms/step - loss: 0.4866 - accuracy: 0.7654 - val_loss: 0.5267 - val_accuracy: 0.7734\n",
      "Epoch 6/10\n",
      "32/32 [==============================] - 0s 5ms/step - loss: 0.4798 - accuracy: 0.7693 - val_loss: 0.5341 - val_accuracy: 0.7734\n",
      "Epoch 7/10\n",
      "32/32 [==============================] - 0s 6ms/step - loss: 0.4747 - accuracy: 0.7732 - val_loss: 0.5308 - val_accuracy: 0.7891\n",
      "Epoch 8/10\n",
      "32/32 [==============================] - 0s 7ms/step - loss: 0.4718 - accuracy: 0.7781 - val_loss: 0.5305 - val_accuracy: 0.7773\n",
      "10/10 [==============================] - 0s 3ms/step - loss: 0.4996 - accuracy: 0.7406\n",
      "Test loss: 0.4995851516723633\n",
      "Test accuracy: 0.7406250238418579\n"
     ]
    }
   ],
   "source": [
    "from tensorflow.keras.callbacks import EarlyStopping\n",
    "\n",
    "# Assuming you have already prepared and scaled your data\n",
    "\n",
    "# Define the model\n",
    "model = keras.Sequential()\n",
    "model.add(layers.Dense(64, activation='relu', input_shape=(11,)))\n",
    "model.add(layers.Dense(64, activation='relu'))\n",
    "model.add(layers.Dense(1, activation='sigmoid'))\n",
    "\n",
    "# Compile the model\n",
    "model.compile(optimizer='adam', loss='binary_crossentropy', metrics=['accuracy'])\n",
    "\n",
    "# Create an EarlyStopping callback\n",
    "early_stopping_callback = EarlyStopping(monitor='val_loss', patience=3)\n",
    "\n",
    "# Train the model with EarlyStopping callback\n",
    "model.fit(X_train_scaled, y_train, batch_size=32, epochs=10, validation_data=(X_val_scaled, y_val), callbacks=[early_stopping_callback])\n",
    "\n",
    "# Evaluate the model on the test set\n",
    "loss, accuracy = model.evaluate(X_test_scaled, y_test)\n",
    "print(\"Test loss:\", loss)\n",
    "print(\"Test accuracy:\", accuracy)\n"
   ]
  },
  {
   "cell_type": "markdown",
   "id": "5e7dc3f2",
   "metadata": {},
   "source": [
    "## Q11. Implement a ModelCheckpoint callback to save the best model based on a chosen metric during training."
   ]
  },
  {
   "cell_type": "code",
   "execution_count": 52,
   "id": "a18c6345",
   "metadata": {},
   "outputs": [
    {
     "name": "stdout",
     "output_type": "stream",
     "text": [
      "Epoch 1/10\n",
      "32/32 [==============================] - 2s 16ms/step - loss: 0.6263 - accuracy: 0.6598 - val_loss: 0.6039 - val_accuracy: 0.7188\n",
      "Epoch 2/10\n",
      "32/32 [==============================] - 0s 11ms/step - loss: 0.5377 - accuracy: 0.7302 - val_loss: 0.5602 - val_accuracy: 0.7500\n",
      "Epoch 3/10\n",
      "32/32 [==============================] - 0s 6ms/step - loss: 0.5122 - accuracy: 0.7439 - val_loss: 0.5568 - val_accuracy: 0.7656\n",
      "Epoch 4/10\n",
      "32/32 [==============================] - 0s 6ms/step - loss: 0.4991 - accuracy: 0.7429 - val_loss: 0.5456 - val_accuracy: 0.7773\n",
      "Epoch 5/10\n",
      "32/32 [==============================] - 0s 7ms/step - loss: 0.4923 - accuracy: 0.7566 - val_loss: 0.5430 - val_accuracy: 0.7812\n",
      "Epoch 6/10\n",
      "32/32 [==============================] - 0s 5ms/step - loss: 0.4838 - accuracy: 0.7605 - val_loss: 0.5433 - val_accuracy: 0.7734\n",
      "Epoch 7/10\n",
      "32/32 [==============================] - 0s 8ms/step - loss: 0.4779 - accuracy: 0.7615 - val_loss: 0.5427 - val_accuracy: 0.7695\n",
      "Epoch 8/10\n",
      "32/32 [==============================] - 0s 7ms/step - loss: 0.4724 - accuracy: 0.7693 - val_loss: 0.5486 - val_accuracy: 0.7773\n",
      "Epoch 9/10\n",
      "32/32 [==============================] - 0s 6ms/step - loss: 0.4657 - accuracy: 0.7722 - val_loss: 0.5446 - val_accuracy: 0.7695\n",
      "Epoch 10/10\n",
      "32/32 [==============================] - 0s 5ms/step - loss: 0.4628 - accuracy: 0.7674 - val_loss: 0.5502 - val_accuracy: 0.7734\n",
      "10/10 [==============================] - 0s 3ms/step - loss: 0.4936 - accuracy: 0.7531\n",
      "Test loss: 0.4936003088951111\n",
      "Test accuracy: 0.753125011920929\n"
     ]
    }
   ],
   "source": [
    "from tensorflow.keras.callbacks import ModelCheckpoint\n",
    "\n",
    "# Assuming you have already prepared and scaled your data\n",
    "\n",
    "# Define the model\n",
    "model = keras.Sequential()\n",
    "model.add(layers.Dense(64, activation='relu', input_shape=(11,)))\n",
    "model.add(layers.Dense(64, activation='relu'))\n",
    "model.add(layers.Dense(1, activation='sigmoid'))\n",
    "\n",
    "# Compile the model\n",
    "model.compile(optimizer='adam', loss='binary_crossentropy', metrics=['accuracy'])\n",
    "\n",
    "# Create a ModelCheckpoint callback\n",
    "checkpoint_callback = ModelCheckpoint('best_model.h5', monitor='val_loss', save_best_only=True)\n",
    "\n",
    "# Train the model with ModelCheckpoint callback\n",
    "model.fit(X_train_scaled, y_train, batch_size=32, epochs=10, validation_data=(X_val_scaled, y_val), callbacks=[checkpoint_callback])\n",
    "\n",
    "# Load the best saved model\n",
    "best_model = keras.models.load_model('best_model.h5')\n",
    "\n",
    "# Evaluate the best model on the test set\n",
    "loss, accuracy = best_model.evaluate(X_test_scaled, y_test)\n",
    "print(\"Test loss:\", loss)\n",
    "print(\"Test accuracy:\", accuracy)\n"
   ]
  },
  {
   "cell_type": "markdown",
   "id": "09ba35b8",
   "metadata": {},
   "source": [
    "## Q12. Print the model summary."
   ]
  },
  {
   "cell_type": "code",
   "execution_count": 53,
   "id": "7ffe77e7",
   "metadata": {},
   "outputs": [
    {
     "name": "stdout",
     "output_type": "stream",
     "text": [
      "Model: \"sequential_3\"\n",
      "_________________________________________________________________\n",
      " Layer (type)                Output Shape              Param #   \n",
      "=================================================================\n",
      " dense_9 (Dense)             (None, 64)                768       \n",
      "                                                                 \n",
      " dense_10 (Dense)            (None, 64)                4160      \n",
      "                                                                 \n",
      " dense_11 (Dense)            (None, 1)                 65        \n",
      "                                                                 \n",
      "=================================================================\n",
      "Total params: 4,993\n",
      "Trainable params: 4,993\n",
      "Non-trainable params: 0\n",
      "_________________________________________________________________\n"
     ]
    }
   ],
   "source": [
    "model.summary()"
   ]
  },
  {
   "cell_type": "markdown",
   "id": "103c2359",
   "metadata": {},
   "source": [
    "## Q13. Use binary cross-entropy as the loss function, Adam optimizer, and include the metric ['accuracy']."
   ]
  },
  {
   "cell_type": "code",
   "execution_count": 56,
   "id": "77385c44",
   "metadata": {},
   "outputs": [],
   "source": [
    "model.compile(optimizer='adam', loss='binary_crossentropy', metrics=['accuracy'])"
   ]
  },
  {
   "cell_type": "markdown",
   "id": "404b8bde",
   "metadata": {},
   "source": [
    "## Q14. Compile the model with the specified loss function, optimizer, and metrics."
   ]
  },
  {
   "cell_type": "code",
   "execution_count": 57,
   "id": "f79c2aec",
   "metadata": {},
   "outputs": [
    {
     "name": "stdout",
     "output_type": "stream",
     "text": [
      "Epoch 1/10\n",
      "32/32 [==============================] - 2s 14ms/step - loss: 0.4261 - accuracy: 0.7849 - val_loss: 0.5666 - val_accuracy: 0.7812\n",
      "Epoch 2/10\n",
      "32/32 [==============================] - 0s 5ms/step - loss: 0.4221 - accuracy: 0.7967 - val_loss: 0.5633 - val_accuracy: 0.7852\n",
      "Epoch 3/10\n",
      "32/32 [==============================] - 0s 5ms/step - loss: 0.4175 - accuracy: 0.7908 - val_loss: 0.5721 - val_accuracy: 0.7852\n",
      "Epoch 4/10\n",
      "32/32 [==============================] - 0s 6ms/step - loss: 0.4179 - accuracy: 0.8006 - val_loss: 0.5620 - val_accuracy: 0.7734\n",
      "Epoch 5/10\n",
      "32/32 [==============================] - 0s 5ms/step - loss: 0.4119 - accuracy: 0.8025 - val_loss: 0.5619 - val_accuracy: 0.7930\n",
      "Epoch 6/10\n",
      "32/32 [==============================] - 0s 5ms/step - loss: 0.4083 - accuracy: 0.8035 - val_loss: 0.5665 - val_accuracy: 0.7734\n",
      "Epoch 7/10\n",
      "32/32 [==============================] - 0s 7ms/step - loss: 0.4067 - accuracy: 0.7996 - val_loss: 0.5742 - val_accuracy: 0.7930\n",
      "Epoch 8/10\n",
      "32/32 [==============================] - 0s 7ms/step - loss: 0.4033 - accuracy: 0.8074 - val_loss: 0.5771 - val_accuracy: 0.7812\n",
      "Epoch 9/10\n",
      "32/32 [==============================] - 0s 7ms/step - loss: 0.3978 - accuracy: 0.8094 - val_loss: 0.5646 - val_accuracy: 0.7852\n",
      "Epoch 10/10\n",
      "32/32 [==============================] - 0s 7ms/step - loss: 0.3989 - accuracy: 0.8065 - val_loss: 0.5602 - val_accuracy: 0.7969\n",
      "10/10 [==============================] - 0s 3ms/step - loss: 0.4808 - accuracy: 0.7469\n",
      "Test loss: 0.480835497379303\n",
      "Test accuracy: 0.746874988079071\n"
     ]
    }
   ],
   "source": [
    "model.fit(X_train_scaled, y_train, batch_size=32, epochs=10, validation_data=(X_val_scaled, y_val))\n",
    "\n",
    "# Evaluate the model on the test set\n",
    "loss, accuracy = model.evaluate(X_test_scaled, y_test)\n",
    "print(\"Test loss:\", loss)\n",
    "print(\"Test accuracy:\", accuracy)"
   ]
  },
  {
   "cell_type": "markdown",
   "id": "181d8368",
   "metadata": {},
   "source": [
    "## Q15. Fit the model to the data, incorporating the TensorBoard, Early Stopping, and ModelCheckpoint callbacks."
   ]
  },
  {
   "cell_type": "code",
   "execution_count": 59,
   "id": "256789c3",
   "metadata": {},
   "outputs": [
    {
     "name": "stdout",
     "output_type": "stream",
     "text": [
      "Epoch 1/10\n",
      "32/32 [==============================] - 3s 40ms/step - loss: 0.6197 - accuracy: 0.6794 - val_loss: 0.5908 - val_accuracy: 0.7148\n",
      "Epoch 2/10\n",
      "32/32 [==============================] - 1s 21ms/step - loss: 0.5409 - accuracy: 0.7429 - val_loss: 0.5537 - val_accuracy: 0.7227\n",
      "Epoch 3/10\n",
      "32/32 [==============================] - 1s 19ms/step - loss: 0.5149 - accuracy: 0.7498 - val_loss: 0.5485 - val_accuracy: 0.7461\n",
      "Epoch 4/10\n",
      "32/32 [==============================] - 1s 20ms/step - loss: 0.5030 - accuracy: 0.7498 - val_loss: 0.5536 - val_accuracy: 0.7539\n",
      "Epoch 5/10\n",
      "32/32 [==============================] - 1s 17ms/step - loss: 0.4901 - accuracy: 0.7625 - val_loss: 0.5322 - val_accuracy: 0.7539\n",
      "Epoch 6/10\n",
      "32/32 [==============================] - 0s 12ms/step - loss: 0.4851 - accuracy: 0.7595 - val_loss: 0.5431 - val_accuracy: 0.7773\n",
      "Epoch 7/10\n",
      "32/32 [==============================] - 0s 14ms/step - loss: 0.4806 - accuracy: 0.7615 - val_loss: 0.5534 - val_accuracy: 0.7617\n",
      "Epoch 8/10\n",
      "32/32 [==============================] - 1s 16ms/step - loss: 0.4726 - accuracy: 0.7674 - val_loss: 0.5362 - val_accuracy: 0.7734\n",
      "10/10 [==============================] - 0s 3ms/step - loss: 0.5098 - accuracy: 0.7250\n",
      "Test loss: 0.5097993612289429\n",
      "Test accuracy: 0.7250000238418579\n"
     ]
    }
   ],
   "source": [
    "# Define the model\n",
    "model = keras.Sequential()\n",
    "model.add(layers.Dense(64, activation='relu', input_shape=(11,)))\n",
    "model.add(layers.Dense(64, activation='relu'))\n",
    "model.add(layers.Dense(1, activation='sigmoid'))\n",
    "\n",
    "# Compile the model\n",
    "model.compile(optimizer='adam', loss='binary_crossentropy', metrics=['accuracy'])\n",
    "\n",
    "# Create a TensorBoard callback\n",
    "tensorboard_callback = TensorBoard(log_dir='./logs', histogram_freq=1)\n",
    "\n",
    "# Create an EarlyStopping callback\n",
    "early_stopping_callback = EarlyStopping(monitor='val_loss', patience=3)\n",
    "\n",
    "# Create a ModelCheckpoint callback\n",
    "checkpoint_callback = ModelCheckpoint('best_model.h5', monitor='val_loss', save_best_only=True)\n",
    "\n",
    "# Fit the model with callbacks\n",
    "model.fit(X_train_scaled, y_train, batch_size=32, epochs=10, validation_data=(X_val_scaled, y_val),\n",
    "          callbacks=[tensorboard_callback, early_stopping_callback, checkpoint_callback])\n",
    "\n",
    "# Load the best saved model\n",
    "best_model = keras.models.load_model('best_model.h5')\n",
    "\n",
    "# Evaluate the best model on the test set\n",
    "loss, accuracy = best_model.evaluate(X_test_scaled, y_test)\n",
    "print(\"Test loss:\", loss)\n",
    "print(\"Test accuracy:\", accuracy)"
   ]
  },
  {
   "cell_type": "markdown",
   "id": "00a224a4",
   "metadata": {},
   "source": [
    "## Q16. Get the model's parameters."
   ]
  },
  {
   "cell_type": "code",
   "execution_count": 60,
   "id": "e25a4723",
   "metadata": {},
   "outputs": [
    {
     "name": "stdout",
     "output_type": "stream",
     "text": [
      "Layer 1 parameters:\n",
      "Weights 1:\n",
      "[[-0.12919639 -0.09537315  0.07123803  0.10139541 -0.15531385  0.12151874\n",
      "   0.21027304 -0.1100284  -0.00922255  0.24187216 -0.23832893 -0.10140997\n",
      "  -0.19320606  0.08919565 -0.12224997 -0.16136323  0.23497674  0.03289062\n",
      "  -0.13690045 -0.15787937  0.04409644  0.15305428  0.19881667 -0.0123394\n",
      "   0.2135452   0.17358297 -0.1456237   0.26485327  0.04690159 -0.11511303\n",
      "  -0.2799454  -0.06348161  0.29217887 -0.14006212 -0.19705814 -0.25094327\n",
      "   0.03409597  0.22715619 -0.09634622  0.23315223 -0.16794793 -0.17809108\n",
      "   0.00315041 -0.18173209  0.2543719  -0.22569819 -0.20065768  0.12089213\n",
      "   0.10147288 -0.09845587 -0.22045727 -0.11706786 -0.05135498  0.08881758\n",
      "   0.20230418  0.08446157  0.14486289 -0.2359032   0.28777796  0.07585669\n",
      "  -0.1923465  -0.10065018 -0.09897214 -0.0204214 ]\n",
      " [-0.2793758   0.17715636  0.16510287  0.02667411 -0.1477965  -0.17774846\n",
      "   0.07717383  0.06563676  0.28478238  0.22664173  0.0682651  -0.14667611\n",
      "   0.12150628  0.2217525   0.10589619  0.2603444   0.18042599 -0.18898328\n",
      "  -0.16486762  0.22186244  0.17912307  0.10205323 -0.09203787 -0.26109794\n",
      "  -0.18414672 -0.05341734 -0.12621419 -0.20705922 -0.03924998  0.20004936\n",
      "   0.12176659 -0.03308821 -0.27688965 -0.20645876  0.05023575  0.29935488\n",
      "   0.18972997  0.18943721  0.02693865  0.1350415  -0.06154849 -0.01134625\n",
      "   0.13271564  0.2089507   0.03105087 -0.1845043   0.12647378  0.23590025\n",
      "  -0.02183094  0.20649604 -0.12132765  0.240122   -0.1088423  -0.26146105\n",
      "  -0.1722661   0.01816716  0.03411456 -0.06402248 -0.02960773 -0.06248016\n",
      "  -0.07352079 -0.25488132  0.17652607 -0.11494257]\n",
      " [ 0.23146461  0.27407023  0.07978255 -0.04005346 -0.28302258  0.19622219\n",
      "  -0.2441052   0.14740254 -0.01654038 -0.14959735 -0.09493772  0.05137731\n",
      "   0.31612167  0.0926232   0.22618455 -0.14221409 -0.06876516 -0.13944659\n",
      "   0.14429678  0.0731506  -0.10199373 -0.15257636  0.30145442  0.02174705\n",
      "  -0.29129833 -0.1732578   0.23269434 -0.25890023 -0.03965088 -0.03444089\n",
      "  -0.24802417  0.18450946  0.06883349 -0.01963132  0.03248481  0.07837331\n",
      "   0.23995222  0.16771396  0.18643971  0.24935588  0.16731502 -0.16015628\n",
      "  -0.07678292 -0.16292684  0.15557595 -0.15242064  0.13404554  0.08989026\n",
      "  -0.16827567  0.26450413  0.13379186  0.1889109   0.08837286 -0.20894817\n",
      "  -0.16644481  0.20008601 -0.10898099  0.04030262  0.03420493  0.15931043\n",
      "   0.11223071 -0.01360189  0.2602698  -0.00777273]\n",
      " [-0.03952009  0.12382379 -0.04555001 -0.13026625  0.16260178  0.09533367\n",
      "   0.29224965  0.02360682  0.21271992  0.04789364  0.2220558  -0.25846076\n",
      "  -0.11168648 -0.0808777  -0.01252786 -0.17197123 -0.21600701  0.21199284\n",
      "   0.17806718 -0.2774418  -0.26566628  0.1652166  -0.10980148  0.14320567\n",
      "   0.17026679  0.05556476 -0.12952843 -0.09328543 -0.28325334  0.15360975\n",
      "   0.1014037   0.06312596  0.2606504  -0.2215178  -0.18959932 -0.01157826\n",
      "  -0.14272544 -0.17243262 -0.16691047  0.07429695 -0.13943954 -0.0429171\n",
      "  -0.17233287  0.00311716 -0.0787749  -0.09718688 -0.2519386  -0.01267082\n",
      "   0.1764276  -0.06181182 -0.19692959 -0.08576296  0.03926768 -0.07866105\n",
      "   0.22486748 -0.19495705 -0.03676995  0.0397699   0.20582666 -0.23689635\n",
      "  -0.14800367 -0.19690692 -0.218358   -0.07221928]\n",
      " [ 0.2316234  -0.22515827 -0.11291242  0.18472674  0.23436706  0.2776376\n",
      "  -0.02981555  0.09941249 -0.27986696 -0.2569442   0.2844997  -0.2898816\n",
      "   0.1106469  -0.0956549  -0.04395401  0.20250198 -0.03584852 -0.24474975\n",
      "   0.13279836  0.18434933 -0.11227813 -0.10503005 -0.02772684  0.00735551\n",
      "   0.01252575 -0.09391338  0.16231944 -0.01914672 -0.2322211  -0.22391249\n",
      "   0.2800896   0.10183659 -0.03492855  0.06384879  0.01288727  0.0940338\n",
      "  -0.2270935   0.00266143 -0.08232846 -0.08599762  0.14389916  0.03780719\n",
      "   0.2017431   0.00745524 -0.0040652  -0.19814672 -0.08503009 -0.0247498\n",
      "  -0.22189243  0.21431293  0.2305192   0.09851883  0.00785803  0.1475344\n",
      "   0.2381207  -0.09687697 -0.16219912  0.25462335 -0.23487885 -0.04248935\n",
      "  -0.32454935  0.11065015 -0.21148053 -0.12166667]\n",
      " [-0.18501669 -0.25136492 -0.1935609  -0.16811633 -0.15073201 -0.04523641\n",
      "  -0.02116396  0.03979507 -0.20556103 -0.22798933  0.28561968 -0.05634007\n",
      "  -0.27722794  0.11174048  0.18530403  0.05359969  0.2071592   0.16858189\n",
      "  -0.00484269  0.12795578 -0.02343133  0.12461829  0.03602968  0.05248178\n",
      "  -0.0763716  -0.35623947 -0.13038196 -0.26863658  0.16343528  0.22196326\n",
      "   0.2779565   0.26192728 -0.18789582  0.22585802  0.15151086 -0.06393901\n",
      "  -0.00441126 -0.05543468  0.17515464  0.14054081 -0.12890252 -0.12906857\n",
      "   0.11025866  0.04911158 -0.2257333   0.02642783 -0.12354743 -0.09966613\n",
      "  -0.13293114  0.08920924 -0.19811913  0.13553433  0.04202206 -0.10218144\n",
      "  -0.13575217  0.04676051 -0.22670029  0.05837288 -0.05206103 -0.2056647\n",
      "   0.2723768   0.15152228 -0.04244758  0.09744363]\n",
      " [-0.07903152 -0.0660191  -0.27349466  0.16926807  0.25549868  0.23106457\n",
      "  -0.03214391  0.3229962   0.25007746 -0.09133099 -0.07514482  0.05875754\n",
      "  -0.21953    -0.00461239 -0.04514802  0.05951736  0.07860216 -0.21479356\n",
      "   0.16549787 -0.15902838 -0.1536514   0.11355335 -0.28690854  0.03555344\n",
      "  -0.14512965 -0.07742572 -0.26766166 -0.08969332 -0.21654183  0.22685257\n",
      "  -0.21549977 -0.23630369  0.08756393 -0.2993908  -0.20655844  0.2530842\n",
      "   0.2323111  -0.11020025 -0.32735413 -0.17992355 -0.0699411   0.16877924\n",
      "   0.05033431  0.2089681  -0.12090319  0.06408456 -0.2326268  -0.09363398\n",
      "   0.28482994 -0.2082707  -0.11679599 -0.15982473 -0.19248714 -0.10233305\n",
      "  -0.00425433  0.09650218  0.27369842  0.02490953 -0.1940425  -0.1712197\n",
      "  -0.22858371  0.2733526  -0.01721066  0.12343345]\n",
      " [-0.26121712 -0.10322015  0.23968866  0.06559534 -0.27673933  0.23042402\n",
      "   0.28681016 -0.22512059  0.24168405  0.11251085  0.1237229  -0.2397403\n",
      "   0.04183831 -0.0780248  -0.04595601  0.01073174  0.18437107 -0.08413743\n",
      "  -0.01623527  0.05322669  0.0637161  -0.30260387 -0.15126061 -0.0936985\n",
      "  -0.28395212  0.23330966  0.18003719  0.27943954 -0.11622966  0.05197593\n",
      "  -0.03329451 -0.15854913 -0.22800648 -0.17547086 -0.07564034 -0.15975013\n",
      "  -0.11367457 -0.3102115  -0.27095953  0.03703816  0.2704667   0.0685754\n",
      "  -0.15849818 -0.2608111   0.14934793 -0.20455687  0.12495931  0.1243449\n",
      "   0.2259647  -0.31346682  0.15175103  0.04284962 -0.19918382  0.05919215\n",
      "  -0.15716112  0.13937801  0.08194268  0.22012258  0.12348703  0.18787047\n",
      "  -0.01706626 -0.25129816 -0.18082108 -0.0527088 ]\n",
      " [ 0.25650007 -0.2728985  -0.08324486  0.16845654 -0.12421191  0.14007418\n",
      "  -0.17974249 -0.24501464 -0.17275861  0.237468    0.2218519  -0.2493005\n",
      "   0.21343663  0.01366467 -0.02592317  0.00201942  0.0653751   0.11504038\n",
      "  -0.23480482 -0.06949696  0.30082056  0.16416058  0.04801323 -0.03850011\n",
      "   0.07959291  0.15778835 -0.21687727 -0.13841559 -0.23269129  0.23605797\n",
      "  -0.34024617  0.16956405 -0.12265126  0.26880625  0.17907363 -0.13654917\n",
      "   0.15695894 -0.00174867  0.20758247  0.16262501  0.19333006  0.08083433\n",
      "   0.24325272  0.14319928 -0.14223258 -0.19693686 -0.11197437 -0.1146168\n",
      "   0.27388936 -0.04615909 -0.07710996 -0.19295318 -0.13986146 -0.19027165\n",
      "   0.1685654   0.07831044 -0.18030363 -0.08498158 -0.21868154  0.13272874\n",
      "   0.30197617  0.07207751 -0.24980475 -0.1303907 ]\n",
      " [-0.02036176  0.27237687  0.28759497 -0.2241178   0.24104449  0.24403594\n",
      "   0.22428079 -0.22760375  0.05333022 -0.25566033 -0.07529432  0.02360122\n",
      "  -0.35451114 -0.29348928 -0.14300443 -0.34217617  0.28511307  0.17907323\n",
      "   0.19927903 -0.08046259 -0.28651255  0.21748774  0.0774121   0.12489276\n",
      "   0.18003388 -0.36684352  0.23671874  0.03184785 -0.01968941 -0.22126606\n",
      "  -0.01846465  0.00681827  0.19159292  0.00299961 -0.36037916  0.2802766\n",
      "   0.16891783  0.19590507  0.16167507  0.2623592   0.11575403 -0.1901496\n",
      "  -0.1295317   0.09467233  0.21030049  0.13896388  0.2795268  -0.01385673\n",
      "  -0.27466664  0.25498313 -0.24959695 -0.03176606  0.31758368  0.18436356\n",
      "  -0.15367667 -0.09062783 -0.12234166  0.3037146  -0.01864698 -0.24156554\n",
      "  -0.25342265  0.17713891 -0.08368092 -0.10443253]\n",
      " [ 0.07460658  0.19650032  0.06308589 -0.0220317  -0.18751213  0.09747478\n",
      "   0.26001376 -0.06913708 -0.1555371   0.252371   -0.2393978  -0.13019305\n",
      "   0.01882149 -0.14323555 -0.06657552 -0.29443035 -0.15885872 -0.19002202\n",
      "  -0.05767224 -0.02884915  0.14362939  0.30420366 -0.20593391  0.32408264\n",
      "  -0.03822679  0.26265702  0.01686113 -0.12416172 -0.01372772  0.0624717\n",
      "  -0.26131326 -0.20751888  0.07214276  0.1622622  -0.10612535 -0.34692362\n",
      "  -0.02167571 -0.19080561  0.01896548 -0.04631567  0.24558014  0.10801043\n",
      "  -0.08912574  0.2937295  -0.1239064  -0.262129    0.28531888  0.16812588\n",
      "   0.05021882  0.04451814 -0.29199234  0.19578913  0.15081124  0.21857864\n",
      "   0.12954263  0.31749445 -0.09313224  0.21422568  0.13360569 -0.00170454\n",
      "   0.04829966  0.23272376  0.1493062   0.09534122]]\n",
      "\n",
      "Weights 2:\n",
      "[ 0.03588469  0.03664543  0.0327025   0.03888624  0.0672776   0.00107814\n",
      " -0.00470746  0.05671452  0.03175364 -0.04964892 -0.02417993 -0.01343537\n",
      " -0.05225234 -0.01006157  0.00192265  0.01536486 -0.01758811 -0.02617544\n",
      "  0.01662318 -0.03203309 -0.00548967  0.05642934  0.03447436  0.04497058\n",
      "  0.06036212 -0.01861265  0.03984441 -0.02182938 -0.00380168 -0.04526003\n",
      "  0.00495565 -0.00350884  0.03737331  0.06338738 -0.02312375  0.01509441\n",
      " -0.03042469 -0.0789971   0.05480162  0.00647962  0.0150768  -0.05633131\n",
      "  0.00800791  0.05210335  0.01437786 -0.03265611  0.05769346  0.01437277\n",
      " -0.04663871  0.04044094  0.01385521  0.00101529  0.01812435  0.04538869\n",
      " -0.06091771  0.02435771  0.05052276  0.07984405 -0.00922158 -0.00954225\n",
      "  0.04710021  0.04524011 -0.01156999  0.01841959]\n",
      "\n",
      "Layer 2 parameters:\n",
      "Weights 1:\n",
      "[[ 0.23359765  0.09224368 -0.13395485 ...  0.15719792  0.1028396\n",
      "   0.00316744]\n",
      " [ 0.13093658  0.17194417  0.06706049 ...  0.15724084  0.14407611\n",
      "  -0.13923018]\n",
      " [-0.00034224  0.09319142 -0.02453819 ...  0.1555812   0.04033521\n",
      "   0.05475754]\n",
      " ...\n",
      " [-0.08764631 -0.15078619 -0.03300191 ...  0.14966875 -0.12978803\n",
      "   0.17146547]\n",
      " [ 0.0426838   0.19673744  0.04367719 ... -0.00125044  0.07854101\n",
      "   0.11861687]\n",
      " [ 0.12617636  0.17003365 -0.19750701 ...  0.23300688  0.10584082\n",
      "   0.13634093]]\n",
      "\n",
      "Weights 2:\n",
      "[ 5.0650951e-02  5.1839557e-02  3.6627545e-03  3.5335898e-02\n",
      "  7.3701322e-02 -3.5343049e-03  7.0072360e-02  5.8827563e-03\n",
      "  2.7587859e-02 -3.4528922e-02 -9.6564377e-03  5.6997210e-02\n",
      "  2.8556533e-02  2.7948799e-02 -6.2691201e-03 -2.9590504e-02\n",
      "  5.9066765e-02  3.5065413e-02  4.5321237e-02  3.8072057e-02\n",
      "  2.0953223e-02 -5.3103361e-03 -9.9977665e-04 -4.3657036e-03\n",
      "  3.2433888e-03 -1.5114728e-02 -3.4677709e-05 -3.2204635e-02\n",
      "  1.3187421e-02  1.9109793e-02  1.3442772e-02  1.4380620e-02\n",
      "  3.8899247e-02  2.9255807e-02  3.6813751e-02 -2.6075344e-05\n",
      "  6.3331816e-03 -8.4030489e-03  2.0661540e-03 -5.3718430e-03\n",
      "  2.0044148e-02 -2.5596186e-03  6.9657755e-03 -2.3222206e-02\n",
      "  1.7738059e-02  1.7687166e-02 -1.5884081e-03  6.9084585e-02\n",
      " -3.6535617e-02  9.8219048e-03  4.7897804e-03  4.7367007e-02\n",
      "  5.9098299e-03 -1.0248796e-02  2.5210435e-02 -1.4863660e-02\n",
      " -1.5011717e-02  4.5265056e-02 -6.0621062e-03  3.2167282e-02\n",
      " -6.7331316e-03  4.1896626e-02  3.4423396e-02  6.0677845e-02]\n",
      "\n",
      "Layer 3 parameters:\n",
      "Weights 1:\n",
      "[[ 0.15811925]\n",
      " [ 0.12876886]\n",
      " [-0.08937025]\n",
      " [ 0.31905782]\n",
      " [ 0.15480472]\n",
      " [-0.26731476]\n",
      " [ 0.06202752]\n",
      " [-0.3001524 ]\n",
      " [ 0.16392998]\n",
      " [-0.03086169]\n",
      " [-0.21269475]\n",
      " [ 0.08804948]\n",
      " [ 0.3754107 ]\n",
      " [ 0.06184297]\n",
      " [-0.12043066]\n",
      " [-0.23929471]\n",
      " [ 0.30055892]\n",
      " [ 0.35561672]\n",
      " [-0.14879857]\n",
      " [ 0.09733474]\n",
      " [ 0.19122142]\n",
      " [-0.26703244]\n",
      " [-0.22508098]\n",
      " [-0.15372726]\n",
      " [-0.03693569]\n",
      " [-0.04985262]\n",
      " [-0.286447  ]\n",
      " [-0.259351  ]\n",
      " [-0.2089351 ]\n",
      " [-0.10674615]\n",
      " [-0.07293483]\n",
      " [ 0.12908901]\n",
      " [ 0.3082879 ]\n",
      " [-0.29945445]\n",
      " [ 0.25574848]\n",
      " [-0.27711403]\n",
      " [ 0.2516665 ]\n",
      " [-0.35688046]\n",
      " [-0.05705373]\n",
      " [-0.00428926]\n",
      " [-0.30342433]\n",
      " [-0.1908992 ]\n",
      " [-0.08504625]\n",
      " [-0.2951399 ]\n",
      " [ 0.01535318]\n",
      " [-0.39796335]\n",
      " [-0.08426578]\n",
      " [ 0.2997386 ]\n",
      " [-0.26379275]\n",
      " [ 0.20073976]\n",
      " [-0.03758351]\n",
      " [ 0.07736613]\n",
      " [-0.07601082]\n",
      " [ 0.25556374]\n",
      " [ 0.06155393]\n",
      " [ 0.24081889]\n",
      " [-0.25333992]\n",
      " [ 0.25870502]\n",
      " [ 0.03574417]\n",
      " [ 0.30467778]\n",
      " [-0.18607655]\n",
      " [ 0.10388019]\n",
      " [ 0.09873166]\n",
      " [ 0.18815982]]\n",
      "\n",
      "Weights 2:\n",
      "[0.03008319]\n",
      "\n"
     ]
    }
   ],
   "source": [
    "model_params = []\n",
    "for layer in model.layers:\n",
    "    layer_params = layer.get_weights()\n",
    "    model_params.append(layer_params)\n",
    "\n",
    "# Print the model's parameters\n",
    "for i, layer_params in enumerate(model_params):\n",
    "    print(f\"Layer {i+1} parameters:\")\n",
    "    for j, weights in enumerate(layer_params):\n",
    "        print(f\"Weights {j+1}:\")\n",
    "        print(weights)\n",
    "        print()\n"
   ]
  },
  {
   "cell_type": "markdown",
   "id": "58c0bcd7",
   "metadata": {},
   "source": [
    "## Q17. Store the model's training history as a Pandas DataFrame."
   ]
  },
  {
   "cell_type": "code",
   "execution_count": 63,
   "id": "f3720631",
   "metadata": {},
   "outputs": [
    {
     "data": {
      "text/html": [
       "<div>\n",
       "<style scoped>\n",
       "    .dataframe tbody tr th:only-of-type {\n",
       "        vertical-align: middle;\n",
       "    }\n",
       "\n",
       "    .dataframe tbody tr th {\n",
       "        vertical-align: top;\n",
       "    }\n",
       "\n",
       "    .dataframe thead th {\n",
       "        text-align: right;\n",
       "    }\n",
       "</style>\n",
       "<table border=\"1\" class=\"dataframe\">\n",
       "  <thead>\n",
       "    <tr style=\"text-align: right;\">\n",
       "      <th></th>\n",
       "      <th>loss</th>\n",
       "      <th>accuracy</th>\n",
       "      <th>val_loss</th>\n",
       "      <th>val_accuracy</th>\n",
       "    </tr>\n",
       "  </thead>\n",
       "  <tbody>\n",
       "    <tr>\n",
       "      <th>0</th>\n",
       "      <td>0.619745</td>\n",
       "      <td>0.679374</td>\n",
       "      <td>0.590795</td>\n",
       "      <td>0.714844</td>\n",
       "    </tr>\n",
       "    <tr>\n",
       "      <th>1</th>\n",
       "      <td>0.540931</td>\n",
       "      <td>0.742913</td>\n",
       "      <td>0.553657</td>\n",
       "      <td>0.722656</td>\n",
       "    </tr>\n",
       "    <tr>\n",
       "      <th>2</th>\n",
       "      <td>0.514926</td>\n",
       "      <td>0.749756</td>\n",
       "      <td>0.548528</td>\n",
       "      <td>0.746094</td>\n",
       "    </tr>\n",
       "    <tr>\n",
       "      <th>3</th>\n",
       "      <td>0.502983</td>\n",
       "      <td>0.749756</td>\n",
       "      <td>0.553552</td>\n",
       "      <td>0.753906</td>\n",
       "    </tr>\n",
       "    <tr>\n",
       "      <th>4</th>\n",
       "      <td>0.490065</td>\n",
       "      <td>0.762463</td>\n",
       "      <td>0.532176</td>\n",
       "      <td>0.753906</td>\n",
       "    </tr>\n",
       "    <tr>\n",
       "      <th>5</th>\n",
       "      <td>0.485146</td>\n",
       "      <td>0.759531</td>\n",
       "      <td>0.543149</td>\n",
       "      <td>0.777344</td>\n",
       "    </tr>\n",
       "    <tr>\n",
       "      <th>6</th>\n",
       "      <td>0.480576</td>\n",
       "      <td>0.761486</td>\n",
       "      <td>0.553413</td>\n",
       "      <td>0.761719</td>\n",
       "    </tr>\n",
       "    <tr>\n",
       "      <th>7</th>\n",
       "      <td>0.472609</td>\n",
       "      <td>0.767351</td>\n",
       "      <td>0.536187</td>\n",
       "      <td>0.773438</td>\n",
       "    </tr>\n",
       "  </tbody>\n",
       "</table>\n",
       "</div>"
      ],
      "text/plain": [
       "       loss  accuracy  val_loss  val_accuracy\n",
       "0  0.619745  0.679374  0.590795      0.714844\n",
       "1  0.540931  0.742913  0.553657      0.722656\n",
       "2  0.514926  0.749756  0.548528      0.746094\n",
       "3  0.502983  0.749756  0.553552      0.753906\n",
       "4  0.490065  0.762463  0.532176      0.753906\n",
       "5  0.485146  0.759531  0.543149      0.777344\n",
       "6  0.480576  0.761486  0.553413      0.761719\n",
       "7  0.472609  0.767351  0.536187      0.773438"
      ]
     },
     "execution_count": 63,
     "metadata": {},
     "output_type": "execute_result"
    }
   ],
   "source": [
    "history_df = pd.DataFrame(model.history.history)\n",
    "\n",
    "# Print the DataFrame\n",
    "history_df"
   ]
  },
  {
   "cell_type": "markdown",
   "id": "693a1acc",
   "metadata": {},
   "source": [
    "## Q18. Plot the model's training history."
   ]
  },
  {
   "cell_type": "code",
   "execution_count": 69,
   "id": "601b093b",
   "metadata": {},
   "outputs": [
    {
     "data": {
      "text/html": [
       "<div>\n",
       "<style scoped>\n",
       "    .dataframe tbody tr th:only-of-type {\n",
       "        vertical-align: middle;\n",
       "    }\n",
       "\n",
       "    .dataframe tbody tr th {\n",
       "        vertical-align: top;\n",
       "    }\n",
       "\n",
       "    .dataframe thead th {\n",
       "        text-align: right;\n",
       "    }\n",
       "</style>\n",
       "<table border=\"1\" class=\"dataframe\">\n",
       "  <thead>\n",
       "    <tr style=\"text-align: right;\">\n",
       "      <th></th>\n",
       "      <th>loss</th>\n",
       "      <th>accuracy</th>\n",
       "      <th>val_loss</th>\n",
       "      <th>val_accuracy</th>\n",
       "    </tr>\n",
       "  </thead>\n",
       "  <tbody>\n",
       "    <tr>\n",
       "      <th>0</th>\n",
       "      <td>0.619745</td>\n",
       "      <td>0.679374</td>\n",
       "      <td>0.590795</td>\n",
       "      <td>0.714844</td>\n",
       "    </tr>\n",
       "    <tr>\n",
       "      <th>1</th>\n",
       "      <td>0.540931</td>\n",
       "      <td>0.742913</td>\n",
       "      <td>0.553657</td>\n",
       "      <td>0.722656</td>\n",
       "    </tr>\n",
       "    <tr>\n",
       "      <th>2</th>\n",
       "      <td>0.514926</td>\n",
       "      <td>0.749756</td>\n",
       "      <td>0.548528</td>\n",
       "      <td>0.746094</td>\n",
       "    </tr>\n",
       "    <tr>\n",
       "      <th>3</th>\n",
       "      <td>0.502983</td>\n",
       "      <td>0.749756</td>\n",
       "      <td>0.553552</td>\n",
       "      <td>0.753906</td>\n",
       "    </tr>\n",
       "    <tr>\n",
       "      <th>4</th>\n",
       "      <td>0.490065</td>\n",
       "      <td>0.762463</td>\n",
       "      <td>0.532176</td>\n",
       "      <td>0.753906</td>\n",
       "    </tr>\n",
       "    <tr>\n",
       "      <th>5</th>\n",
       "      <td>0.485146</td>\n",
       "      <td>0.759531</td>\n",
       "      <td>0.543149</td>\n",
       "      <td>0.777344</td>\n",
       "    </tr>\n",
       "    <tr>\n",
       "      <th>6</th>\n",
       "      <td>0.480576</td>\n",
       "      <td>0.761486</td>\n",
       "      <td>0.553413</td>\n",
       "      <td>0.761719</td>\n",
       "    </tr>\n",
       "    <tr>\n",
       "      <th>7</th>\n",
       "      <td>0.472609</td>\n",
       "      <td>0.767351</td>\n",
       "      <td>0.536187</td>\n",
       "      <td>0.773438</td>\n",
       "    </tr>\n",
       "  </tbody>\n",
       "</table>\n",
       "</div>"
      ],
      "text/plain": [
       "       loss  accuracy  val_loss  val_accuracy\n",
       "0  0.619745  0.679374  0.590795      0.714844\n",
       "1  0.540931  0.742913  0.553657      0.722656\n",
       "2  0.514926  0.749756  0.548528      0.746094\n",
       "3  0.502983  0.749756  0.553552      0.753906\n",
       "4  0.490065  0.762463  0.532176      0.753906\n",
       "5  0.485146  0.759531  0.543149      0.777344\n",
       "6  0.480576  0.761486  0.553413      0.761719\n",
       "7  0.472609  0.767351  0.536187      0.773438"
      ]
     },
     "execution_count": 69,
     "metadata": {},
     "output_type": "execute_result"
    }
   ],
   "source": [
    "history_df"
   ]
  },
  {
   "cell_type": "code",
   "execution_count": 74,
   "id": "95fc531e",
   "metadata": {},
   "outputs": [
    {
     "data": {
      "image/png": "[encoded data removed]",
      "text/plain": [
       "<Figure size 640x480 with 1 Axes>"
      ]
     },
     "metadata": {},
     "output_type": "display_data"
    },
    {
     "data": {
      "image/png": "[encoded data removed]",
      "text/plain": [
       "<Figure size 640x480 with 1 Axes>"
      ]
     },
     "metadata": {},
     "output_type": "display_data"
    },
    {
     "data": {
      "image/png": "[encoded data removed]",
      "text/plain": [
       "<Figure size 640x480 with 1 Axes>"
      ]
     },
     "metadata": {},
     "output_type": "display_data"
    },
    {
     "data": {
      "image/png": "[encoded data removed]",
      "text/plain": [
       "<Figure size 640x480 with 1 Axes>"
      ]
     },
     "metadata": {},
     "output_type": "display_data"
    }
   ],
   "source": [
    "metrics = history_df.columns\n",
    "\n",
    "# Plot each metric separately\n",
    "for metric in metrics:\n",
    "    plt.plot(history_df[metric], label='Training ' + metric)\n",
    "    plt.title('Model Training History - ' + metric)\n",
    "    plt.xlabel('Epoch')\n",
    "    plt.ylabel(metric)\n",
    "    plt.legend()\n",
    "    plt.show()"
   ]
  },
  {
   "cell_type": "markdown",
   "id": "27e4c4a2",
   "metadata": {},
   "source": [
    "## Q19. Evaluate the model's performance using the test data."
   ]
  },
  {
   "cell_type": "code",
   "execution_count": 75,
   "id": "617374df",
   "metadata": {},
   "outputs": [
    {
     "name": "stdout",
     "output_type": "stream",
     "text": [
      "10/10 [==============================] - 0s 3ms/step - loss: 5.6383 - accuracy: 0.5344\n",
      "Test Loss: 5.6382856369018555\n",
      "Test Accuracy: 0.534375011920929\n"
     ]
    }
   ],
   "source": [
    "test_loss, test_accuracy = model.evaluate(X_test, y_test)\n",
    "\n",
    "# Print the test loss and accuracy\n",
    "print(\"Test Loss:\", test_loss)\n",
    "print(\"Test Accuracy:\", test_accuracy)\n"
   ]
  },
  {
   "cell_type": "markdown",
   "id": "7d8c9486",
   "metadata": {},
   "source": [
    "## Conclusion\n",
    "\n",
    "- The test loss indicates the average loss of the model's predictions on the test data, and the test accuracy represents the percentage of correctly predicted samples in the test data.\n",
    "\n",
    "- In this case, the model achieved a test accuracy of approximately 53.44% and a test loss of 5.638. Remember that these values are specific to the model and dataset used in the evaluation.\n",
    "\n",
    "\n",
    "\n",
    "\n"
   ]
  },
  {
   "cell_type": "code",
   "execution_count": null,
   "id": "3335c11b",
   "metadata": {},
   "outputs": [],
   "source": []
  },
  {
   "cell_type": "code",
   "execution_count": null,
   "id": "3a13a42c",
   "metadata": {},
   "outputs": [],
   "source": []
  }
 ],
 "metadata": {
  "kernelspec": {
   "display_name": "Python 3 (ipykernel)",
   "language": "python",
   "name": "python3"
  },
  "language_info": {
   "codemirror_mode": {
    "name": "ipython",
    "version": 3
   },
   "file_extension": ".py",
   "mimetype": "text/x-python",
   "name": "python",
   "nbconvert_exporter": "python",
   "pygments_lexer": "ipython3",
   "version": "3.10.9"
  }
 },
 "nbformat": 4,
 "nbformat_minor": 5
}
