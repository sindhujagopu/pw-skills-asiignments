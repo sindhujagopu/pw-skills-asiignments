{
 "cells": [
  {
   "cell_type": "code",
   "execution_count": null,
   "id": "5a2a634b-3760-4fb1-a891-957c9e429700",
   "metadata": {},
   "outputs": [],
   "source": [
    "Q1.You are writing code for a company. The requirement of the company is that you create a python function that will check whether the password entered by the user is correct or not. The function should take the password as input and return the string “Valid Password” if the entered password follows the below-given password guidelines else it should return “Invalid Password”.\n",
    "\n",
    "Note: 1. The Password should contain at least two uppercase letters and at least two lowercase letters. 2. The Password should contain at least a number and three special characters. 3. The length of the password should be 10 characters long."
   ]
  },
  {
   "cell_type": "code",
   "execution_count": 3,
   "id": "4815b0c1-cdfb-4190-82bf-e9dab3afadef",
   "metadata": {},
   "outputs": [
    {
     "name": "stdin",
     "output_type": "stream",
     "text": [
      "\n",
      "..Enter the Password: 12@#$DDdd6\n"
     ]
    },
    {
     "name": "stdout",
     "output_type": "stream",
     "text": [
      "\n",
      "\tVALID PASSWORD\n"
     ]
    }
   ],
   "source": [
    "a=input(\"\\n..Enter the Password:\")\n",
    "flag=1\n",
    "cond1,cond2,cond3,cond4=0,0,0,0\n",
    "if(len(a)==10):\n",
    "    for i in a:\n",
    "        if(i.isupper()):\n",
    "            cond1+=1\n",
    "        elif(i.islower()):\n",
    "            cond2+=1\n",
    "        elif(i.isdigit()):\n",
    "            cond3+=1\n",
    "        else:\n",
    "            cond4+=1\n",
    "    if(cond1>=2 and cond2>=2 and cond3>=1 and cond4>=3):\n",
    "        print(\"\\n\\tVALID PASSWORD\")\n",
    "    else:\n",
    "        flag=0\n",
    "if(len(a)!=10 or flag==0):\n",
    "    print(\"\\n\\tINVALID PASSWORD\")"
   ]
  },
  {
   "cell_type": "code",
   "execution_count": null,
   "id": "072b1609-a67d-4514-b771-ce31effec7c2",
   "metadata": {
    "tags": []
   },
   "outputs": [],
   "source": [
    "Q2. Solve the below-given questions using at least one of the following:\n",
    "\n",
    "Lambda function\n",
    "Filter function\n",
    "map function\n",
    "List Comprehension\n",
    "Check if the string starts with a particular letter\n",
    "\n",
    "Check if the string is numeric\n",
    "\n",
    "Sort a list of tuples having fruit names and their quantity. [(\"mango\",99),(\"orange\",80), (\"grapes\", 1000)]\n",
    "\n",
    "Find the squares of numbers from 1 to 10\n",
    "\n",
    "Find the cube root of numbers from 1 to 10\n",
    "\n",
    "Check if a given number is even\n",
    "\n",
    "Filter odd numbers from the given list.\n",
    "\n",
    "[1,2,3,4,5,6,7,8,9,10]\n",
    "\n",
    "Sort a list of integers into positive and negative integers lists.\n",
    "[1,2,3,4,5,6,-1,-2,-3,-4,-5,0] \n",
    "\n"
   ]
  },
  {
   "cell_type": "code",
   "execution_count": 3,
   "id": "e8f94ebd-6714-452b-b68b-1a99ae0cd229",
   "metadata": {},
   "outputs": [
    {
     "data": {
      "text/plain": [
       "True"
      ]
     },
     "execution_count": 3,
     "metadata": {},
     "output_type": "execute_result"
    }
   ],
   "source": [
    "#Check if the string starts with a particular letter\n",
    "\n",
    "def chk_start_letter(word,letter):\n",
    "    return word.startswith(letter)\n",
    "word = \"Data Science\"\n",
    "letter = \"D\"\n",
    "chk_start_letter(word,letter)"
   ]
  },
  {
   "cell_type": "code",
   "execution_count": 7,
   "id": "4e815c14-905c-440c-b383-bb5cecef07e9",
   "metadata": {},
   "outputs": [
    {
     "data": {
      "text/plain": [
       "True"
      ]
     },
     "execution_count": 7,
     "metadata": {},
     "output_type": "execute_result"
    }
   ],
   "source": [
    "#Check if the string is numeric\n",
    "\n",
    "def chk_string(word):\n",
    "    return word.isdigit()\n",
    "chk_string(\"14\")"
   ]
  },
  {
   "cell_type": "code",
   "execution_count": 8,
   "id": "89534a90-13b8-460e-a9b9-4c673cc58f5e",
   "metadata": {},
   "outputs": [
    {
     "name": "stdout",
     "output_type": "stream",
     "text": [
      "After sorting: [('orange', 80), ('mango', 99), ('grapes', 1000)]\n"
     ]
    }
   ],
   "source": [
    "#Sort a list of tuples having fruit names and their quantity. [(\"mango\",99),(\"orange\",80), (\"grapes\", 1000)]\n",
    "\n",
    "fruits = [(\"mango\",99),(\"orange\",80), (\"grapes\", 1000)]\n",
    "sort_fruits = sorted(fruits , key = lambda x: x[1])\n",
    "print(\"After sorting:\",sort_fruits)"
   ]
  },
  {
   "cell_type": "code",
   "execution_count": 9,
   "id": "2eabde26-2e50-493f-979c-48aaaa4dd95c",
   "metadata": {},
   "outputs": [
    {
     "name": "stdout",
     "output_type": "stream",
     "text": [
      "[1, 4, 9, 16, 25, 36, 49, 64, 81, 100]\n"
     ]
    }
   ],
   "source": [
    "#Find the squares of numbers from 1 to 10\n",
    "\n",
    "r=range(1,11)\n",
    "squared_numbers = list(map(lambda x: x**2, r))\n",
    "print(squared_numbers)"
   ]
  },
  {
   "cell_type": "code",
   "execution_count": 11,
   "id": "ed209016-4b08-4ab4-8091-889fe84394c8",
   "metadata": {},
   "outputs": [
    {
     "name": "stdout",
     "output_type": "stream",
     "text": [
      "[1.0, 1.26, 1.44, 1.59, 1.71, 1.82, 1.91, 2.0, 2.08, 2.15]\n"
     ]
    }
   ],
   "source": [
    "#Find the cube root of numbers from 1 to 10\n",
    "\n",
    "r1=range(1,11)\n",
    "cube_roots = list(map(lambda x: round(x**(1/3), 2), r1))\n",
    "print(cube_roots)"
   ]
  },
  {
   "cell_type": "code",
   "execution_count": 12,
   "id": "a11f8f96-c377-489c-8642-045f1d4c55f0",
   "metadata": {},
   "outputs": [
    {
     "data": {
      "text/plain": [
       "True"
      ]
     },
     "execution_count": 12,
     "metadata": {},
     "output_type": "execute_result"
    }
   ],
   "source": [
    "#Check if a given number is even\n",
    "\n",
    "def check_even(num):\n",
    "    return num % 2 == 0\n",
    "check_even(14)"
   ]
  },
  {
   "cell_type": "code",
   "execution_count": 15,
   "id": "bc21f8be-aba7-4351-81f3-57c4c7695739",
   "metadata": {},
   "outputs": [
    {
     "name": "stdout",
     "output_type": "stream",
     "text": [
      "[1, 3, 5, 7, 9]\n"
     ]
    }
   ],
   "source": [
    "#Filter odd numbers from the given list.\n",
    "#[1,2,3,4,5,6,7,8,9,10]\n",
    "\n",
    "nums = [1, 2, 3, 4, 5, 6, 7, 8, 9, 10]\n",
    "odd_nums = list(filter(lambda x: x%2!= 0,nums))\n",
    "print(odd_nums)"
   ]
  },
  {
   "cell_type": "code",
   "execution_count": 16,
   "id": "4fc24fea-7341-4f5b-af3a-f0ffe3279936",
   "metadata": {},
   "outputs": [
    {
     "name": "stdout",
     "output_type": "stream",
     "text": [
      "[1, 2, 3, 4, 5, 6]\n",
      "[-1, -2, -3, -4, -5]\n"
     ]
    }
   ],
   "source": [
    "#Sort a list of integers into positive and negative integers lists.\n",
    "#[1,2,3,4,5,6,-1,-2,-3,-4,-5,0]\n",
    "\n",
    "nums1 = [1, 2, 3, 4, 5, 6, -1, -2, -3, -4, -5, 0]\n",
    "positive_nums = list(filter(lambda x: x>0, nums1))\n",
    "negative_nums = list(filter(lambda x: x<0, nums1))\n",
    "print(positive_nums)\n",
    "print(negative_nums)"
   ]
  }
 ],
 "metadata": {
  "kernelspec": {
   "display_name": "Python 3 (ipykernel)",
   "language": "python",
   "name": "python3"
  },
  "language_info": {
   "codemirror_mode": {
    "name": "ipython",
    "version": 3
   },
   "file_extension": ".py",
   "mimetype": "text/x-python",
   "name": "python",
   "nbconvert_exporter": "python",
   "pygments_lexer": "ipython3",
   "version": "3.10.8"
  }
 },
 "nbformat": 4,
 "nbformat_minor": 5
}
