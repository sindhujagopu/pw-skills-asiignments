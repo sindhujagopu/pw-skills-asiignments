{
 "cells": [
  {
   "cell_type": "markdown",
   "id": "a268ba2c-2acb-48f9-90fd-7ceb94ad0948",
   "metadata": {},
   "source": [
    "Q1. What is Flask Framework? What are the advantages of Flask Framework?"
   ]
  },
  {
   "cell_type": "markdown",
   "id": "8be4aac3-2097-4645-aa11-ce50fedca7ff",
   "metadata": {},
   "source": [
    "Flask is a popular micro web framework for Python. It is designed to be lightweight and easy to use, allowing developers to build web applications quickly and with minimal code. Flask is known for its simplicity and flexibility, providing the essential tools needed to create web applications while leaving the rest of the design and architecture decisions to the developer.\n",
    "\n",
    "Advantages of Flask Framework:\n",
    "\n",
    "Lightweight and Simple: Flask is a micro framework, which means it doesn't come with a lot of built-in features. This simplicity makes it easy to learn and use. It allows developers to add only the components they need, keeping the codebase clean and lightweight.\n",
    "\n",
    "Flexibility: Flask provides a lot of flexibility to developers. It doesn't enforce a specific way of doing things, allowing developers to choose their preferred libraries, tools, and database systems.\n",
    "\n",
    "Extensible: While being minimalist, Flask is highly extensible. It supports a wide range of extensions that can add functionality like database integration, authentication, and more. These extensions are called Flask extensions and can be easily integrated into your project.\n",
    "\n",
    "RESTful Support: Flask makes it easy to build RESTful APIs, which are essential for developing web services that can communicate with other systems or applications.\n",
    "\n",
    "Jinja2 Templating: Flask uses Jinja2 as its template engine, which allows developers to separate the presentation layer from the application's logic, promoting cleaner and maintainable code.\n",
    "\n",
    "Large Community and Documentation: Flask has a large and active community of developers, which means you can find plenty of resources, tutorials, and plugins to help you with your project. Its documentation is extensive and well-maintained.\n",
    "\n",
    "Ideal for Small to Medium-Sized Projects: Due to its simplicity and lightweight nature, Flask is an excellent choice for small to medium-sized projects. It's especially useful for prototypes, MVPs (Minimum Viable Products), and applications where a full-fledged framework might be overkill.\n",
    "\n",
    "Testing Support: Flask provides built-in support for testing, making it easier to write and execute test cases for your applications."
   ]
  },
  {
   "cell_type": "markdown",
   "id": "30e9da04-1859-40a5-8d2a-34912cb09c1e",
   "metadata": {},
   "source": [
    "Q2. Create a simple Flask application to display ‘Hello World!!’. Attach the screenshot of the output in\n",
    "Jupyter Notebook."
   ]
  },
  {
   "cell_type": "markdown",
   "id": "65e1cb3c-cc14-4ac7-a86c-8f8841ba54a8",
   "metadata": {},
   "source": [
    "from flask import Flask\n",
    "\n",
    "app = Flask(__name__)\n",
    "\n",
    "@app.route('/')\n",
    "def hello():\n",
    "    return 'Hello World!!'\n",
    "\n",
    "if __name__ == '__main__':\n",
    "    app.run(debug=True)\n"
   ]
  },
  {
   "cell_type": "markdown",
   "id": "b342a64a-f550-445f-b848-38f7b41a49ab",
   "metadata": {},
   "source": [
    "![Screenshot](C:\\Users\\sindh\\Pictures\\Screenshots\\Screenshot1.png)"
   ]
  },
  {
   "cell_type": "markdown",
   "id": "9e633b6d-9d83-4dbf-86c6-c8d730459148",
   "metadata": {},
   "source": [
    "Q3. What is App routing in Flask? Why do we use app routes?"
   ]
  },
  {
   "cell_type": "markdown",
   "id": "cbc60010-7ac6-48c5-aa9d-0ec32d86560c",
   "metadata": {},
   "source": [
    "In Flask, app routing refers to the process of mapping URL paths to view functions or handlers that are responsible for generating the response for a particular URL. It's a way of defining what should happen when a user visits a specific URL in your web application.\n",
    "\n",
    "In Flask, the @app.route() decorator is used to define app routes. It allows you to associate a URL with a Python function, which will be executed when a request matching that URL is received by the Flask application.\n",
    "Why do we use app routes?\n",
    "\n",
    "URL Mapping: App routes provide an elegant way to map specific URLs to corresponding view functions. This helps in organizing your application and handling different URLs with specific functionalities.\n",
    "\n",
    "Handling Requests: By using app routes, you can define how your Flask application should respond to different types of HTTP requests (e.g., GET, POST, etc.) on specific URLs.\n",
    "\n",
    "Code Modularity: App routes promote code modularity, allowing you to separate different functionalities of your web application into distinct view functions, making the codebase more maintainable.\n",
    "\n",
    "Clear Structure: By defining app routes, it becomes easier for developers to understand the flow and structure of the application. The routes act as entry points to different parts of the application.\n",
    "\n",
    "RESTful APIs: For building RESTful APIs, app routes are essential as they help define the different endpoints and their associated functionalities.\n",
    "\n",
    "Flexibility: Flask allows you to define multiple routes for the same view function, handle URL parameters, and use URL converters, providing a lot of flexibility in defining the behavior of your web application."
   ]
  },
  {
   "cell_type": "code",
   "execution_count": null,
   "id": "a1133be3-8418-41d7-a1e8-fd665b59ee45",
   "metadata": {},
   "outputs": [],
   "source": [
    "Q4. Create a “/welcome” route to display the welcome message “Welcome to ABC Corporation” and a “/”\n",
    "route to show the following details:\n",
    "Company Name: ABC Corporation\n",
    "Location: India\n",
    "Contact Detail: 999-999-9999\n",
    "Attach the screenshot of the output in Jupyter Notebook."
   ]
  },
  {
   "cell_type": "code",
   "execution_count": null,
   "id": "66cfc1c8-380b-4e8a-bebb-aa846de3b92f",
   "metadata": {},
   "outputs": [],
   "source": [
    "from flask import Flask\n",
    "\n",
    "app = Flask(__name__)\n",
    "\n",
    "@app.route('/welcome')\n",
    "def welcome():\n",
    "    return 'Welcome to ABC Corporation'\n",
    "\n",
    "@app.route('/')\n",
    "def company_details():\n",
    "    company_name = 'ABC Corporation'\n",
    "    location = 'India'\n",
    "    contact_detail = '999-999-9999'\n",
    "    return f'Company Name: {company_name}<br>Location: {location}<br>Contact Detail: {contact_detail}'\n",
    "\n",
    "if __name__ == '__main__':\n",
    "    app.run(debug=True)\n"
   ]
  },
  {
   "cell_type": "markdown",
   "id": "728ed1c0-6d1a-4adb-8fe4-4add1ec6e122",
   "metadata": {},
   "source": [
    "![Screenshot](C:\\Users\\sindh\\Pictures\\Screenshots\\screenshot2.png)"
   ]
  },
  {
   "cell_type": "code",
   "execution_count": null,
   "id": "5117c461-d0a4-4623-a46b-c43102e7cd31",
   "metadata": {},
   "outputs": [],
   "source": [
    "Q5. What function is used in Flask for URL Building? Write a Python code to demonstrate the working of the\n",
    "url_for() function."
   ]
  },
  {
   "cell_type": "markdown",
   "id": "a81e75ec-8d2b-4116-80f9-d744c9629feb",
   "metadata": {},
   "source": [
    "In Flask, the url_for() function is used for URL building. It generates a URL for the specified endpoint (view function) with the given arguments. It is a very useful function as it allows you to create URLs dynamically, which is beneficial for maintaining a consistent URL structure and makes your application more flexible to changes.\n",
    "\n",
    "The url_for() function takes the name of the view function as its first argument and additional keyword arguments representing the variables used in the URL pattern of that view function.\n",
    "\n",
    "Here's an example Python code to demonstrate the working of the url_for() function:"
   ]
  },
  {
   "cell_type": "code",
   "execution_count": null,
   "id": "769c435f-897c-4d1d-b70c-9576bf53d1f2",
   "metadata": {},
   "outputs": [],
   "source": [
    "from flask import Flask, url_for\n",
    "\n",
    "app = Flask(__name__)\n",
    "\n",
    "@app.route('/')\n",
    "def home():\n",
    "    return 'Welcome to the homepage!'\n",
    "\n",
    "@app.route('/user/<username>')\n",
    "def user_profile(username):\n",
    "    return f'User Profile: {username}'\n",
    "\n",
    "@app.route('/post/<int:post_id>')\n",
    "def show_post(post_id):\n",
    "    return f'Post ID: {post_id}'\n",
    "\n",
    "if __name__ == '__main__':\n",
    "    with app.test_request_context():\n",
    "        # Generating URLs using url_for() function\n",
    "        homepage_url = url_for('home')\n",
    "        user_profile_url = url_for('user_profile', username='john_doe')\n",
    "        post_url = url_for('show_post', post_id=123)\n",
    "\n",
    "        # Printing the generated URLs\n",
    "        print(f\"Homepage URL: {homepage_url}\")\n",
    "        print(f\"User Profile URL: {user_profile_url}\")\n",
    "        print(f\"Post URL: {post_url}\")\n"
   ]
  }
 ],
 "metadata": {
  "kernelspec": {
   "display_name": "Python 3 (ipykernel)",
   "language": "python",
   "name": "python3"
  },
  "language_info": {
   "codemirror_mode": {
    "name": "ipython",
    "version": 3
   },
   "file_extension": ".py",
   "mimetype": "text/x-python",
   "name": "python",
   "nbconvert_exporter": "python",
   "pygments_lexer": "ipython3",
   "version": "3.10.8"
  }
 },
 "nbformat": 4,
 "nbformat_minor": 5
}
